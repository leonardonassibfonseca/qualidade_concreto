{
 "cells": [
  {
   "cell_type": "markdown",
   "id": "c735a59a-6eb0-40ef-afdb-407c128aeb25",
   "metadata": {
    "tags": []
   },
   "source": [
    "# Bibliotécas"
   ]
  },
  {
   "cell_type": "code",
   "execution_count": 73,
   "id": "2c9c258f-49e9-4e48-bbd5-fb01234898cf",
   "metadata": {
    "tags": []
   },
   "outputs": [],
   "source": [
    "# Manipulação de dados\n",
    "import pandas as pd\n",
    "import numpy as np\n",
    "import inflection\n",
    "\n",
    "# Visualização de dados\n",
    "import seaborn as sns\n",
    "import matplotlib.pyplot as plt\n",
    "from matplotlib.gridspec import GridSpec\n",
    "import matplotlib as mpl\n",
    "\n",
    "# Modelagem estatística\n",
    "import statsmodels.api as sm\n",
    "import statsmodels.formula.api as smf\n",
    "from scipy import stats\n",
    "\n",
    "# Machine Learning: Modelos e Avaliação\n",
    "from sklearn.dummy import DummyRegressor\n",
    "from sklearn.linear_model import LinearRegression, LassoCV, RidgeCV\n",
    "from sklearn.ensemble import RandomForestRegressor, GradientBoostingRegressor\n",
    "from sklearn.dummy import DummyRegressor\n",
    "from sklearn.preprocessing import MinMaxScaler\n",
    "from sklearn import model_selection as ms\n",
    "from sklearn.metrics import mean_absolute_error, mean_squared_error, r2_score\n",
    "from skopt import BayesSearchCV\n",
    "\n",
    "# Pipelines para tratar dados futuros\n",
    "from sklearn.compose import ColumnTransformer\n",
    "from sklearn.pipeline import Pipeline\n",
    "\n",
    "# Utilitários\n",
    "import warnings\n",
    "import pickle\n",
    "from IPython.display import HTML\n",
    "\n",
    "%matplotlib inline\n",
    "\n",
    "warnings.filterwarnings('ignore')\n",
    "\n",
    "mpl.rcParams['axes.facecolor'] = 'white'\n",
    "mpl.rcParams['axes.linewidth'] = 1\n",
    "mpl.rcParams['xtick.color'] = 'black'\n",
    "mpl.rcParams['ytick.color'] = 'black'\n",
    "mpl.rcParams['grid.color'] = 'lightgray'\n",
    "mpl.rcParams['axes.grid'] = True\n",
    "mpl.rcParams['font.size'] = 12\n",
    "\n",
    "#Configurando as paleta de cores\n",
    "color_palette = ['#023047', '#e85d04', '#0077b6', '#ff8200', '#0096c7', '#ff9c33']\n",
    "sns.set_palette(sns.color_palette(color_palette))\n",
    "\n",
    "#Cores utilizadas\n",
    "#sns.color_palette(color_palette)"
   ]
  },
  {
   "cell_type": "markdown",
   "id": "9d6ad18c-182e-4aad-a885-1106d424a7cf",
   "metadata": {
    "jp-MarkdownHeadingCollapsed": true,
    "tags": []
   },
   "source": [
    "# Funções"
   ]
  },
  {
   "cell_type": "code",
   "execution_count": 74,
   "id": "966855b3-e84e-4c09-8f6d-e21509055464",
   "metadata": {
    "tags": []
   },
   "outputs": [
    {
     "data": {
      "text/html": [
       "<style>.container{width: 100% !important;}</style>"
      ],
      "text/plain": [
       "<IPython.core.display.HTML object>"
      ]
     },
     "metadata": {},
     "output_type": "display_data"
    }
   ],
   "source": [
    "#from IPython.display import HTML\n",
    "def jupyter_settings():\n",
    "    %matplotlib inline\n",
    "\n",
    "    plt.style.use('ggplot')\n",
    "    plt.rcParams['figure.figsize'] = [20, 9]\n",
    "    plt.rcParams['font.size'] = 24\n",
    "\n",
    "    display(HTML('<style>.container{width: 100% !important;}</style>'))\n",
    "    \n",
    "    pd.options.display.max_rows = None\n",
    "    pd.options.display.max_columns = None\n",
    "    pd.set_option('display.expand_frame_repr', False)\n",
    "\n",
    "    sns.set()\n",
    "\n",
    "    # Aumenta a quantidade de texto mostrado nas células de saída\n",
    "    from IPython.core.interactiveshell import InteractiveShell\n",
    "    InteractiveShell.ast_node_interactivity = 'all'\n",
    "jupyter_settings()\n",
    "\n",
    "#import inflection\n",
    "def renomear_colunas(df):\n",
    "    title = lambda x: inflection.titleize(x)\n",
    "    snakecase = lambda x: inflection.underscore(x)\n",
    "    spaces = lambda x: x.replace(\" \", \"\")\n",
    "    cols_old = list(df.columns)\n",
    "    cols_old = list(map(title, cols_old))\n",
    "    cols_old = list(map(spaces, cols_old))\n",
    "    cols_new = list(map(snakecase, cols_old))\n",
    "    df.columns = cols_new\n",
    "    return df\n",
    "\n",
    "def descricao_estatistica_variaveis_numericas(df):\n",
    "    #Métricas de tendência central: média e mediana\n",
    "    central_1 = pd.DataFrame(df.apply(np.mean)).T\n",
    "    central_2 = pd.DataFrame(df.apply(np.median)).T\n",
    "    \n",
    "    #Métricas de dispersão: desvio padrão, mínimo, máximo, aplitude, assimetrica e curtose\n",
    "    dispersao_1 = pd.DataFrame(df.apply(np.std)).T\n",
    "    dispersao_2 = pd.DataFrame(df.apply(np.min)).T\n",
    "    dispersao_3 = pd.DataFrame(df.apply(np.max)).T\n",
    "    dispersao_4 = pd.DataFrame(df.apply(lambda x: x.max() - x.min())).T\n",
    "    dispersao_5 = pd.DataFrame(df.apply(lambda x: x.skew())).T\n",
    "    dispersao_6 = pd.DataFrame(df.apply(lambda x: x.kurtosis())).T\n",
    "    \n",
    "    metricas = pd.concat([dispersao_2, dispersao_3, dispersao_4, central_1, central_2, dispersao_1, dispersao_5, dispersao_6]).T\n",
    "    metricas.columns = ['min', 'max', 'amplitude', 'mean', 'median', 'std', 'assimetria', 'kurtosis']\n",
    "    return metricas\n",
    "\n",
    "def descricao_estatistica_variaveis_categoricas(df):\n",
    "    return df.apply(lambda x: x.unique().shape[0])\n",
    "\n",
    "def converter_para_int(dataframe: pd.DataFrame, nome_coluna: str) -> bool:\n",
    "    try:\n",
    "        dataframe[nome_coluna] = dataframe[nome_coluna].astype(int)\n",
    "        return True\n",
    "    except ValueError:\n",
    "        print(f\"Erro: Não foi possível converter a coluna '{nome_coluna}' para tipo inteiro.\")\n",
    "        return False\n",
    "\n",
    "def converter_para_data(dataframe: pd.DataFrame, nome_coluna: str, formato_data: str = None) -> bool:\n",
    "    try:\n",
    "        dataframe[nome_coluna] = pd.to_datetime(dataframe[nome_coluna])\n",
    "        return True\n",
    "    except ValueError:\n",
    "        print(f\"Erro: Não foi possível converter a coluna '{nome_coluna}' para tipo de data.\")\n",
    "        return False\n",
    "\n",
    "#import numpy as np\n",
    "#import pandas as pd\n",
    "#from sklearn.metrics import mean_absolute_error, mean_squared_error, r2_score\n",
    "#from sklearn.model_selection import KFold\n",
    "\n",
    "def ml_error(y, y_pred, desvpad = True):\n",
    "    mae = mean_absolute_error(y, y_pred)\n",
    "    mape = np.mean(np.abs((y - y_pred) / y)) * 100\n",
    "    rmse = np.sqrt(mean_squared_error(y, y_pred))\n",
    "    r2 = r2_score(y, y_pred)\n",
    "    std_mae = np.std(np.abs(y - y_pred))\n",
    "    std_mape = np.std(np.abs((y - y_pred) / y))\n",
    "    std_rmse = np.std(np.sqrt(y - y_pred))\n",
    "    \n",
    "    # Substituir NaN por 0\n",
    "    std_mae = 0 if np.isnan(std_mae) else std_mae\n",
    "    std_mape = 0 if np.isnan(std_mape) else std_mape\n",
    "    std_rmse = 0 if np.isnan(std_rmse) else std_rmse\n",
    "    \n",
    "    if desvpad:\n",
    "        return pd.DataFrame({'mae': f\"{mae:.2f} +/- {std_mae:.2f}\",\n",
    "                             'mape': f\"{mape:.2f}% +/- {std_mape:.2f}%\",\n",
    "                             'rmse': f\"{rmse:.2f} +/- {std_rmse:.2f}\",\n",
    "                             'r2': f\"{r2:.2f}\"}, index = [0])\n",
    "    else:\n",
    "        return pd.DataFrame({'mae': f\"{mae:.2f}\",\n",
    "                             'mape': f\"{mape:.2f}%\",\n",
    "                             'rmse': f\"{rmse:.2f}\",\n",
    "                             'r2': f\"{r2:.2f}\"}, index = [0])\n",
    "        \n",
    "def dados_faltantes(df):\n",
    "    faltantes_qtde = df.isna().sum()\n",
    "    faltantes_perc = df.isna().mean() * 100\n",
    "    return pd.DataFrame({'Qtde Faltantes': faltantes_qtde,\n",
    "                         'Perc Faltantes (%)': faltantes_perc}).round(2)\n",
    "    \n",
    "def linhas_duplicadas(df):\n",
    "    return (df.groupby(df.columns.tolist(), dropna = False)\n",
    "              .size()\n",
    "              .to_frame('qtde_linhas_duplicadas')\n",
    "              .query('qtde_linhas_duplicadas > 1')\n",
    "              .sort_values('qtde_linhas_duplicadas', ascending = False))\n",
    "\n",
    "def curva_gaussiana(df):\n",
    "    # Verificar se as distribuições são normais\n",
    "    columns = df.select_dtypes(include = 'number').columns\n",
    "\n",
    "    # Nível de significância para o teste (por exemplo, 0.05)\n",
    "    alpha = 0.05\n",
    "\n",
    "    # Lista para armazenar os resultados\n",
    "    results = []\n",
    "\n",
    "    # Aplicar o teste de Shapiro-Wilk para cada coluna e armazenar os resultados\n",
    "    for col in columns:\n",
    "        # Remove valores NaN antes de aplicar o teste\n",
    "        stat, p_value = stats.shapiro(df[col].dropna())\n",
    "\n",
    "        # Determina se a variável segue uma distribuição normal com base no p-valor\n",
    "        if p_value > alpha:\n",
    "            normality = \"Distribuição normal\"\n",
    "        else:\n",
    "            normality = \"Não segue distribuição normal\"\n",
    "\n",
    "        results.append({'Variável': col.capitalize(),\n",
    "                        'Estatística': f\"{stat:.4f}\",\n",
    "                        'p-valor': f\"{p_value:.8f}\",\n",
    "                        'Normalidade': normality})\n",
    "    return pd.DataFrame(results)"
   ]
  },
  {
   "cell_type": "markdown",
   "id": "2429c58a-3669-4222-a976-47d59bc01bac",
   "metadata": {
    "tags": []
   },
   "source": [
    "# 1. (Limpeza dos dados) Passo 1: Descrição dos dados"
   ]
  },
  {
   "cell_type": "markdown",
   "id": "83a2b6b0-d062-466f-b31b-f6195fb2438b",
   "metadata": {},
   "source": [
    "### 1.1 Descrição do desafio"
   ]
  },
  {
   "cell_type": "markdown",
   "id": "5d0e7eed-185d-4d3c-9856-ae18d6c98b1a",
   "metadata": {
    "jp-MarkdownHeadingCollapsed": true,
    "tags": []
   },
   "source": [
    "#### Você recebeu uma tarefa de criar um modelo de machine learning para auxiliar uma construtora a medir a resistência do concreto,\n",
    "#### pois eles dependem dessa questão para construir os seus projetos, e a equipe de engenheiros está interessada em prever a\n",
    "#### resistência do concreto, que é a parte mais importante da constução civil, dado algumas características que eles têm disponíveis. "
   ]
  },
  {
   "cell_type": "markdown",
   "id": "7918fdc7-eb83-4214-bb46-76271c903205",
   "metadata": {},
   "source": [
    "#### 1.7.1 Descrição das colunas"
   ]
  },
  {
   "cell_type": "markdown",
   "id": "4a0c2486-9518-49ec-8cdf-1d488488ab9b",
   "metadata": {},
   "source": [
    "**Cement (Cimento):** O cimento é um dos principais componentes do concreto. Ele é responsável por ligar os outros materiais, como agregados, e formar uma massa coesa. O tipo e a quantidade de cimento utilizados podem influenciar significativamente a resistência do concreto.\n",
    "\n",
    "**Slag (Escarpa):** Slag, ou escarpa, é um subproduto da produção de aço, frequentemente usado como componente do cimento ou como adição ao concreto. Sua presença pode afetar propriedades como resistência e durabilidade.\n",
    "\n",
    "**Flyash (Cinzas volantes):** Cinzas volantes são subprodutos resultantes da queima de carvão em usinas termoelétricas. Elas podem ser usadas como adição ao cimento ou ao concreto, proporcionando benefícios como melhoria da trabalhabilidade, redução do calor de hidratação e aumento da durabilidade.\n",
    "\n",
    "**Water (Água):** A água é um componente essencial do concreto, pois é necessária para a hidratação do cimento, que é o processo pelo qual o cimento reage quimicamente e endurece. A quantidade de água utilizada afeta a trabalhabilidade e a resistência do concreto.\n",
    "\n",
    "**Superplasticizer (Superplastificante):** Superplastificantes são aditivos químicos adicionados ao concreto para melhorar sua trabalhabilidade sem aumentar significativamente a quantidade de água. Eles permitem a redução da relação água/cimento, o que pode resultar em concretos mais resistentes e duráveis.\n",
    "\n",
    "**Coarse Aggregate (Agregado graúdo):** Os agregados graúdos são partículas de materiais como pedra britada, cascalho ou pedregulho, que são adicionados ao concreto para aumentar sua resistência. Eles fornecem suporte estrutural e ajudam a reduzir a quantidade de pasta de cimento necessária.\n",
    "\n",
    "**Fine Aggregate (Agregado fino):** Os agregados finos são partículas de materiais como areia ou pó de pedra, que são adicionados ao concreto para preencher os espaços entre os agregados graúdos e melhorar a trabalhabilidade.\n",
    "\n",
    "**Age (Idade em dias):** A idade do concreto se refere ao tempo decorrido desde sua mistura inicial até o momento da avaliação. A idade do concreto pode afetar sua resistência e outras propriedades, uma vez que o processo de cura e endurecimento continua ao longo do tempo.\n",
    "\n",
    "<span style = \"color:yellow\">**cs_m_pa</span> (Resistência Compressiva em Megapascal):** Este é o atributo alvo que o modelo de previsão deve estimar. Representa a resistência do concreto à compressão, medida em megapascal (MPa). É uma medida crítica da qualidade e da adequação do concreto para determinadas aplicações na construção civil."
   ]
  },
  {
   "cell_type": "markdown",
   "id": "8066e398-b4b5-4d0a-bf26-08ef9a50ac83",
   "metadata": {},
   "source": [
    "### 1.2 Carregar os dados"
   ]
  },
  {
   "cell_type": "code",
   "execution_count": 75,
   "id": "97b16d04-7cb8-4527-bb5a-9b113c7e88ed",
   "metadata": {},
   "outputs": [],
   "source": [
    "df_raw = pd.read_csv('../dataset/dados.csv')"
   ]
  },
  {
   "cell_type": "code",
   "execution_count": 76,
   "id": "437128c4-3381-4089-b9f9-f46105a10e68",
   "metadata": {
    "tags": []
   },
   "outputs": [],
   "source": [
    "df1 = df_raw.copy()"
   ]
  },
  {
   "cell_type": "code",
   "execution_count": 77,
   "id": "b846c1d0",
   "metadata": {},
   "outputs": [
    {
     "data": {
      "text/html": [
       "<div>\n",
       "<style scoped>\n",
       "    .dataframe tbody tr th:only-of-type {\n",
       "        vertical-align: middle;\n",
       "    }\n",
       "\n",
       "    .dataframe tbody tr th {\n",
       "        vertical-align: top;\n",
       "    }\n",
       "\n",
       "    .dataframe thead th {\n",
       "        text-align: right;\n",
       "    }\n",
       "</style>\n",
       "<table border=\"1\" class=\"dataframe\">\n",
       "  <thead>\n",
       "    <tr style=\"text-align: right;\">\n",
       "      <th></th>\n",
       "      <th>cement</th>\n",
       "      <th>slag</th>\n",
       "      <th>flyash</th>\n",
       "      <th>water</th>\n",
       "      <th>superplasticizer</th>\n",
       "      <th>coarseaggregate</th>\n",
       "      <th>fineaggregate</th>\n",
       "      <th>age</th>\n",
       "      <th>csMPa</th>\n",
       "    </tr>\n",
       "  </thead>\n",
       "  <tbody>\n",
       "    <tr>\n",
       "      <th>0</th>\n",
       "      <td>540.00</td>\n",
       "      <td>0.00</td>\n",
       "      <td>0.00</td>\n",
       "      <td>162.00</td>\n",
       "      <td>2.50</td>\n",
       "      <td>1040.00</td>\n",
       "      <td>676.00</td>\n",
       "      <td>28</td>\n",
       "      <td>79.99</td>\n",
       "    </tr>\n",
       "    <tr>\n",
       "      <th>1</th>\n",
       "      <td>540.00</td>\n",
       "      <td>0.00</td>\n",
       "      <td>0.00</td>\n",
       "      <td>162.00</td>\n",
       "      <td>2.50</td>\n",
       "      <td>1055.00</td>\n",
       "      <td>676.00</td>\n",
       "      <td>28</td>\n",
       "      <td>61.89</td>\n",
       "    </tr>\n",
       "    <tr>\n",
       "      <th>2</th>\n",
       "      <td>332.50</td>\n",
       "      <td>142.50</td>\n",
       "      <td>0.00</td>\n",
       "      <td>228.00</td>\n",
       "      <td>0.00</td>\n",
       "      <td>932.00</td>\n",
       "      <td>594.00</td>\n",
       "      <td>270</td>\n",
       "      <td>40.27</td>\n",
       "    </tr>\n",
       "  </tbody>\n",
       "</table>\n",
       "</div>"
      ],
      "text/plain": [
       "   cement   slag  flyash  water  superplasticizer  coarseaggregate  fineaggregate  age  csMPa\n",
       "0  540.00   0.00    0.00 162.00              2.50          1040.00         676.00   28  79.99\n",
       "1  540.00   0.00    0.00 162.00              2.50          1055.00         676.00   28  61.89\n",
       "2  332.50 142.50    0.00 228.00              0.00           932.00         594.00  270  40.27"
      ]
     },
     "execution_count": 77,
     "metadata": {},
     "output_type": "execute_result"
    }
   ],
   "source": [
    "df1.head(3)"
   ]
  },
  {
   "cell_type": "markdown",
   "id": "a4394cf2-f827-47c0-aa69-126e10586df1",
   "metadata": {},
   "source": [
    "### 1.3 Dimensão dos dados"
   ]
  },
  {
   "cell_type": "code",
   "execution_count": 78,
   "id": "937f4b16-c6e2-4ade-a8d8-bfd92922d680",
   "metadata": {
    "tags": []
   },
   "outputs": [
    {
     "data": {
      "text/plain": [
       "(1030, 9)"
      ]
     },
     "execution_count": 78,
     "metadata": {},
     "output_type": "execute_result"
    }
   ],
   "source": [
    "df1.shape"
   ]
  },
  {
   "cell_type": "markdown",
   "id": "e169b98c-244c-4581-9fff-ee0b70511927",
   "metadata": {},
   "source": [
    "### 1.4 Editar as colunas"
   ]
  },
  {
   "cell_type": "code",
   "execution_count": 79,
   "id": "ccbf3dc6",
   "metadata": {},
   "outputs": [
    {
     "data": {
      "text/html": [
       "<div>\n",
       "<style scoped>\n",
       "    .dataframe tbody tr th:only-of-type {\n",
       "        vertical-align: middle;\n",
       "    }\n",
       "\n",
       "    .dataframe tbody tr th {\n",
       "        vertical-align: top;\n",
       "    }\n",
       "\n",
       "    .dataframe thead th {\n",
       "        text-align: right;\n",
       "    }\n",
       "</style>\n",
       "<table border=\"1\" class=\"dataframe\">\n",
       "  <thead>\n",
       "    <tr style=\"text-align: right;\">\n",
       "      <th></th>\n",
       "      <th>cement</th>\n",
       "      <th>slag</th>\n",
       "      <th>flyash</th>\n",
       "      <th>water</th>\n",
       "      <th>superplasticizer</th>\n",
       "      <th>coarseaggregate</th>\n",
       "      <th>fineaggregate</th>\n",
       "      <th>age</th>\n",
       "      <th>cs_m_pa</th>\n",
       "    </tr>\n",
       "  </thead>\n",
       "  <tbody>\n",
       "    <tr>\n",
       "      <th>0</th>\n",
       "      <td>540.00</td>\n",
       "      <td>0.00</td>\n",
       "      <td>0.00</td>\n",
       "      <td>162.00</td>\n",
       "      <td>2.50</td>\n",
       "      <td>1040.00</td>\n",
       "      <td>676.00</td>\n",
       "      <td>28</td>\n",
       "      <td>79.99</td>\n",
       "    </tr>\n",
       "    <tr>\n",
       "      <th>1</th>\n",
       "      <td>540.00</td>\n",
       "      <td>0.00</td>\n",
       "      <td>0.00</td>\n",
       "      <td>162.00</td>\n",
       "      <td>2.50</td>\n",
       "      <td>1055.00</td>\n",
       "      <td>676.00</td>\n",
       "      <td>28</td>\n",
       "      <td>61.89</td>\n",
       "    </tr>\n",
       "    <tr>\n",
       "      <th>2</th>\n",
       "      <td>332.50</td>\n",
       "      <td>142.50</td>\n",
       "      <td>0.00</td>\n",
       "      <td>228.00</td>\n",
       "      <td>0.00</td>\n",
       "      <td>932.00</td>\n",
       "      <td>594.00</td>\n",
       "      <td>270</td>\n",
       "      <td>40.27</td>\n",
       "    </tr>\n",
       "  </tbody>\n",
       "</table>\n",
       "</div>"
      ],
      "text/plain": [
       "   cement   slag  flyash  water  superplasticizer  coarseaggregate  fineaggregate  age  cs_m_pa\n",
       "0  540.00   0.00    0.00 162.00              2.50          1040.00         676.00   28    79.99\n",
       "1  540.00   0.00    0.00 162.00              2.50          1055.00         676.00   28    61.89\n",
       "2  332.50 142.50    0.00 228.00              0.00           932.00         594.00  270    40.27"
      ]
     },
     "execution_count": 79,
     "metadata": {},
     "output_type": "execute_result"
    }
   ],
   "source": [
    "renomear_colunas(df1).head(3)"
   ]
  },
  {
   "cell_type": "markdown",
   "id": "98b0c49d-8261-4253-8fae-be8afc6cae3b",
   "metadata": {},
   "source": [
    "### 1.5 Tipo de dados"
   ]
  },
  {
   "cell_type": "code",
   "execution_count": 80,
   "id": "0bfcd34c-ef28-4bcb-be3f-5c2a27d70d89",
   "metadata": {
    "tags": []
   },
   "outputs": [
    {
     "data": {
      "text/plain": [
       "cement              float64\n",
       "slag                float64\n",
       "flyash              float64\n",
       "water               float64\n",
       "superplasticizer    float64\n",
       "coarseaggregate     float64\n",
       "fineaggregate       float64\n",
       "age                   int64\n",
       "cs_m_pa             float64\n",
       "dtype: object"
      ]
     },
     "execution_count": 80,
     "metadata": {},
     "output_type": "execute_result"
    }
   ],
   "source": [
    "df1.dtypes"
   ]
  },
  {
   "cell_type": "markdown",
   "id": "818678d1-4edd-43be-bbf2-145976ec79f1",
   "metadata": {},
   "source": [
    "#### <s>1.5.1 Editar os tipos de dados</s>"
   ]
  },
  {
   "cell_type": "markdown",
   "id": "022e922f-b9bb-41a4-a8fe-2bafb3605505",
   "metadata": {},
   "source": [
    "### 1.6 Verificar NA's"
   ]
  },
  {
   "cell_type": "code",
   "execution_count": 81,
   "id": "18e68069",
   "metadata": {},
   "outputs": [
    {
     "data": {
      "text/html": [
       "<div>\n",
       "<style scoped>\n",
       "    .dataframe tbody tr th:only-of-type {\n",
       "        vertical-align: middle;\n",
       "    }\n",
       "\n",
       "    .dataframe tbody tr th {\n",
       "        vertical-align: top;\n",
       "    }\n",
       "\n",
       "    .dataframe thead th {\n",
       "        text-align: right;\n",
       "    }\n",
       "</style>\n",
       "<table border=\"1\" class=\"dataframe\">\n",
       "  <thead>\n",
       "    <tr style=\"text-align: right;\">\n",
       "      <th></th>\n",
       "      <th>Qtde Faltantes</th>\n",
       "      <th>Perc Faltantes (%)</th>\n",
       "    </tr>\n",
       "  </thead>\n",
       "  <tbody>\n",
       "    <tr>\n",
       "      <th>cement</th>\n",
       "      <td>0</td>\n",
       "      <td>0.00</td>\n",
       "    </tr>\n",
       "    <tr>\n",
       "      <th>slag</th>\n",
       "      <td>0</td>\n",
       "      <td>0.00</td>\n",
       "    </tr>\n",
       "    <tr>\n",
       "      <th>flyash</th>\n",
       "      <td>0</td>\n",
       "      <td>0.00</td>\n",
       "    </tr>\n",
       "    <tr>\n",
       "      <th>water</th>\n",
       "      <td>0</td>\n",
       "      <td>0.00</td>\n",
       "    </tr>\n",
       "    <tr>\n",
       "      <th>superplasticizer</th>\n",
       "      <td>0</td>\n",
       "      <td>0.00</td>\n",
       "    </tr>\n",
       "    <tr>\n",
       "      <th>coarseaggregate</th>\n",
       "      <td>0</td>\n",
       "      <td>0.00</td>\n",
       "    </tr>\n",
       "    <tr>\n",
       "      <th>fineaggregate</th>\n",
       "      <td>0</td>\n",
       "      <td>0.00</td>\n",
       "    </tr>\n",
       "    <tr>\n",
       "      <th>age</th>\n",
       "      <td>0</td>\n",
       "      <td>0.00</td>\n",
       "    </tr>\n",
       "    <tr>\n",
       "      <th>cs_m_pa</th>\n",
       "      <td>0</td>\n",
       "      <td>0.00</td>\n",
       "    </tr>\n",
       "  </tbody>\n",
       "</table>\n",
       "</div>"
      ],
      "text/plain": [
       "                  Qtde Faltantes  Perc Faltantes (%)\n",
       "cement                         0                0.00\n",
       "slag                           0                0.00\n",
       "flyash                         0                0.00\n",
       "water                          0                0.00\n",
       "superplasticizer               0                0.00\n",
       "coarseaggregate                0                0.00\n",
       "fineaggregate                  0                0.00\n",
       "age                            0                0.00\n",
       "cs_m_pa                        0                0.00"
      ]
     },
     "execution_count": 81,
     "metadata": {},
     "output_type": "execute_result"
    }
   ],
   "source": [
    "dados_faltantes(df1)"
   ]
  },
  {
   "cell_type": "markdown",
   "id": "dfd2b000-5ef6-4f54-a0dd-7333898dac40",
   "metadata": {},
   "source": [
    "#### <s>1.6.1 Tratar NA's</s>"
   ]
  },
  {
   "cell_type": "markdown",
   "id": "694dedec-bbd4-4aa5-8bc5-26b308cc582c",
   "metadata": {},
   "source": [
    "#### <s>1.6.2 Verificar NA's novamente</s>"
   ]
  },
  {
   "cell_type": "markdown",
   "id": "cf14cbf2",
   "metadata": {},
   "source": [
    "### 1.7 Verificar valores duplicados"
   ]
  },
  {
   "cell_type": "code",
   "execution_count": 82,
   "id": "0cfab6b8",
   "metadata": {},
   "outputs": [
    {
     "data": {
      "text/html": [
       "<div>\n",
       "<style scoped>\n",
       "    .dataframe tbody tr th:only-of-type {\n",
       "        vertical-align: middle;\n",
       "    }\n",
       "\n",
       "    .dataframe tbody tr th {\n",
       "        vertical-align: top;\n",
       "    }\n",
       "\n",
       "    .dataframe thead th {\n",
       "        text-align: right;\n",
       "    }\n",
       "</style>\n",
       "<table border=\"1\" class=\"dataframe\">\n",
       "  <thead>\n",
       "    <tr style=\"text-align: right;\">\n",
       "      <th></th>\n",
       "      <th></th>\n",
       "      <th></th>\n",
       "      <th></th>\n",
       "      <th></th>\n",
       "      <th></th>\n",
       "      <th></th>\n",
       "      <th></th>\n",
       "      <th></th>\n",
       "      <th>qtde_linhas_duplicadas</th>\n",
       "    </tr>\n",
       "    <tr>\n",
       "      <th>cement</th>\n",
       "      <th>slag</th>\n",
       "      <th>flyash</th>\n",
       "      <th>water</th>\n",
       "      <th>superplasticizer</th>\n",
       "      <th>coarseaggregate</th>\n",
       "      <th>fineaggregate</th>\n",
       "      <th>age</th>\n",
       "      <th>cs_m_pa</th>\n",
       "      <th></th>\n",
       "    </tr>\n",
       "  </thead>\n",
       "  <tbody>\n",
       "    <tr>\n",
       "      <th rowspan=\"5\" valign=\"top\">362.60</th>\n",
       "      <th rowspan=\"5\" valign=\"top\">189.00</th>\n",
       "      <th rowspan=\"5\" valign=\"top\">0.00</th>\n",
       "      <th rowspan=\"5\" valign=\"top\">164.90</th>\n",
       "      <th rowspan=\"5\" valign=\"top\">11.60</th>\n",
       "      <th rowspan=\"5\" valign=\"top\">944.70</th>\n",
       "      <th rowspan=\"5\" valign=\"top\">755.80</th>\n",
       "      <th>3</th>\n",
       "      <th>35.30</th>\n",
       "      <td>4</td>\n",
       "    </tr>\n",
       "    <tr>\n",
       "      <th>28</th>\n",
       "      <th>71.30</th>\n",
       "      <td>4</td>\n",
       "    </tr>\n",
       "    <tr>\n",
       "      <th>56</th>\n",
       "      <th>77.30</th>\n",
       "      <td>4</td>\n",
       "    </tr>\n",
       "    <tr>\n",
       "      <th>91</th>\n",
       "      <th>79.30</th>\n",
       "      <td>4</td>\n",
       "    </tr>\n",
       "    <tr>\n",
       "      <th>7</th>\n",
       "      <th>55.90</th>\n",
       "      <td>3</td>\n",
       "    </tr>\n",
       "    <tr>\n",
       "      <th rowspan=\"5\" valign=\"top\">425.00</th>\n",
       "      <th rowspan=\"5\" valign=\"top\">106.30</th>\n",
       "      <th rowspan=\"5\" valign=\"top\">0.00</th>\n",
       "      <th rowspan=\"5\" valign=\"top\">153.50</th>\n",
       "      <th rowspan=\"5\" valign=\"top\">16.50</th>\n",
       "      <th rowspan=\"5\" valign=\"top\">852.10</th>\n",
       "      <th rowspan=\"5\" valign=\"top\">887.10</th>\n",
       "      <th>3</th>\n",
       "      <th>33.40</th>\n",
       "      <td>3</td>\n",
       "    </tr>\n",
       "    <tr>\n",
       "      <th>7</th>\n",
       "      <th>49.20</th>\n",
       "      <td>3</td>\n",
       "    </tr>\n",
       "    <tr>\n",
       "      <th>28</th>\n",
       "      <th>60.29</th>\n",
       "      <td>3</td>\n",
       "    </tr>\n",
       "    <tr>\n",
       "      <th>56</th>\n",
       "      <th>64.30</th>\n",
       "      <td>3</td>\n",
       "    </tr>\n",
       "    <tr>\n",
       "      <th>91</th>\n",
       "      <th>65.20</th>\n",
       "      <td>3</td>\n",
       "    </tr>\n",
       "    <tr>\n",
       "      <th>252.00</th>\n",
       "      <th>0.00</th>\n",
       "      <th>0.00</th>\n",
       "      <th>185.00</th>\n",
       "      <th>0.00</th>\n",
       "      <th>1111.00</th>\n",
       "      <th>784.00</th>\n",
       "      <th>28</th>\n",
       "      <th>19.69</th>\n",
       "      <td>2</td>\n",
       "    </tr>\n",
       "  </tbody>\n",
       "</table>\n",
       "</div>"
      ],
      "text/plain": [
       "                                                                                        qtde_linhas_duplicadas\n",
       "cement slag   flyash water  superplasticizer coarseaggregate fineaggregate age cs_m_pa                        \n",
       "362.60 189.00 0.00   164.90 11.60            944.70          755.80        3   35.30                         4\n",
       "                                                                           28  71.30                         4\n",
       "                                                                           56  77.30                         4\n",
       "                                                                           91  79.30                         4\n",
       "                                                                           7   55.90                         3\n",
       "425.00 106.30 0.00   153.50 16.50            852.10          887.10        3   33.40                         3\n",
       "                                                                           7   49.20                         3\n",
       "                                                                           28  60.29                         3\n",
       "                                                                           56  64.30                         3\n",
       "                                                                           91  65.20                         3\n",
       "252.00 0.00   0.00   185.00 0.00             1111.00         784.00        28  19.69                         2"
      ]
     },
     "execution_count": 82,
     "metadata": {},
     "output_type": "execute_result"
    }
   ],
   "source": [
    "linhas_duplicadas(df1)"
   ]
  },
  {
   "cell_type": "code",
   "execution_count": 83,
   "id": "78734a7b",
   "metadata": {},
   "outputs": [],
   "source": [
    "# Removendo os valores duplicados\n",
    "df1.drop_duplicates(inplace = True)"
   ]
  },
  {
   "cell_type": "markdown",
   "id": "b8ad9dd6-60d9-472d-b18e-60df307eae04",
   "metadata": {},
   "source": [
    "### 1.8 Descrição estatística do negócio"
   ]
  },
  {
   "cell_type": "code",
   "execution_count": 84,
   "id": "20c29f5e-bd72-4b2b-8660-b9215c747f8f",
   "metadata": {
    "tags": []
   },
   "outputs": [
    {
     "data": {
      "text/html": [
       "<div>\n",
       "<style scoped>\n",
       "    .dataframe tbody tr th:only-of-type {\n",
       "        vertical-align: middle;\n",
       "    }\n",
       "\n",
       "    .dataframe tbody tr th {\n",
       "        vertical-align: top;\n",
       "    }\n",
       "\n",
       "    .dataframe thead th {\n",
       "        text-align: right;\n",
       "    }\n",
       "</style>\n",
       "<table border=\"1\" class=\"dataframe\">\n",
       "  <thead>\n",
       "    <tr style=\"text-align: right;\">\n",
       "      <th></th>\n",
       "      <th>min</th>\n",
       "      <th>max</th>\n",
       "      <th>amplitude</th>\n",
       "      <th>mean</th>\n",
       "      <th>median</th>\n",
       "      <th>std</th>\n",
       "      <th>assimetria</th>\n",
       "      <th>kurtosis</th>\n",
       "    </tr>\n",
       "  </thead>\n",
       "  <tbody>\n",
       "    <tr>\n",
       "      <th>cement</th>\n",
       "      <td>102.00</td>\n",
       "      <td>540.00</td>\n",
       "      <td>438.00</td>\n",
       "      <td>278.63</td>\n",
       "      <td>265.00</td>\n",
       "      <td>104.29</td>\n",
       "      <td>0.56</td>\n",
       "      <td>-0.43</td>\n",
       "    </tr>\n",
       "    <tr>\n",
       "      <th>slag</th>\n",
       "      <td>0.00</td>\n",
       "      <td>359.40</td>\n",
       "      <td>359.40</td>\n",
       "      <td>72.04</td>\n",
       "      <td>20.00</td>\n",
       "      <td>86.13</td>\n",
       "      <td>0.86</td>\n",
       "      <td>-0.41</td>\n",
       "    </tr>\n",
       "    <tr>\n",
       "      <th>flyash</th>\n",
       "      <td>0.00</td>\n",
       "      <td>200.10</td>\n",
       "      <td>200.10</td>\n",
       "      <td>55.54</td>\n",
       "      <td>0.00</td>\n",
       "      <td>64.18</td>\n",
       "      <td>0.50</td>\n",
       "      <td>-1.37</td>\n",
       "    </tr>\n",
       "    <tr>\n",
       "      <th>water</th>\n",
       "      <td>121.80</td>\n",
       "      <td>247.00</td>\n",
       "      <td>125.20</td>\n",
       "      <td>182.08</td>\n",
       "      <td>185.70</td>\n",
       "      <td>21.33</td>\n",
       "      <td>0.03</td>\n",
       "      <td>0.17</td>\n",
       "    </tr>\n",
       "    <tr>\n",
       "      <th>superplasticizer</th>\n",
       "      <td>0.00</td>\n",
       "      <td>32.20</td>\n",
       "      <td>32.20</td>\n",
       "      <td>6.03</td>\n",
       "      <td>6.10</td>\n",
       "      <td>5.92</td>\n",
       "      <td>0.98</td>\n",
       "      <td>1.70</td>\n",
       "    </tr>\n",
       "    <tr>\n",
       "      <th>coarseaggregate</th>\n",
       "      <td>801.00</td>\n",
       "      <td>1145.00</td>\n",
       "      <td>344.00</td>\n",
       "      <td>974.38</td>\n",
       "      <td>968.00</td>\n",
       "      <td>77.54</td>\n",
       "      <td>-0.07</td>\n",
       "      <td>-0.58</td>\n",
       "    </tr>\n",
       "    <tr>\n",
       "      <th>fineaggregate</th>\n",
       "      <td>594.00</td>\n",
       "      <td>992.60</td>\n",
       "      <td>398.60</td>\n",
       "      <td>772.69</td>\n",
       "      <td>780.00</td>\n",
       "      <td>80.30</td>\n",
       "      <td>-0.25</td>\n",
       "      <td>-0.11</td>\n",
       "    </tr>\n",
       "    <tr>\n",
       "      <th>age</th>\n",
       "      <td>1.00</td>\n",
       "      <td>365.00</td>\n",
       "      <td>364.00</td>\n",
       "      <td>45.86</td>\n",
       "      <td>28.00</td>\n",
       "      <td>63.70</td>\n",
       "      <td>3.25</td>\n",
       "      <td>11.96</td>\n",
       "    </tr>\n",
       "    <tr>\n",
       "      <th>cs_m_pa</th>\n",
       "      <td>2.33</td>\n",
       "      <td>82.60</td>\n",
       "      <td>80.27</td>\n",
       "      <td>35.25</td>\n",
       "      <td>33.80</td>\n",
       "      <td>16.28</td>\n",
       "      <td>0.40</td>\n",
       "      <td>-0.31</td>\n",
       "    </tr>\n",
       "  </tbody>\n",
       "</table>\n",
       "</div>"
      ],
      "text/plain": [
       "                    min     max  amplitude   mean  median    std  assimetria  kurtosis\n",
       "cement           102.00  540.00     438.00 278.63  265.00 104.29        0.56     -0.43\n",
       "slag               0.00  359.40     359.40  72.04   20.00  86.13        0.86     -0.41\n",
       "flyash             0.00  200.10     200.10  55.54    0.00  64.18        0.50     -1.37\n",
       "water            121.80  247.00     125.20 182.08  185.70  21.33        0.03      0.17\n",
       "superplasticizer   0.00   32.20      32.20   6.03    6.10   5.92        0.98      1.70\n",
       "coarseaggregate  801.00 1145.00     344.00 974.38  968.00  77.54       -0.07     -0.58\n",
       "fineaggregate    594.00  992.60     398.60 772.69  780.00  80.30       -0.25     -0.11\n",
       "age                1.00  365.00     364.00  45.86   28.00  63.70        3.25     11.96\n",
       "cs_m_pa            2.33   82.60      80.27  35.25   33.80  16.28        0.40     -0.31"
      ]
     },
     "execution_count": 84,
     "metadata": {},
     "output_type": "execute_result"
    }
   ],
   "source": [
    "descricao_estatistica_variaveis_numericas(df1)"
   ]
  },
  {
   "cell_type": "markdown",
   "id": "87b58638",
   "metadata": {},
   "source": [
    "* As medidas estatísticas ajudam a entender a distribuição, a tendência central e a dispersão dos dados, fornecendo uma informação inicial a cerca dos dados estudados, as principais são:\n",
    "\n",
    "**Mínimo (Min):** Ajuda a entender o limite inferior dos dados;\n",
    "\n",
    "**Máximo (Máx):** Indica o limite superior dos dados;\n",
    "\n",
    "**Amplitude:** Diferença entre o valor máximo e mínimo. Fornece uma ideia da dispersão total dos dados;\n",
    "\n",
    "**Média:** Oferece uma medida do valor central dos dados;\n",
    "\n",
    "<span style = \"color:yellow\">**Mediana:</span>** É uma medida de posição que não é influenciada por valores extremos e fornece uma visão robusta da tendência central dos dados;\n",
    "\n",
    "<span style = \"color:yellow\">**Desvio Padrão:</span>** Um desvio padrão maior indica uma maior dispersão dos dados em relação à média;\n",
    "\n",
    " * Obs.: <span style = \"color:yellow\">Avaliar se estas medidas estão próximas, o que indica uma distribuição normal dos dados</span>\n",
    "\n",
    "**Assimetria:** Uma distribuição simétrica terá uma assimetria próxima de zero. Uma assimetria positiva indica uma cauda mais longa à direita da distribuição, enquanto uma assimetria negativa indica uma cauda mais longa à esquerda;\n",
    "\n",
    "**Curtose:** Refere-se à forma da distribuição dos dados em relação a seu pico. Uma curtose alta indica uma distribuição mais concentrada ao redor da média, com caudas mais pesadas, enquanto uma curtose baixa indica uma distribuição mais plana e com caudas mais leves."
   ]
  },
  {
   "cell_type": "markdown",
   "id": "e73e62a0-709f-45e5-9b15-d02e471eed00",
   "metadata": {
    "tags": []
   },
   "source": [
    "# 2. (Limpeza dos dados) Passo 2: Engenharia de variáveis"
   ]
  },
  {
   "cell_type": "code",
   "execution_count": 85,
   "id": "324bc39e-338b-4666-8d3a-2ce35be24ad5",
   "metadata": {
    "tags": []
   },
   "outputs": [],
   "source": [
    "df2 = df1.copy()"
   ]
  },
  {
   "cell_type": "markdown",
   "id": "dc3d1f5b-5ef8-4458-bcf0-919a6c46dd7b",
   "metadata": {
    "tags": []
   },
   "source": [
    "# 3. (Limpeza dos dados) Passo 3: Filtragem de variáveis (restrição do negócio)"
   ]
  },
  {
   "cell_type": "code",
   "execution_count": 86,
   "id": "35a2f55a-c1cc-4f0f-be2c-f7ab27c720d6",
   "metadata": {
    "tags": []
   },
   "outputs": [],
   "source": [
    "df3 = df2.copy()"
   ]
  },
  {
   "cell_type": "markdown",
   "id": "0855a079-3e71-4dd0-92c5-41f67e7ba73c",
   "metadata": {
    "tags": []
   },
   "source": [
    "# 4. (Exploração dos dados) Passo 4: Análise exploratória dos dados"
   ]
  },
  {
   "cell_type": "code",
   "execution_count": 87,
   "id": "75404cad-b424-4074-ad15-77bc5dda03eb",
   "metadata": {
    "tags": []
   },
   "outputs": [],
   "source": [
    "df4 = df3.copy()"
   ]
  },
  {
   "cell_type": "markdown",
   "id": "cb0a2e51-ca70-4949-9542-58b999a4ab27",
   "metadata": {},
   "source": [
    "### 4.1 Análise univariada"
   ]
  },
  {
   "cell_type": "markdown",
   "id": "e7f50718-4605-4bda-a099-4311585cebcc",
   "metadata": {},
   "source": [
    "#### 4.1.1 Variável resposta"
   ]
  },
  {
   "cell_type": "code",
   "execution_count": 88,
   "id": "f358855b",
   "metadata": {},
   "outputs": [
    {
     "data": {
      "text/plain": [
       "Index(['cement', 'slag', 'flyash', 'water', 'superplasticizer',\n",
       "       'coarseaggregate', 'fineaggregate', 'age', 'cs_m_pa'],\n",
       "      dtype='object')"
      ]
     },
     "execution_count": 88,
     "metadata": {},
     "output_type": "execute_result"
    }
   ],
   "source": [
    "df1.columns"
   ]
  },
  {
   "cell_type": "code",
   "execution_count": 89,
   "id": "8157e2df-da92-495c-8fb2-040b869d31da",
   "metadata": {
    "tags": []
   },
   "outputs": [
    {
     "data": {
      "image/png": "[encoded data removed]",
      "text/plain": [
       "<Figure size 1800x300 with 1 Axes>"
      ]
     },
     "metadata": {},
     "output_type": "display_data"
    }
   ],
   "source": [
    "plt.figure(figsize = (18, 3)) #Ajuste o tamanho conforme necessário\n",
    "\n",
    "#cs_m_pa\n",
    "sns.histplot(x = 'cs_m_pa', data = df4, kde = True);"
   ]
  },
  {
   "cell_type": "markdown",
   "id": "90a3beb8",
   "metadata": {},
   "source": [
    "* Na análise univariada, busca-se avaliar o comportamento da variável resposta. Neste caso, a variável resposta exibe uma distribuição 'quase' normal, o que significa que os dados estão principalmente concentrados na porção inferior a 40 no histograma. Isso sugere que a maioria dos dados está agrupada antes desta faixa específica, indicando uma tendência central na distribuição dos dados."
   ]
  },
  {
   "cell_type": "markdown",
   "id": "9b78447b-0003-408f-b99d-f87d21bb8cf9",
   "metadata": {},
   "source": [
    "#### 4.1.2 Variáveis preditoras"
   ]
  },
  {
   "cell_type": "code",
   "execution_count": 90,
   "id": "5c601b11",
   "metadata": {},
   "outputs": [
    {
     "data": {
      "image/png": "[encoded data removed]",
      "text/plain": [
       "<Figure size 1800x800 with 16 Axes>"
      ]
     },
     "metadata": {},
     "output_type": "display_data"
    }
   ],
   "source": [
    "fig = plt.figure(figsize = (18, 8))\n",
    "grid = GridSpec(4, 4, figure = fig)\n",
    "\n",
    "# Gráficos de barras à esquerda\n",
    "# cement\n",
    "plt.subplot(grid[0, 0])\n",
    "sns.histplot(x = 'cement', data = df4, kde = True)\n",
    "plt.title('Cement')\n",
    "\n",
    "# slag\n",
    "plt.subplot(grid[0, 1])\n",
    "sns.histplot(x = 'slag', data = df4, kde = True)\n",
    "plt.title('Slag')\n",
    "\n",
    "# flyash\n",
    "plt.subplot(grid[0, 2])\n",
    "sns.histplot(x = 'flyash', data = df4, kde = True)\n",
    "plt.title('Flyash')\n",
    "\n",
    "# water\n",
    "plt.subplot(grid[0, 3])\n",
    "sns.histplot(x = 'water', data = df4, kde = True)\n",
    "plt.title('Water')\n",
    "\n",
    "# Gráficos de boxplot à direita\n",
    "# cement\n",
    "plt.subplot(grid[1, 0])\n",
    "sns.boxplot(x = 'cement', data = df4)\n",
    "plt.title('Cement')\n",
    "\n",
    "# slag\n",
    "plt.subplot(grid[1, 1])\n",
    "sns.boxplot(x = 'slag', data = df4)\n",
    "plt.title('Slag ')\n",
    "\n",
    "# flyash\n",
    "plt.subplot(grid[1, 2])\n",
    "sns.boxplot(x = 'flyash', data = df4)\n",
    "plt.title('Flyash')\n",
    "\n",
    "# water\n",
    "plt.subplot(grid[1, 3])\n",
    "sns.boxplot(x = 'water', data = df4)\n",
    "plt.title('Water')\n",
    "\n",
    "# superplasticizer\n",
    "plt.subplot(grid[2, 0])\n",
    "sns.histplot(x = 'superplasticizer', data = df4, kde = True)\n",
    "plt.title('Superplasticizer')\n",
    "\n",
    "# slag\n",
    "plt.subplot(grid[2, 1])\n",
    "sns.histplot(x = 'coarseaggregate', data = df4, kde = True)\n",
    "plt.title('Coarseaggregate')\n",
    "\n",
    "# flyash\n",
    "plt.subplot(grid[2, 2])\n",
    "sns.histplot(x = 'fineaggregate', data = df4, kde = True)\n",
    "plt.title('Fineaggregate')\n",
    "\n",
    "# water\n",
    "plt.subplot(grid[2, 3])\n",
    "sns.histplot(x = 'age', data = df4, kde = True)\n",
    "plt.title('Age')\n",
    "\n",
    "# superplasticizer\n",
    "plt.subplot(grid[3, 0])\n",
    "sns.boxplot(x = 'superplasticizer', data = df4)\n",
    "plt.title('Superplasticizer')\n",
    "\n",
    "# coarseaggregate\n",
    "plt.subplot(grid[3, 1])\n",
    "sns.boxplot(x = 'coarseaggregate', data = df4)\n",
    "plt.title('Coarseaggregate')\n",
    "\n",
    "# fineaggregate\n",
    "plt.subplot(grid[3, 2])\n",
    "sns.boxplot(x = 'fineaggregate', data = df4)\n",
    "plt.title('Fineaggregate')\n",
    "\n",
    "# age\n",
    "plt.subplot(grid[3, 3])\n",
    "sns.boxplot(x = 'age', data = df4)\n",
    "plt.title('Age')\n",
    "\n",
    "plt.tight_layout()\n",
    "plt.show();"
   ]
  },
  {
   "cell_type": "markdown",
   "id": "c68a952e",
   "metadata": {},
   "source": [
    "* É possivel identificar que as variáveis não seguem uma distribuição normal, pode ser indicativo da necessidade de transformações nos dados para melhorar sua adequação aos modelos estatísticos."
   ]
  },
  {
   "cell_type": "code",
   "execution_count": 91,
   "id": "0b69e87b",
   "metadata": {},
   "outputs": [
    {
     "data": {
      "text/html": [
       "<div>\n",
       "<style scoped>\n",
       "    .dataframe tbody tr th:only-of-type {\n",
       "        vertical-align: middle;\n",
       "    }\n",
       "\n",
       "    .dataframe tbody tr th {\n",
       "        vertical-align: top;\n",
       "    }\n",
       "\n",
       "    .dataframe thead th {\n",
       "        text-align: right;\n",
       "    }\n",
       "</style>\n",
       "<table border=\"1\" class=\"dataframe\">\n",
       "  <thead>\n",
       "    <tr style=\"text-align: right;\">\n",
       "      <th></th>\n",
       "      <th>Variável</th>\n",
       "      <th>Estatística</th>\n",
       "      <th>p-valor</th>\n",
       "      <th>Normalidade</th>\n",
       "    </tr>\n",
       "  </thead>\n",
       "  <tbody>\n",
       "    <tr>\n",
       "      <th>0</th>\n",
       "      <td>Cement</td>\n",
       "      <td>0.9553</td>\n",
       "      <td>0.00000000</td>\n",
       "      <td>Não segue distribuição normal</td>\n",
       "    </tr>\n",
       "    <tr>\n",
       "      <th>1</th>\n",
       "      <td>Slag</td>\n",
       "      <td>0.8047</td>\n",
       "      <td>0.00000000</td>\n",
       "      <td>Não segue distribuição normal</td>\n",
       "    </tr>\n",
       "    <tr>\n",
       "      <th>2</th>\n",
       "      <td>Flyash</td>\n",
       "      <td>0.7687</td>\n",
       "      <td>0.00000000</td>\n",
       "      <td>Não segue distribuição normal</td>\n",
       "    </tr>\n",
       "    <tr>\n",
       "      <th>3</th>\n",
       "      <td>Water</td>\n",
       "      <td>0.9797</td>\n",
       "      <td>0.00000000</td>\n",
       "      <td>Não segue distribuição normal</td>\n",
       "    </tr>\n",
       "    <tr>\n",
       "      <th>4</th>\n",
       "      <td>Superplasticizer</td>\n",
       "      <td>0.8586</td>\n",
       "      <td>0.00000000</td>\n",
       "      <td>Não segue distribuição normal</td>\n",
       "    </tr>\n",
       "    <tr>\n",
       "      <th>5</th>\n",
       "      <td>Coarseaggregate</td>\n",
       "      <td>0.9834</td>\n",
       "      <td>0.00000000</td>\n",
       "      <td>Não segue distribuição normal</td>\n",
       "    </tr>\n",
       "    <tr>\n",
       "      <th>6</th>\n",
       "      <td>Fineaggregate</td>\n",
       "      <td>0.9809</td>\n",
       "      <td>0.00000000</td>\n",
       "      <td>Não segue distribuição normal</td>\n",
       "    </tr>\n",
       "    <tr>\n",
       "      <th>7</th>\n",
       "      <td>Age</td>\n",
       "      <td>0.5885</td>\n",
       "      <td>0.00000000</td>\n",
       "      <td>Não segue distribuição normal</td>\n",
       "    </tr>\n",
       "    <tr>\n",
       "      <th>8</th>\n",
       "      <td>Cs_m_pa</td>\n",
       "      <td>0.9817</td>\n",
       "      <td>0.00000000</td>\n",
       "      <td>Não segue distribuição normal</td>\n",
       "    </tr>\n",
       "  </tbody>\n",
       "</table>\n",
       "</div>"
      ],
      "text/plain": [
       "           Variável Estatística     p-valor                    Normalidade\n",
       "0            Cement      0.9553  0.00000000  Não segue distribuição normal\n",
       "1              Slag      0.8047  0.00000000  Não segue distribuição normal\n",
       "2            Flyash      0.7687  0.00000000  Não segue distribuição normal\n",
       "3             Water      0.9797  0.00000000  Não segue distribuição normal\n",
       "4  Superplasticizer      0.8586  0.00000000  Não segue distribuição normal\n",
       "5   Coarseaggregate      0.9834  0.00000000  Não segue distribuição normal\n",
       "6     Fineaggregate      0.9809  0.00000000  Não segue distribuição normal\n",
       "7               Age      0.5885  0.00000000  Não segue distribuição normal\n",
       "8           Cs_m_pa      0.9817  0.00000000  Não segue distribuição normal"
      ]
     },
     "execution_count": 91,
     "metadata": {},
     "output_type": "execute_result"
    }
   ],
   "source": [
    "curva_gaussiana(df4)"
   ]
  },
  {
   "cell_type": "markdown",
   "id": "870a891e",
   "metadata": {},
   "source": [
    " * Com um p-valor tão pequeno (<0.05), é possivel rejeitar a hipótese nula de que os dados seguem uma distribuição normal. Em outras palavras, os dados para as variáveis não parecem seguir uma distribuição normal."
   ]
  },
  {
   "cell_type": "markdown",
   "id": "30fa1ece-ab1d-4f75-a316-ed766861edd4",
   "metadata": {},
   "source": [
    "#### 4.1.3 Verificar se existem outliers"
   ]
  },
  {
   "cell_type": "code",
   "execution_count": 92,
   "id": "5b94114b-c9d7-4d21-bf84-9e810330c138",
   "metadata": {
    "tags": []
   },
   "outputs": [
    {
     "data": {
      "image/png": "[encoded data removed]",
      "text/plain": [
       "<Figure size 1800x400 with 8 Axes>"
      ]
     },
     "metadata": {},
     "output_type": "display_data"
    }
   ],
   "source": [
    "fig, axs = plt.subplots(2, 4, figsize = (18, 4))\n",
    "grid = GridSpec(2, 4) #Concatena os gráficos, neste caso precisarei de 2 linhas e 4 colunas\n",
    "\n",
    "#cement\n",
    "sns.boxplot(x = 'cement', data = df4, ax = axs[0, 0])\n",
    "axs[0, 0].set_title('cement')\n",
    "\n",
    "#slag\n",
    "sns.boxplot(x = 'slag', data = df4, ax = axs[0, 1])\n",
    "axs[0, 1].set_title('slag')\n",
    "\n",
    "#flyash\n",
    "sns.boxplot(x = 'flyash', data = df4, ax = axs[0, 2])\n",
    "axs[0, 2].set_title('flyash')\n",
    "\n",
    "#water\n",
    "sns.boxplot(x = 'water', data = df4, ax = axs[0, 3])\n",
    "axs[0, 3].set_title('water')\n",
    "\n",
    "#superplasticizer\n",
    "sns.boxplot(x = 'superplasticizer', data = df4, ax = axs[1, 0])\n",
    "axs[1, 0].set_title('superplasticizer')\n",
    "\n",
    "#coarseaggregate\n",
    "sns.boxplot(x = 'coarseaggregate', data = df4, ax = axs[1, 1])\n",
    "axs[1, 1].set_title('coarseaggregate')\n",
    "\n",
    "#fineaggregate\n",
    "sns.boxplot(x = 'fineaggregate', data = df4, ax = axs[1, 2])\n",
    "axs[1, 2].set_title('fineaggregate')\n",
    "\n",
    "#age\n",
    "sns.boxplot(x = 'age', data = df4, ax = axs[1, 3])\n",
    "axs[1, 3].set_title('age')\n",
    "\n",
    "# Ajustar o layout para não sobrepor os títulos\n",
    "plt.tight_layout()\n",
    "plt.show();"
   ]
  },
  {
   "cell_type": "markdown",
   "id": "beef26c1-ba3e-48c6-9c1b-c2cf9d9747a4",
   "metadata": {},
   "source": [
    "* A variável que possui mais outliers é a 'age', contudo as variáveis 'superplasticizer' e 'water' também mostram que possuem valores atípicos\n",
    "Outliers são pontos de dados que se afastam significativamente do padrão geral de distribuição de uma variável. Eles podem ser causados por erros de medição, falhas nos processos de coleta de dados ou representar eventos raros e extremos. A presença de outliers pode distorcer a análises estatísticas e modelos, afetando negativamente sua precisão e interpretação.\n",
    "No entanto, em alguns casos, outliers podem conter informações valiosas sobre o sistema ou fenômeno em estudo."
   ]
  },
  {
   "cell_type": "markdown",
   "id": "2fb90fb1-30ab-45c2-a97e-7360ce742b7e",
   "metadata": {},
   "source": [
    "### 4.2 Análise bivariada"
   ]
  },
  {
   "cell_type": "code",
   "execution_count": 93,
   "id": "b97879e3-5412-4ab0-af2b-1dd7bad05873",
   "metadata": {
    "tags": []
   },
   "outputs": [
    {
     "data": {
      "image/png": "[encoded data removed]",
      "text/plain": [
       "<Figure size 1800x600 with 8 Axes>"
      ]
     },
     "metadata": {},
     "output_type": "display_data"
    }
   ],
   "source": [
    "grid = GridSpec(2, 4, figure = plt.figure(figsize = (18, 6))) # Concatena os gráficos, neste caso precisarei de 2 linhas e 4 colunas\n",
    "\n",
    "# Definindo a paleta de cores\n",
    "color_palette = ['#023047', '#e85d04', '#0077b6', '#ff8200', '#0096c7', '#ff9c33']\n",
    "sns.set_palette(sns.color_palette(color_palette))\n",
    "\n",
    "aux = df4.copy()\n",
    "\n",
    "# Dividindo os dados em 5 bins\n",
    "aux['cs_m_pa_bins'] = pd.cut(df4['cs_m_pa'], bins = 10)\n",
    "\n",
    "# Cement\n",
    "ax1 = plt.subplot(grid[0, 0])\n",
    "sns.barplot(x = 'cs_m_pa_bins', y = 'cement', data = aux, ax = ax1)\n",
    "ax1.set_xticklabels(ax1.get_xticklabels(), rotation = 45)\n",
    "\n",
    "# Slag\n",
    "ax2 = plt.subplot(grid[0, 1])\n",
    "sns.barplot(x = 'cs_m_pa_bins', y = 'slag', data = aux, ax = ax2)\n",
    "ax2.set_xticklabels(ax2.get_xticklabels(), rotation = 45)\n",
    "\n",
    "# Flyash\n",
    "ax3 = plt.subplot(grid[0, 2])\n",
    "sns.barplot(x = 'cs_m_pa_bins', y = 'flyash', data = aux, ax = ax3)\n",
    "ax3.set_xticklabels(ax3.get_xticklabels(), rotation = 45)\n",
    "\n",
    "# Water\n",
    "ax4 = plt.subplot(grid[0, 3])\n",
    "sns.barplot(x = 'cs_m_pa_bins', y = 'water', data = aux, ax = ax4)\n",
    "ax4.set_xticklabels(ax4.get_xticklabels(), rotation = 45)\n",
    "\n",
    "# Superplasticizer\n",
    "ax5 = plt.subplot(grid[1, 0])\n",
    "sns.barplot(x = 'cs_m_pa_bins', y = 'superplasticizer', data = aux, ax = ax5)\n",
    "ax5.set_xticklabels(ax5.get_xticklabels(), rotation = 45)\n",
    "\n",
    "# Coarseaggregate\n",
    "ax6 = plt.subplot(grid[1, 1])\n",
    "sns.barplot(x = 'cs_m_pa_bins', y = 'coarseaggregate', data = aux, ax = ax6)\n",
    "ax6.set_xticklabels(ax6.get_xticklabels(), rotation = 45)\n",
    "\n",
    "# Fineaggregate\n",
    "ax7 = plt.subplot(grid[1, 2])\n",
    "sns.barplot(x = 'cs_m_pa_bins', y = 'fineaggregate', data = aux, ax = ax7)\n",
    "ax7.set_xticklabels(ax7.get_xticklabels(), rotation = 45)\n",
    "\n",
    "# Age\n",
    "ax8 = plt.subplot(grid[1, 3])\n",
    "sns.barplot(x = 'cs_m_pa_bins', y = 'age', data = aux, ax = ax8)\n",
    "ax8.set_xticklabels(ax8.get_xticklabels(), rotation = 45)\n",
    "\n",
    "plt.tight_layout()\n",
    "plt.show();"
   ]
  },
  {
   "cell_type": "markdown",
   "id": "40ca065a-2322-4b66-b606-36bbf6f52c3f",
   "metadata": {},
   "source": [
    "\n",
    "* O gráfico de barras que compara a variável resposta com as demais variáveis independentes ajuda a visualizar como a variável alvo varia em relação às diferentes categorias das variáveis independentes. Essa análise é útil para identificar padrões, tendências e relações entre as variáveis. No entanto, observa-se que as variáveis 'water', 'coarseaggregate' e 'fineaggregate' possuem pouca variabilidade em relação à variável resposta. Isso sugere que essas variáveis podem não contribuir de maneira significativa para o aprendizado do modelo, pois sua influência na variável resposta é limitada."
   ]
  },
  {
   "cell_type": "markdown",
   "id": "c0173989-2cb6-4262-93f0-f617922ec8eb",
   "metadata": {},
   "source": [
    "### 4.3 Análise multivariada"
   ]
  },
  {
   "cell_type": "code",
   "execution_count": 94,
   "id": "6599bfb3-318d-4968-9a60-828bc1397bb8",
   "metadata": {
    "tags": []
   },
   "outputs": [
    {
     "data": {
      "image/png": "[encoded data removed]",
      "text/plain": [
       "<Figure size 1800x400 with 2 Axes>"
      ]
     },
     "metadata": {},
     "output_type": "display_data"
    }
   ],
   "source": [
    "plt.figure(figsize = (18, 4))\n",
    "correlation = df4.corr(method = 'pearson')\n",
    "mask = np.triu(np.ones_like(correlation))\n",
    "cmap = sns.color_palette('RdBu_r')\n",
    "sns.heatmap(correlation, xticklabels = correlation.columns, yticklabels = correlation.columns, cmap = cmap, mask = mask, annot = True);"
   ]
  },
  {
   "cell_type": "markdown",
   "id": "2fa86b55",
   "metadata": {},
   "source": [
    "* Um gráfico de heatmap de correlações é como uma tabela de cores que mostra como as diferentes variáveis em seus dados estão relacionadas entre si. Cada quadrado na tabela representa a relação entre duas variáveis. A cor desse quadrado indica o quanto essas variáveis estão relacionadas: cores mais claras significam uma relação mais forte, enquanto cores mais escuras indicam uma relação mais fraca. Esses gráficos são úteis para entender as conexões entre diferentes partes dos seus dados de uma só vez, facilitando a identificação de padrões e relações importantes.\n",
    "* É importante notar que busca-se uma forte relação entre as variáveis independentes e a variável dependente. Por outro lado, é desejável que haja uma baixa relação entre as variáveis independentes, a fim de evitar a multicolinearidade."
   ]
  },
  {
   "cell_type": "markdown",
   "id": "f44cfa9d-36de-4235-9e18-c7b7cc29b4a2",
   "metadata": {
    "tags": []
   },
   "source": [
    "# 5. (Modelagem dos dados) Passo 5: Preparação dos dados"
   ]
  },
  {
   "cell_type": "code",
   "execution_count": 95,
   "id": "fa01a19b-8146-4747-ac86-a4f7f36fe0ad",
   "metadata": {
    "tags": []
   },
   "outputs": [],
   "source": [
    "df5 = df4.copy()"
   ]
  },
  {
   "cell_type": "markdown",
   "id": "c9a12e3e",
   "metadata": {},
   "source": [
    "### 5.1 Separar os dados em treino e teste"
   ]
  },
  {
   "cell_type": "code",
   "execution_count": 96,
   "id": "c70e65cd",
   "metadata": {},
   "outputs": [],
   "source": [
    "colunas_numericas = ['cement', 'slag', 'flyash', 'water', 'superplasticizer', 'coarseaggregate', 'fineaggregate', 'age']\n",
    "\n",
    "colunas_categoricas = []\n",
    "\n",
    "variavel_dependente = 'cs_m_pa'\n",
    "\n",
    "variaveis_independentes = [col for col in colunas_numericas if col != variavel_dependente]"
   ]
  },
  {
   "cell_type": "code",
   "execution_count": 97,
   "id": "b0a9ff14",
   "metadata": {},
   "outputs": [],
   "source": [
    "x = df5[variaveis_independentes]\n",
    "y = df5[variavel_dependente].copy()\n",
    "\n",
    "x_treino, x_teste, y_treino, y_teste = ms.train_test_split(x, y, test_size = 0.2, random_state = 42)"
   ]
  },
  {
   "cell_type": "markdown",
   "id": "593ce8b8",
   "metadata": {},
   "source": [
    "### 5.2 Pipeline dos dados"
   ]
  },
  {
   "cell_type": "code",
   "execution_count": 98,
   "id": "5d33d144",
   "metadata": {},
   "outputs": [
    {
     "data": {
      "text/html": [
       "<div>\n",
       "<style scoped>\n",
       "    .dataframe tbody tr th:only-of-type {\n",
       "        vertical-align: middle;\n",
       "    }\n",
       "\n",
       "    .dataframe tbody tr th {\n",
       "        vertical-align: top;\n",
       "    }\n",
       "\n",
       "    .dataframe thead th {\n",
       "        text-align: right;\n",
       "    }\n",
       "</style>\n",
       "<table border=\"1\" class=\"dataframe\">\n",
       "  <thead>\n",
       "    <tr style=\"text-align: right;\">\n",
       "      <th></th>\n",
       "      <th>0</th>\n",
       "      <th>1</th>\n",
       "      <th>2</th>\n",
       "      <th>3</th>\n",
       "      <th>4</th>\n",
       "      <th>5</th>\n",
       "      <th>6</th>\n",
       "      <th>7</th>\n",
       "    </tr>\n",
       "  </thead>\n",
       "  <tbody>\n",
       "    <tr>\n",
       "      <th>0</th>\n",
       "      <td>0.98</td>\n",
       "      <td>0.00</td>\n",
       "      <td>0.00</td>\n",
       "      <td>0.16</td>\n",
       "      <td>0.88</td>\n",
       "      <td>0.15</td>\n",
       "      <td>0.75</td>\n",
       "      <td>0.01</td>\n",
       "    </tr>\n",
       "    <tr>\n",
       "      <th>1</th>\n",
       "      <td>0.85</td>\n",
       "      <td>0.00</td>\n",
       "      <td>0.00</td>\n",
       "      <td>0.85</td>\n",
       "      <td>0.00</td>\n",
       "      <td>0.39</td>\n",
       "      <td>0.00</td>\n",
       "      <td>0.02</td>\n",
       "    </tr>\n",
       "    <tr>\n",
       "      <th>2</th>\n",
       "      <td>0.40</td>\n",
       "      <td>0.00</td>\n",
       "      <td>0.49</td>\n",
       "      <td>0.31</td>\n",
       "      <td>0.37</td>\n",
       "      <td>0.52</td>\n",
       "      <td>0.71</td>\n",
       "      <td>0.01</td>\n",
       "    </tr>\n",
       "    <tr>\n",
       "      <th>3</th>\n",
       "      <td>0.76</td>\n",
       "      <td>0.00</td>\n",
       "      <td>0.00</td>\n",
       "      <td>0.77</td>\n",
       "      <td>0.00</td>\n",
       "      <td>0.11</td>\n",
       "      <td>0.32</td>\n",
       "      <td>0.07</td>\n",
       "    </tr>\n",
       "    <tr>\n",
       "      <th>4</th>\n",
       "      <td>0.15</td>\n",
       "      <td>0.70</td>\n",
       "      <td>0.00</td>\n",
       "      <td>0.65</td>\n",
       "      <td>0.00</td>\n",
       "      <td>0.52</td>\n",
       "      <td>0.25</td>\n",
       "      <td>0.02</td>\n",
       "    </tr>\n",
       "  </tbody>\n",
       "</table>\n",
       "</div>"
      ],
      "text/plain": [
       "     0    1    2    3    4    5    6    7\n",
       "0 0.98 0.00 0.00 0.16 0.88 0.15 0.75 0.01\n",
       "1 0.85 0.00 0.00 0.85 0.00 0.39 0.00 0.02\n",
       "2 0.40 0.00 0.49 0.31 0.37 0.52 0.71 0.01\n",
       "3 0.76 0.00 0.00 0.77 0.00 0.11 0.32 0.07\n",
       "4 0.15 0.70 0.00 0.65 0.00 0.52 0.25 0.02"
      ]
     },
     "execution_count": 98,
     "metadata": {},
     "output_type": "execute_result"
    }
   ],
   "source": [
    "transformacao_numerica = Pipeline(steps = [('scaler', MinMaxScaler())]) # Aqui somente está sendo definido o que precisa ser feito\n",
    "                                            # Nome da etapa\n",
    "                                            # O objeto de transformação que será aplicado aos dados\n",
    "                                            \n",
    "#transformacao_categorica = OneHotEncoder(drop = 'if_binary', handle_unknown = 'ignore', sparse_output = False) \n",
    "\n",
    "preprocessor = ColumnTransformer(transformers = [('num', transformacao_numerica, colunas_numericas)])\n",
    "                                                 # Um nome identificando a transformação\n",
    "                                                 # Um objeto transformador ou um Pipeline\n",
    "                                                 # As colunas às quais a transformação será aplicada\n",
    "\n",
    "pd.DataFrame(preprocessor.fit_transform(x_treino)).head()"
   ]
  },
  {
   "cell_type": "code",
   "execution_count": 99,
   "id": "8e68b2c7",
   "metadata": {},
   "outputs": [],
   "source": [
    "pipeline_modelo = Pipeline(steps = [('preprocessor', preprocessor), \n",
    "                                    ('modelo', DummyRegressor())])"
   ]
  },
  {
   "cell_type": "code",
   "execution_count": 100,
   "id": "c33a3437",
   "metadata": {},
   "outputs": [
    {
     "data": {
      "text/html": [
       "<style>#sk-container-id-7 {color: black;background-color: white;}#sk-container-id-7 pre{padding: 0;}#sk-container-id-7 div.sk-toggleable {background-color: white;}#sk-container-id-7 label.sk-toggleable__label {cursor: pointer;display: block;width: 100%;margin-bottom: 0;padding: 0.3em;box-sizing: border-box;text-align: center;}#sk-container-id-7 label.sk-toggleable__label-arrow:before {content: \"▸\";float: left;margin-right: 0.25em;color: #696969;}#sk-container-id-7 label.sk-toggleable__label-arrow:hover:before {color: black;}#sk-container-id-7 div.sk-estimator:hover label.sk-toggleable__label-arrow:before {color: black;}#sk-container-id-7 div.sk-toggleable__content {max-height: 0;max-width: 0;overflow: hidden;text-align: left;background-color: #f0f8ff;}#sk-container-id-7 div.sk-toggleable__content pre {margin: 0.2em;color: black;border-radius: 0.25em;background-color: #f0f8ff;}#sk-container-id-7 input.sk-toggleable__control:checked~div.sk-toggleable__content {max-height: 200px;max-width: 100%;overflow: auto;}#sk-container-id-7 input.sk-toggleable__control:checked~label.sk-toggleable__label-arrow:before {content: \"▾\";}#sk-container-id-7 div.sk-estimator input.sk-toggleable__control:checked~label.sk-toggleable__label {background-color: #d4ebff;}#sk-container-id-7 div.sk-label input.sk-toggleable__control:checked~label.sk-toggleable__label {background-color: #d4ebff;}#sk-container-id-7 input.sk-hidden--visually {border: 0;clip: rect(1px 1px 1px 1px);clip: rect(1px, 1px, 1px, 1px);height: 1px;margin: -1px;overflow: hidden;padding: 0;position: absolute;width: 1px;}#sk-container-id-7 div.sk-estimator {font-family: monospace;background-color: #f0f8ff;border: 1px dotted black;border-radius: 0.25em;box-sizing: border-box;margin-bottom: 0.5em;}#sk-container-id-7 div.sk-estimator:hover {background-color: #d4ebff;}#sk-container-id-7 div.sk-parallel-item::after {content: \"\";width: 100%;border-bottom: 1px solid gray;flex-grow: 1;}#sk-container-id-7 div.sk-label:hover label.sk-toggleable__label {background-color: #d4ebff;}#sk-container-id-7 div.sk-serial::before {content: \"\";position: absolute;border-left: 1px solid gray;box-sizing: border-box;top: 0;bottom: 0;left: 50%;z-index: 0;}#sk-container-id-7 div.sk-serial {display: flex;flex-direction: column;align-items: center;background-color: white;padding-right: 0.2em;padding-left: 0.2em;position: relative;}#sk-container-id-7 div.sk-item {position: relative;z-index: 1;}#sk-container-id-7 div.sk-parallel {display: flex;align-items: stretch;justify-content: center;background-color: white;position: relative;}#sk-container-id-7 div.sk-item::before, #sk-container-id-7 div.sk-parallel-item::before {content: \"\";position: absolute;border-left: 1px solid gray;box-sizing: border-box;top: 0;bottom: 0;left: 50%;z-index: -1;}#sk-container-id-7 div.sk-parallel-item {display: flex;flex-direction: column;z-index: 1;position: relative;background-color: white;}#sk-container-id-7 div.sk-parallel-item:first-child::after {align-self: flex-end;width: 50%;}#sk-container-id-7 div.sk-parallel-item:last-child::after {align-self: flex-start;width: 50%;}#sk-container-id-7 div.sk-parallel-item:only-child::after {width: 0;}#sk-container-id-7 div.sk-dashed-wrapped {border: 1px dashed gray;margin: 0 0.4em 0.5em 0.4em;box-sizing: border-box;padding-bottom: 0.4em;background-color: white;}#sk-container-id-7 div.sk-label label {font-family: monospace;font-weight: bold;display: inline-block;line-height: 1.2em;}#sk-container-id-7 div.sk-label-container {text-align: center;}#sk-container-id-7 div.sk-container {/* jupyter's `normalize.less` sets `[hidden] { display: none; }` but bootstrap.min.css set `[hidden] { display: none !important; }` so we also need the `!important` here to be able to override the default hidden behavior on the sphinx rendered scikit-learn.org. See: https://github.com/scikit-learn/scikit-learn/issues/21755 */display: inline-block !important;position: relative;}#sk-container-id-7 div.sk-text-repr-fallback {display: none;}</style><div id=\"sk-container-id-7\" class=\"sk-top-container\"><div class=\"sk-text-repr-fallback\"><pre>Pipeline(steps=[(&#x27;preprocessor&#x27;,\n",
       "                 ColumnTransformer(transformers=[(&#x27;num&#x27;,\n",
       "                                                  Pipeline(steps=[(&#x27;scaler&#x27;,\n",
       "                                                                   MinMaxScaler())]),\n",
       "                                                  [&#x27;cement&#x27;, &#x27;slag&#x27;, &#x27;flyash&#x27;,\n",
       "                                                   &#x27;water&#x27;, &#x27;superplasticizer&#x27;,\n",
       "                                                   &#x27;coarseaggregate&#x27;,\n",
       "                                                   &#x27;fineaggregate&#x27;, &#x27;age&#x27;])])),\n",
       "                (&#x27;modelo&#x27;, DummyRegressor())])</pre><b>In a Jupyter environment, please rerun this cell to show the HTML representation or trust the notebook. <br />On GitHub, the HTML representation is unable to render, please try loading this page with nbviewer.org.</b></div><div class=\"sk-container\" hidden><div class=\"sk-item sk-dashed-wrapped\"><div class=\"sk-label-container\"><div class=\"sk-label sk-toggleable\"><input class=\"sk-toggleable__control sk-hidden--visually\" id=\"sk-estimator-id-24\" type=\"checkbox\" ><label for=\"sk-estimator-id-24\" class=\"sk-toggleable__label sk-toggleable__label-arrow\">Pipeline</label><div class=\"sk-toggleable__content\"><pre>Pipeline(steps=[(&#x27;preprocessor&#x27;,\n",
       "                 ColumnTransformer(transformers=[(&#x27;num&#x27;,\n",
       "                                                  Pipeline(steps=[(&#x27;scaler&#x27;,\n",
       "                                                                   MinMaxScaler())]),\n",
       "                                                  [&#x27;cement&#x27;, &#x27;slag&#x27;, &#x27;flyash&#x27;,\n",
       "                                                   &#x27;water&#x27;, &#x27;superplasticizer&#x27;,\n",
       "                                                   &#x27;coarseaggregate&#x27;,\n",
       "                                                   &#x27;fineaggregate&#x27;, &#x27;age&#x27;])])),\n",
       "                (&#x27;modelo&#x27;, DummyRegressor())])</pre></div></div></div><div class=\"sk-serial\"><div class=\"sk-item sk-dashed-wrapped\"><div class=\"sk-label-container\"><div class=\"sk-label sk-toggleable\"><input class=\"sk-toggleable__control sk-hidden--visually\" id=\"sk-estimator-id-25\" type=\"checkbox\" ><label for=\"sk-estimator-id-25\" class=\"sk-toggleable__label sk-toggleable__label-arrow\">preprocessor: ColumnTransformer</label><div class=\"sk-toggleable__content\"><pre>ColumnTransformer(transformers=[(&#x27;num&#x27;,\n",
       "                                 Pipeline(steps=[(&#x27;scaler&#x27;, MinMaxScaler())]),\n",
       "                                 [&#x27;cement&#x27;, &#x27;slag&#x27;, &#x27;flyash&#x27;, &#x27;water&#x27;,\n",
       "                                  &#x27;superplasticizer&#x27;, &#x27;coarseaggregate&#x27;,\n",
       "                                  &#x27;fineaggregate&#x27;, &#x27;age&#x27;])])</pre></div></div></div><div class=\"sk-parallel\"><div class=\"sk-parallel-item\"><div class=\"sk-item\"><div class=\"sk-label-container\"><div class=\"sk-label sk-toggleable\"><input class=\"sk-toggleable__control sk-hidden--visually\" id=\"sk-estimator-id-26\" type=\"checkbox\" ><label for=\"sk-estimator-id-26\" class=\"sk-toggleable__label sk-toggleable__label-arrow\">num</label><div class=\"sk-toggleable__content\"><pre>[&#x27;cement&#x27;, &#x27;slag&#x27;, &#x27;flyash&#x27;, &#x27;water&#x27;, &#x27;superplasticizer&#x27;, &#x27;coarseaggregate&#x27;, &#x27;fineaggregate&#x27;, &#x27;age&#x27;]</pre></div></div></div><div class=\"sk-serial\"><div class=\"sk-item\"><div class=\"sk-serial\"><div class=\"sk-item\"><div class=\"sk-estimator sk-toggleable\"><input class=\"sk-toggleable__control sk-hidden--visually\" id=\"sk-estimator-id-27\" type=\"checkbox\" ><label for=\"sk-estimator-id-27\" class=\"sk-toggleable__label sk-toggleable__label-arrow\">MinMaxScaler</label><div class=\"sk-toggleable__content\"><pre>MinMaxScaler()</pre></div></div></div></div></div></div></div></div></div></div><div class=\"sk-item\"><div class=\"sk-estimator sk-toggleable\"><input class=\"sk-toggleable__control sk-hidden--visually\" id=\"sk-estimator-id-28\" type=\"checkbox\" ><label for=\"sk-estimator-id-28\" class=\"sk-toggleable__label sk-toggleable__label-arrow\">DummyRegressor</label><div class=\"sk-toggleable__content\"><pre>DummyRegressor()</pre></div></div></div></div></div></div></div>"
      ],
      "text/plain": [
       "Pipeline(steps=[('preprocessor',\n",
       "                 ColumnTransformer(transformers=[('num',\n",
       "                                                  Pipeline(steps=[('scaler',\n",
       "                                                                   MinMaxScaler())]),\n",
       "                                                  ['cement', 'slag', 'flyash',\n",
       "                                                   'water', 'superplasticizer',\n",
       "                                                   'coarseaggregate',\n",
       "                                                   'fineaggregate', 'age'])])),\n",
       "                ('modelo', DummyRegressor())])"
      ]
     },
     "execution_count": 100,
     "metadata": {},
     "output_type": "execute_result"
    }
   ],
   "source": [
    "pipeline_modelo"
   ]
  },
  {
   "cell_type": "code",
   "execution_count": 101,
   "id": "34a9f9d1",
   "metadata": {},
   "outputs": [
    {
     "data": {
      "text/plain": [
       "{'preprocessor': ColumnTransformer(transformers=[('num',\n",
       "                                  Pipeline(steps=[('scaler', MinMaxScaler())]),\n",
       "                                  ['cement', 'slag', 'flyash', 'water',\n",
       "                                   'superplasticizer', 'coarseaggregate',\n",
       "                                   'fineaggregate', 'age'])]),\n",
       " 'modelo': DummyRegressor()}"
      ]
     },
     "execution_count": 101,
     "metadata": {},
     "output_type": "execute_result"
    }
   ],
   "source": [
    "pipeline_modelo.named_steps"
   ]
  },
  {
   "cell_type": "code",
   "execution_count": 102,
   "id": "ff555933",
   "metadata": {},
   "outputs": [
    {
     "data": {
      "text/html": [
       "<style>#sk-container-id-8 {color: black;background-color: white;}#sk-container-id-8 pre{padding: 0;}#sk-container-id-8 div.sk-toggleable {background-color: white;}#sk-container-id-8 label.sk-toggleable__label {cursor: pointer;display: block;width: 100%;margin-bottom: 0;padding: 0.3em;box-sizing: border-box;text-align: center;}#sk-container-id-8 label.sk-toggleable__label-arrow:before {content: \"▸\";float: left;margin-right: 0.25em;color: #696969;}#sk-container-id-8 label.sk-toggleable__label-arrow:hover:before {color: black;}#sk-container-id-8 div.sk-estimator:hover label.sk-toggleable__label-arrow:before {color: black;}#sk-container-id-8 div.sk-toggleable__content {max-height: 0;max-width: 0;overflow: hidden;text-align: left;background-color: #f0f8ff;}#sk-container-id-8 div.sk-toggleable__content pre {margin: 0.2em;color: black;border-radius: 0.25em;background-color: #f0f8ff;}#sk-container-id-8 input.sk-toggleable__control:checked~div.sk-toggleable__content {max-height: 200px;max-width: 100%;overflow: auto;}#sk-container-id-8 input.sk-toggleable__control:checked~label.sk-toggleable__label-arrow:before {content: \"▾\";}#sk-container-id-8 div.sk-estimator input.sk-toggleable__control:checked~label.sk-toggleable__label {background-color: #d4ebff;}#sk-container-id-8 div.sk-label input.sk-toggleable__control:checked~label.sk-toggleable__label {background-color: #d4ebff;}#sk-container-id-8 input.sk-hidden--visually {border: 0;clip: rect(1px 1px 1px 1px);clip: rect(1px, 1px, 1px, 1px);height: 1px;margin: -1px;overflow: hidden;padding: 0;position: absolute;width: 1px;}#sk-container-id-8 div.sk-estimator {font-family: monospace;background-color: #f0f8ff;border: 1px dotted black;border-radius: 0.25em;box-sizing: border-box;margin-bottom: 0.5em;}#sk-container-id-8 div.sk-estimator:hover {background-color: #d4ebff;}#sk-container-id-8 div.sk-parallel-item::after {content: \"\";width: 100%;border-bottom: 1px solid gray;flex-grow: 1;}#sk-container-id-8 div.sk-label:hover label.sk-toggleable__label {background-color: #d4ebff;}#sk-container-id-8 div.sk-serial::before {content: \"\";position: absolute;border-left: 1px solid gray;box-sizing: border-box;top: 0;bottom: 0;left: 50%;z-index: 0;}#sk-container-id-8 div.sk-serial {display: flex;flex-direction: column;align-items: center;background-color: white;padding-right: 0.2em;padding-left: 0.2em;position: relative;}#sk-container-id-8 div.sk-item {position: relative;z-index: 1;}#sk-container-id-8 div.sk-parallel {display: flex;align-items: stretch;justify-content: center;background-color: white;position: relative;}#sk-container-id-8 div.sk-item::before, #sk-container-id-8 div.sk-parallel-item::before {content: \"\";position: absolute;border-left: 1px solid gray;box-sizing: border-box;top: 0;bottom: 0;left: 50%;z-index: -1;}#sk-container-id-8 div.sk-parallel-item {display: flex;flex-direction: column;z-index: 1;position: relative;background-color: white;}#sk-container-id-8 div.sk-parallel-item:first-child::after {align-self: flex-end;width: 50%;}#sk-container-id-8 div.sk-parallel-item:last-child::after {align-self: flex-start;width: 50%;}#sk-container-id-8 div.sk-parallel-item:only-child::after {width: 0;}#sk-container-id-8 div.sk-dashed-wrapped {border: 1px dashed gray;margin: 0 0.4em 0.5em 0.4em;box-sizing: border-box;padding-bottom: 0.4em;background-color: white;}#sk-container-id-8 div.sk-label label {font-family: monospace;font-weight: bold;display: inline-block;line-height: 1.2em;}#sk-container-id-8 div.sk-label-container {text-align: center;}#sk-container-id-8 div.sk-container {/* jupyter's `normalize.less` sets `[hidden] { display: none; }` but bootstrap.min.css set `[hidden] { display: none !important; }` so we also need the `!important` here to be able to override the default hidden behavior on the sphinx rendered scikit-learn.org. See: https://github.com/scikit-learn/scikit-learn/issues/21755 */display: inline-block !important;position: relative;}#sk-container-id-8 div.sk-text-repr-fallback {display: none;}</style><div id=\"sk-container-id-8\" class=\"sk-top-container\"><div class=\"sk-text-repr-fallback\"><pre>DummyRegressor()</pre><b>In a Jupyter environment, please rerun this cell to show the HTML representation or trust the notebook. <br />On GitHub, the HTML representation is unable to render, please try loading this page with nbviewer.org.</b></div><div class=\"sk-container\" hidden><div class=\"sk-item\"><div class=\"sk-estimator sk-toggleable\"><input class=\"sk-toggleable__control sk-hidden--visually\" id=\"sk-estimator-id-29\" type=\"checkbox\" checked><label for=\"sk-estimator-id-29\" class=\"sk-toggleable__label sk-toggleable__label-arrow\">DummyRegressor</label><div class=\"sk-toggleable__content\"><pre>DummyRegressor()</pre></div></div></div></div></div>"
      ],
      "text/plain": [
       "DummyRegressor()"
      ]
     },
     "execution_count": 102,
     "metadata": {},
     "output_type": "execute_result"
    }
   ],
   "source": [
    "pipeline_modelo['modelo']"
   ]
  },
  {
   "cell_type": "markdown",
   "id": "55f7f2bf",
   "metadata": {},
   "source": [
    "### 5.3 Treinar com vários modelos"
   ]
  },
  {
   "cell_type": "code",
   "execution_count": 103,
   "id": "71cebcc4",
   "metadata": {},
   "outputs": [
    {
     "data": {
      "text/html": [
       "<style>#sk-container-id-9 {color: black;background-color: white;}#sk-container-id-9 pre{padding: 0;}#sk-container-id-9 div.sk-toggleable {background-color: white;}#sk-container-id-9 label.sk-toggleable__label {cursor: pointer;display: block;width: 100%;margin-bottom: 0;padding: 0.3em;box-sizing: border-box;text-align: center;}#sk-container-id-9 label.sk-toggleable__label-arrow:before {content: \"▸\";float: left;margin-right: 0.25em;color: #696969;}#sk-container-id-9 label.sk-toggleable__label-arrow:hover:before {color: black;}#sk-container-id-9 div.sk-estimator:hover label.sk-toggleable__label-arrow:before {color: black;}#sk-container-id-9 div.sk-toggleable__content {max-height: 0;max-width: 0;overflow: hidden;text-align: left;background-color: #f0f8ff;}#sk-container-id-9 div.sk-toggleable__content pre {margin: 0.2em;color: black;border-radius: 0.25em;background-color: #f0f8ff;}#sk-container-id-9 input.sk-toggleable__control:checked~div.sk-toggleable__content {max-height: 200px;max-width: 100%;overflow: auto;}#sk-container-id-9 input.sk-toggleable__control:checked~label.sk-toggleable__label-arrow:before {content: \"▾\";}#sk-container-id-9 div.sk-estimator input.sk-toggleable__control:checked~label.sk-toggleable__label {background-color: #d4ebff;}#sk-container-id-9 div.sk-label input.sk-toggleable__control:checked~label.sk-toggleable__label {background-color: #d4ebff;}#sk-container-id-9 input.sk-hidden--visually {border: 0;clip: rect(1px 1px 1px 1px);clip: rect(1px, 1px, 1px, 1px);height: 1px;margin: -1px;overflow: hidden;padding: 0;position: absolute;width: 1px;}#sk-container-id-9 div.sk-estimator {font-family: monospace;background-color: #f0f8ff;border: 1px dotted black;border-radius: 0.25em;box-sizing: border-box;margin-bottom: 0.5em;}#sk-container-id-9 div.sk-estimator:hover {background-color: #d4ebff;}#sk-container-id-9 div.sk-parallel-item::after {content: \"\";width: 100%;border-bottom: 1px solid gray;flex-grow: 1;}#sk-container-id-9 div.sk-label:hover label.sk-toggleable__label {background-color: #d4ebff;}#sk-container-id-9 div.sk-serial::before {content: \"\";position: absolute;border-left: 1px solid gray;box-sizing: border-box;top: 0;bottom: 0;left: 50%;z-index: 0;}#sk-container-id-9 div.sk-serial {display: flex;flex-direction: column;align-items: center;background-color: white;padding-right: 0.2em;padding-left: 0.2em;position: relative;}#sk-container-id-9 div.sk-item {position: relative;z-index: 1;}#sk-container-id-9 div.sk-parallel {display: flex;align-items: stretch;justify-content: center;background-color: white;position: relative;}#sk-container-id-9 div.sk-item::before, #sk-container-id-9 div.sk-parallel-item::before {content: \"\";position: absolute;border-left: 1px solid gray;box-sizing: border-box;top: 0;bottom: 0;left: 50%;z-index: -1;}#sk-container-id-9 div.sk-parallel-item {display: flex;flex-direction: column;z-index: 1;position: relative;background-color: white;}#sk-container-id-9 div.sk-parallel-item:first-child::after {align-self: flex-end;width: 50%;}#sk-container-id-9 div.sk-parallel-item:last-child::after {align-self: flex-start;width: 50%;}#sk-container-id-9 div.sk-parallel-item:only-child::after {width: 0;}#sk-container-id-9 div.sk-dashed-wrapped {border: 1px dashed gray;margin: 0 0.4em 0.5em 0.4em;box-sizing: border-box;padding-bottom: 0.4em;background-color: white;}#sk-container-id-9 div.sk-label label {font-family: monospace;font-weight: bold;display: inline-block;line-height: 1.2em;}#sk-container-id-9 div.sk-label-container {text-align: center;}#sk-container-id-9 div.sk-container {/* jupyter's `normalize.less` sets `[hidden] { display: none; }` but bootstrap.min.css set `[hidden] { display: none !important; }` so we also need the `!important` here to be able to override the default hidden behavior on the sphinx rendered scikit-learn.org. See: https://github.com/scikit-learn/scikit-learn/issues/21755 */display: inline-block !important;position: relative;}#sk-container-id-9 div.sk-text-repr-fallback {display: none;}</style><div id=\"sk-container-id-9\" class=\"sk-top-container\"><div class=\"sk-text-repr-fallback\"><pre>BayesSearchCV(cv=5,\n",
       "              estimator=Pipeline(steps=[(&#x27;modelo&#x27;,\n",
       "                                         RandomForestRegressor(random_state=42))]),\n",
       "              n_jobs=-1, random_state=42, scoring=&#x27;neg_root_mean_squared_error&#x27;,\n",
       "              search_spaces={&#x27;modelo&#x27;: [DummyRegressor(), LinearRegression(),\n",
       "                                        LassoCV(), RidgeCV(),\n",
       "                                        RandomForestRegressor(random_state=42),\n",
       "                                        GradientBoostingRegressor(random_state=42)]})</pre><b>In a Jupyter environment, please rerun this cell to show the HTML representation or trust the notebook. <br />On GitHub, the HTML representation is unable to render, please try loading this page with nbviewer.org.</b></div><div class=\"sk-container\" hidden><div class=\"sk-item sk-dashed-wrapped\"><div class=\"sk-label-container\"><div class=\"sk-label sk-toggleable\"><input class=\"sk-toggleable__control sk-hidden--visually\" id=\"sk-estimator-id-30\" type=\"checkbox\" ><label for=\"sk-estimator-id-30\" class=\"sk-toggleable__label sk-toggleable__label-arrow\">BayesSearchCV</label><div class=\"sk-toggleable__content\"><pre>BayesSearchCV(cv=5,\n",
       "              estimator=Pipeline(steps=[(&#x27;modelo&#x27;,\n",
       "                                         RandomForestRegressor(random_state=42))]),\n",
       "              n_jobs=-1, random_state=42, scoring=&#x27;neg_root_mean_squared_error&#x27;,\n",
       "              search_spaces={&#x27;modelo&#x27;: [DummyRegressor(), LinearRegression(),\n",
       "                                        LassoCV(), RidgeCV(),\n",
       "                                        RandomForestRegressor(random_state=42),\n",
       "                                        GradientBoostingRegressor(random_state=42)]})</pre></div></div></div><div class=\"sk-parallel\"><div class=\"sk-parallel-item\"><div class=\"sk-item\"><div class=\"sk-label-container\"><div class=\"sk-label sk-toggleable\"><input class=\"sk-toggleable__control sk-hidden--visually\" id=\"sk-estimator-id-31\" type=\"checkbox\" ><label for=\"sk-estimator-id-31\" class=\"sk-toggleable__label sk-toggleable__label-arrow\">estimator: Pipeline</label><div class=\"sk-toggleable__content\"><pre>Pipeline(steps=[(&#x27;modelo&#x27;, RandomForestRegressor(random_state=42))])</pre></div></div></div><div class=\"sk-serial\"><div class=\"sk-item\"><div class=\"sk-serial\"><div class=\"sk-item\"><div class=\"sk-estimator sk-toggleable\"><input class=\"sk-toggleable__control sk-hidden--visually\" id=\"sk-estimator-id-32\" type=\"checkbox\" ><label for=\"sk-estimator-id-32\" class=\"sk-toggleable__label sk-toggleable__label-arrow\">RandomForestRegressor</label><div class=\"sk-toggleable__content\"><pre>RandomForestRegressor(random_state=42)</pre></div></div></div></div></div></div></div></div></div></div></div></div>"
      ],
      "text/plain": [
       "BayesSearchCV(cv=5,\n",
       "              estimator=Pipeline(steps=[('modelo',\n",
       "                                         RandomForestRegressor(random_state=42))]),\n",
       "              n_jobs=-1, random_state=42, scoring='neg_root_mean_squared_error',\n",
       "              search_spaces={'modelo': [DummyRegressor(), LinearRegression(),\n",
       "                                        LassoCV(), RidgeCV(),\n",
       "                                        RandomForestRegressor(random_state=42),\n",
       "                                        GradientBoostingRegressor(random_state=42)]})"
      ]
     },
     "execution_count": 103,
     "metadata": {},
     "output_type": "execute_result"
    }
   ],
   "source": [
    "modelos = [DummyRegressor(),\n",
    "           LinearRegression(),\n",
    "           LassoCV(),\n",
    "           RidgeCV(),\n",
    "           RandomForestRegressor(random_state = 42),\n",
    "           GradientBoostingRegressor(random_state = 42)]\n",
    "\n",
    "pipeline_modelo = Pipeline([('modelo', RandomForestRegressor(random_state = 42))])\n",
    "\n",
    "# Configurando a busca bayesiana (BayesSearchCV)\n",
    "bayesian_modelo = BayesSearchCV(pipeline_modelo,\n",
    "                                search_spaces = {'modelo': modelos},\n",
    "                                n_iter = 50,  # Número de iterações\n",
    "                                cv = 5,  # Validação cruzada\n",
    "                                n_jobs = -1,  # Usar todos os núcleos\n",
    "                                scoring = 'neg_root_mean_squared_error',  # Métrica de avaliação\n",
    "                                random_state = 42)\n",
    "\n",
    "bayesian_modelo.fit(x_treino, y_treino)"
   ]
  },
  {
   "cell_type": "markdown",
   "id": "b673aa05",
   "metadata": {},
   "source": [
    "### 5.4 Modelo escolhido"
   ]
  },
  {
   "cell_type": "code",
   "execution_count": 104,
   "id": "1b763b6d",
   "metadata": {},
   "outputs": [
    {
     "data": {
      "text/html": [
       "<style>#sk-container-id-10 {color: black;background-color: white;}#sk-container-id-10 pre{padding: 0;}#sk-container-id-10 div.sk-toggleable {background-color: white;}#sk-container-id-10 label.sk-toggleable__label {cursor: pointer;display: block;width: 100%;margin-bottom: 0;padding: 0.3em;box-sizing: border-box;text-align: center;}#sk-container-id-10 label.sk-toggleable__label-arrow:before {content: \"▸\";float: left;margin-right: 0.25em;color: #696969;}#sk-container-id-10 label.sk-toggleable__label-arrow:hover:before {color: black;}#sk-container-id-10 div.sk-estimator:hover label.sk-toggleable__label-arrow:before {color: black;}#sk-container-id-10 div.sk-toggleable__content {max-height: 0;max-width: 0;overflow: hidden;text-align: left;background-color: #f0f8ff;}#sk-container-id-10 div.sk-toggleable__content pre {margin: 0.2em;color: black;border-radius: 0.25em;background-color: #f0f8ff;}#sk-container-id-10 input.sk-toggleable__control:checked~div.sk-toggleable__content {max-height: 200px;max-width: 100%;overflow: auto;}#sk-container-id-10 input.sk-toggleable__control:checked~label.sk-toggleable__label-arrow:before {content: \"▾\";}#sk-container-id-10 div.sk-estimator input.sk-toggleable__control:checked~label.sk-toggleable__label {background-color: #d4ebff;}#sk-container-id-10 div.sk-label input.sk-toggleable__control:checked~label.sk-toggleable__label {background-color: #d4ebff;}#sk-container-id-10 input.sk-hidden--visually {border: 0;clip: rect(1px 1px 1px 1px);clip: rect(1px, 1px, 1px, 1px);height: 1px;margin: -1px;overflow: hidden;padding: 0;position: absolute;width: 1px;}#sk-container-id-10 div.sk-estimator {font-family: monospace;background-color: #f0f8ff;border: 1px dotted black;border-radius: 0.25em;box-sizing: border-box;margin-bottom: 0.5em;}#sk-container-id-10 div.sk-estimator:hover {background-color: #d4ebff;}#sk-container-id-10 div.sk-parallel-item::after {content: \"\";width: 100%;border-bottom: 1px solid gray;flex-grow: 1;}#sk-container-id-10 div.sk-label:hover label.sk-toggleable__label {background-color: #d4ebff;}#sk-container-id-10 div.sk-serial::before {content: \"\";position: absolute;border-left: 1px solid gray;box-sizing: border-box;top: 0;bottom: 0;left: 50%;z-index: 0;}#sk-container-id-10 div.sk-serial {display: flex;flex-direction: column;align-items: center;background-color: white;padding-right: 0.2em;padding-left: 0.2em;position: relative;}#sk-container-id-10 div.sk-item {position: relative;z-index: 1;}#sk-container-id-10 div.sk-parallel {display: flex;align-items: stretch;justify-content: center;background-color: white;position: relative;}#sk-container-id-10 div.sk-item::before, #sk-container-id-10 div.sk-parallel-item::before {content: \"\";position: absolute;border-left: 1px solid gray;box-sizing: border-box;top: 0;bottom: 0;left: 50%;z-index: -1;}#sk-container-id-10 div.sk-parallel-item {display: flex;flex-direction: column;z-index: 1;position: relative;background-color: white;}#sk-container-id-10 div.sk-parallel-item:first-child::after {align-self: flex-end;width: 50%;}#sk-container-id-10 div.sk-parallel-item:last-child::after {align-self: flex-start;width: 50%;}#sk-container-id-10 div.sk-parallel-item:only-child::after {width: 0;}#sk-container-id-10 div.sk-dashed-wrapped {border: 1px dashed gray;margin: 0 0.4em 0.5em 0.4em;box-sizing: border-box;padding-bottom: 0.4em;background-color: white;}#sk-container-id-10 div.sk-label label {font-family: monospace;font-weight: bold;display: inline-block;line-height: 1.2em;}#sk-container-id-10 div.sk-label-container {text-align: center;}#sk-container-id-10 div.sk-container {/* jupyter's `normalize.less` sets `[hidden] { display: none; }` but bootstrap.min.css set `[hidden] { display: none !important; }` so we also need the `!important` here to be able to override the default hidden behavior on the sphinx rendered scikit-learn.org. See: https://github.com/scikit-learn/scikit-learn/issues/21755 */display: inline-block !important;position: relative;}#sk-container-id-10 div.sk-text-repr-fallback {display: none;}</style><div id=\"sk-container-id-10\" class=\"sk-top-container\"><div class=\"sk-text-repr-fallback\"><pre>Pipeline(steps=[(&#x27;modelo&#x27;, GradientBoostingRegressor(random_state=42))])</pre><b>In a Jupyter environment, please rerun this cell to show the HTML representation or trust the notebook. <br />On GitHub, the HTML representation is unable to render, please try loading this page with nbviewer.org.</b></div><div class=\"sk-container\" hidden><div class=\"sk-item sk-dashed-wrapped\"><div class=\"sk-label-container\"><div class=\"sk-label sk-toggleable\"><input class=\"sk-toggleable__control sk-hidden--visually\" id=\"sk-estimator-id-33\" type=\"checkbox\" ><label for=\"sk-estimator-id-33\" class=\"sk-toggleable__label sk-toggleable__label-arrow\">Pipeline</label><div class=\"sk-toggleable__content\"><pre>Pipeline(steps=[(&#x27;modelo&#x27;, GradientBoostingRegressor(random_state=42))])</pre></div></div></div><div class=\"sk-serial\"><div class=\"sk-item\"><div class=\"sk-estimator sk-toggleable\"><input class=\"sk-toggleable__control sk-hidden--visually\" id=\"sk-estimator-id-34\" type=\"checkbox\" ><label for=\"sk-estimator-id-34\" class=\"sk-toggleable__label sk-toggleable__label-arrow\">GradientBoostingRegressor</label><div class=\"sk-toggleable__content\"><pre>GradientBoostingRegressor(random_state=42)</pre></div></div></div></div></div></div></div>"
      ],
      "text/plain": [
       "Pipeline(steps=[('modelo', GradientBoostingRegressor(random_state=42))])"
      ]
     },
     "execution_count": 104,
     "metadata": {},
     "output_type": "execute_result"
    }
   ],
   "source": [
    "bayesian_modelo.best_estimator_"
   ]
  },
  {
   "cell_type": "code",
   "execution_count": 105,
   "id": "5fb17a41",
   "metadata": {},
   "outputs": [
    {
     "data": {
      "text/html": [
       "<div>\n",
       "<style scoped>\n",
       "    .dataframe tbody tr th:only-of-type {\n",
       "        vertical-align: middle;\n",
       "    }\n",
       "\n",
       "    .dataframe tbody tr th {\n",
       "        vertical-align: top;\n",
       "    }\n",
       "\n",
       "    .dataframe thead th {\n",
       "        text-align: right;\n",
       "    }\n",
       "</style>\n",
       "<table border=\"1\" class=\"dataframe\">\n",
       "  <thead>\n",
       "    <tr style=\"text-align: right;\">\n",
       "      <th></th>\n",
       "      <th>param_modelo</th>\n",
       "      <th>params</th>\n",
       "      <th>mean_test_score</th>\n",
       "      <th>std_test_score</th>\n",
       "    </tr>\n",
       "    <tr>\n",
       "      <th>rank_test_score</th>\n",
       "      <th></th>\n",
       "      <th></th>\n",
       "      <th></th>\n",
       "      <th></th>\n",
       "    </tr>\n",
       "  </thead>\n",
       "  <tbody>\n",
       "    <tr>\n",
       "      <th>1</th>\n",
       "      <td>GradientBoostingRegressor(random_state=42)</td>\n",
       "      <td>{'modelo': GradientBoostingRegressor(random_st...</td>\n",
       "      <td>-5.35</td>\n",
       "      <td>0.43</td>\n",
       "    </tr>\n",
       "    <tr>\n",
       "      <th>1</th>\n",
       "      <td>GradientBoostingRegressor(random_state=42)</td>\n",
       "      <td>{'modelo': GradientBoostingRegressor(random_st...</td>\n",
       "      <td>-5.35</td>\n",
       "      <td>0.43</td>\n",
       "    </tr>\n",
       "    <tr>\n",
       "      <th>1</th>\n",
       "      <td>GradientBoostingRegressor(random_state=42)</td>\n",
       "      <td>{'modelo': GradientBoostingRegressor(random_st...</td>\n",
       "      <td>-5.35</td>\n",
       "      <td>0.43</td>\n",
       "    </tr>\n",
       "    <tr>\n",
       "      <th>1</th>\n",
       "      <td>GradientBoostingRegressor(random_state=42)</td>\n",
       "      <td>{'modelo': GradientBoostingRegressor(random_st...</td>\n",
       "      <td>-5.35</td>\n",
       "      <td>0.43</td>\n",
       "    </tr>\n",
       "    <tr>\n",
       "      <th>1</th>\n",
       "      <td>GradientBoostingRegressor(random_state=42)</td>\n",
       "      <td>{'modelo': GradientBoostingRegressor(random_st...</td>\n",
       "      <td>-5.35</td>\n",
       "      <td>0.43</td>\n",
       "    </tr>\n",
       "  </tbody>\n",
       "</table>\n",
       "</div>"
      ],
      "text/plain": [
       "                                               param_modelo                                             params  mean_test_score  std_test_score\n",
       "rank_test_score                                                                                                                                \n",
       "1                GradientBoostingRegressor(random_state=42)  {'modelo': GradientBoostingRegressor(random_st...            -5.35            0.43\n",
       "1                GradientBoostingRegressor(random_state=42)  {'modelo': GradientBoostingRegressor(random_st...            -5.35            0.43\n",
       "1                GradientBoostingRegressor(random_state=42)  {'modelo': GradientBoostingRegressor(random_st...            -5.35            0.43\n",
       "1                GradientBoostingRegressor(random_state=42)  {'modelo': GradientBoostingRegressor(random_st...            -5.35            0.43\n",
       "1                GradientBoostingRegressor(random_state=42)  {'modelo': GradientBoostingRegressor(random_st...            -5.35            0.43"
      ]
     },
     "execution_count": 105,
     "metadata": {},
     "output_type": "execute_result"
    }
   ],
   "source": [
    "df_resultado = pd.DataFrame(bayesian_modelo.cv_results_).set_index('rank_test_score').sort_index()\n",
    "df_resultado.loc[:, ~df_resultado.columns.str.contains('split|time')].head()"
   ]
  },
  {
   "cell_type": "markdown",
   "id": "30618e18",
   "metadata": {},
   "source": [
    "### 5.5 Otimizar o modelo escolhido com os hiperparâmetros"
   ]
  },
  {
   "cell_type": "code",
   "execution_count": 106,
   "id": "25d481f9",
   "metadata": {},
   "outputs": [
    {
     "data": {
      "text/html": [
       "<style>#sk-container-id-11 {color: black;background-color: white;}#sk-container-id-11 pre{padding: 0;}#sk-container-id-11 div.sk-toggleable {background-color: white;}#sk-container-id-11 label.sk-toggleable__label {cursor: pointer;display: block;width: 100%;margin-bottom: 0;padding: 0.3em;box-sizing: border-box;text-align: center;}#sk-container-id-11 label.sk-toggleable__label-arrow:before {content: \"▸\";float: left;margin-right: 0.25em;color: #696969;}#sk-container-id-11 label.sk-toggleable__label-arrow:hover:before {color: black;}#sk-container-id-11 div.sk-estimator:hover label.sk-toggleable__label-arrow:before {color: black;}#sk-container-id-11 div.sk-toggleable__content {max-height: 0;max-width: 0;overflow: hidden;text-align: left;background-color: #f0f8ff;}#sk-container-id-11 div.sk-toggleable__content pre {margin: 0.2em;color: black;border-radius: 0.25em;background-color: #f0f8ff;}#sk-container-id-11 input.sk-toggleable__control:checked~div.sk-toggleable__content {max-height: 200px;max-width: 100%;overflow: auto;}#sk-container-id-11 input.sk-toggleable__control:checked~label.sk-toggleable__label-arrow:before {content: \"▾\";}#sk-container-id-11 div.sk-estimator input.sk-toggleable__control:checked~label.sk-toggleable__label {background-color: #d4ebff;}#sk-container-id-11 div.sk-label input.sk-toggleable__control:checked~label.sk-toggleable__label {background-color: #d4ebff;}#sk-container-id-11 input.sk-hidden--visually {border: 0;clip: rect(1px 1px 1px 1px);clip: rect(1px, 1px, 1px, 1px);height: 1px;margin: -1px;overflow: hidden;padding: 0;position: absolute;width: 1px;}#sk-container-id-11 div.sk-estimator {font-family: monospace;background-color: #f0f8ff;border: 1px dotted black;border-radius: 0.25em;box-sizing: border-box;margin-bottom: 0.5em;}#sk-container-id-11 div.sk-estimator:hover {background-color: #d4ebff;}#sk-container-id-11 div.sk-parallel-item::after {content: \"\";width: 100%;border-bottom: 1px solid gray;flex-grow: 1;}#sk-container-id-11 div.sk-label:hover label.sk-toggleable__label {background-color: #d4ebff;}#sk-container-id-11 div.sk-serial::before {content: \"\";position: absolute;border-left: 1px solid gray;box-sizing: border-box;top: 0;bottom: 0;left: 50%;z-index: 0;}#sk-container-id-11 div.sk-serial {display: flex;flex-direction: column;align-items: center;background-color: white;padding-right: 0.2em;padding-left: 0.2em;position: relative;}#sk-container-id-11 div.sk-item {position: relative;z-index: 1;}#sk-container-id-11 div.sk-parallel {display: flex;align-items: stretch;justify-content: center;background-color: white;position: relative;}#sk-container-id-11 div.sk-item::before, #sk-container-id-11 div.sk-parallel-item::before {content: \"\";position: absolute;border-left: 1px solid gray;box-sizing: border-box;top: 0;bottom: 0;left: 50%;z-index: -1;}#sk-container-id-11 div.sk-parallel-item {display: flex;flex-direction: column;z-index: 1;position: relative;background-color: white;}#sk-container-id-11 div.sk-parallel-item:first-child::after {align-self: flex-end;width: 50%;}#sk-container-id-11 div.sk-parallel-item:last-child::after {align-self: flex-start;width: 50%;}#sk-container-id-11 div.sk-parallel-item:only-child::after {width: 0;}#sk-container-id-11 div.sk-dashed-wrapped {border: 1px dashed gray;margin: 0 0.4em 0.5em 0.4em;box-sizing: border-box;padding-bottom: 0.4em;background-color: white;}#sk-container-id-11 div.sk-label label {font-family: monospace;font-weight: bold;display: inline-block;line-height: 1.2em;}#sk-container-id-11 div.sk-label-container {text-align: center;}#sk-container-id-11 div.sk-container {/* jupyter's `normalize.less` sets `[hidden] { display: none; }` but bootstrap.min.css set `[hidden] { display: none !important; }` so we also need the `!important` here to be able to override the default hidden behavior on the sphinx rendered scikit-learn.org. See: https://github.com/scikit-learn/scikit-learn/issues/21755 */display: inline-block !important;position: relative;}#sk-container-id-11 div.sk-text-repr-fallback {display: none;}</style><div id=\"sk-container-id-11\" class=\"sk-top-container\"><div class=\"sk-text-repr-fallback\"><pre>BayesSearchCV(cv=5,\n",
       "              estimator=Pipeline(steps=[(&#x27;preprocessor&#x27;,\n",
       "                                         ColumnTransformer(transformers=[(&#x27;num&#x27;,\n",
       "                                                                          Pipeline(steps=[(&#x27;scaler&#x27;,\n",
       "                                                                                           MinMaxScaler())]),\n",
       "                                                                          [&#x27;cement&#x27;,\n",
       "                                                                           &#x27;slag&#x27;,\n",
       "                                                                           &#x27;flyash&#x27;,\n",
       "                                                                           &#x27;water&#x27;,\n",
       "                                                                           &#x27;superplasticizer&#x27;,\n",
       "                                                                           &#x27;coarseaggregate&#x27;,\n",
       "                                                                           &#x27;fineaggregate&#x27;,\n",
       "                                                                           &#x27;age&#x27;])])),\n",
       "                                        (&#x27;modelo&#x27;,\n",
       "                                         GradientBoostingRegressor(random_state=42))]),\n",
       "              n_jobs=-1, random_state=42, scoring=&#x27;neg_root_mean_squared_error&#x27;,\n",
       "              search_spaces={&#x27;modelo__learning_rate&#x27;: [0.01, 0.9],\n",
       "                             &#x27;modelo__max_depth&#x27;: [4, 10],\n",
       "                             &#x27;modelo__min_samples_split&#x27;: [2, 12],\n",
       "                             &#x27;modelo__n_estimators&#x27;: [200, 300]})</pre><b>In a Jupyter environment, please rerun this cell to show the HTML representation or trust the notebook. <br />On GitHub, the HTML representation is unable to render, please try loading this page with nbviewer.org.</b></div><div class=\"sk-container\" hidden><div class=\"sk-item sk-dashed-wrapped\"><div class=\"sk-label-container\"><div class=\"sk-label sk-toggleable\"><input class=\"sk-toggleable__control sk-hidden--visually\" id=\"sk-estimator-id-35\" type=\"checkbox\" ><label for=\"sk-estimator-id-35\" class=\"sk-toggleable__label sk-toggleable__label-arrow\">BayesSearchCV</label><div class=\"sk-toggleable__content\"><pre>BayesSearchCV(cv=5,\n",
       "              estimator=Pipeline(steps=[(&#x27;preprocessor&#x27;,\n",
       "                                         ColumnTransformer(transformers=[(&#x27;num&#x27;,\n",
       "                                                                          Pipeline(steps=[(&#x27;scaler&#x27;,\n",
       "                                                                                           MinMaxScaler())]),\n",
       "                                                                          [&#x27;cement&#x27;,\n",
       "                                                                           &#x27;slag&#x27;,\n",
       "                                                                           &#x27;flyash&#x27;,\n",
       "                                                                           &#x27;water&#x27;,\n",
       "                                                                           &#x27;superplasticizer&#x27;,\n",
       "                                                                           &#x27;coarseaggregate&#x27;,\n",
       "                                                                           &#x27;fineaggregate&#x27;,\n",
       "                                                                           &#x27;age&#x27;])])),\n",
       "                                        (&#x27;modelo&#x27;,\n",
       "                                         GradientBoostingRegressor(random_state=42))]),\n",
       "              n_jobs=-1, random_state=42, scoring=&#x27;neg_root_mean_squared_error&#x27;,\n",
       "              search_spaces={&#x27;modelo__learning_rate&#x27;: [0.01, 0.9],\n",
       "                             &#x27;modelo__max_depth&#x27;: [4, 10],\n",
       "                             &#x27;modelo__min_samples_split&#x27;: [2, 12],\n",
       "                             &#x27;modelo__n_estimators&#x27;: [200, 300]})</pre></div></div></div><div class=\"sk-parallel\"><div class=\"sk-parallel-item\"><div class=\"sk-item\"><div class=\"sk-label-container\"><div class=\"sk-label sk-toggleable\"><input class=\"sk-toggleable__control sk-hidden--visually\" id=\"sk-estimator-id-36\" type=\"checkbox\" ><label for=\"sk-estimator-id-36\" class=\"sk-toggleable__label sk-toggleable__label-arrow\">estimator: Pipeline</label><div class=\"sk-toggleable__content\"><pre>Pipeline(steps=[(&#x27;preprocessor&#x27;,\n",
       "                 ColumnTransformer(transformers=[(&#x27;num&#x27;,\n",
       "                                                  Pipeline(steps=[(&#x27;scaler&#x27;,\n",
       "                                                                   MinMaxScaler())]),\n",
       "                                                  [&#x27;cement&#x27;, &#x27;slag&#x27;, &#x27;flyash&#x27;,\n",
       "                                                   &#x27;water&#x27;, &#x27;superplasticizer&#x27;,\n",
       "                                                   &#x27;coarseaggregate&#x27;,\n",
       "                                                   &#x27;fineaggregate&#x27;, &#x27;age&#x27;])])),\n",
       "                (&#x27;modelo&#x27;, GradientBoostingRegressor(random_state=42))])</pre></div></div></div><div class=\"sk-serial\"><div class=\"sk-item\"><div class=\"sk-serial\"><div class=\"sk-item sk-dashed-wrapped\"><div class=\"sk-label-container\"><div class=\"sk-label sk-toggleable\"><input class=\"sk-toggleable__control sk-hidden--visually\" id=\"sk-estimator-id-37\" type=\"checkbox\" ><label for=\"sk-estimator-id-37\" class=\"sk-toggleable__label sk-toggleable__label-arrow\">preprocessor: ColumnTransformer</label><div class=\"sk-toggleable__content\"><pre>ColumnTransformer(transformers=[(&#x27;num&#x27;,\n",
       "                                 Pipeline(steps=[(&#x27;scaler&#x27;, MinMaxScaler())]),\n",
       "                                 [&#x27;cement&#x27;, &#x27;slag&#x27;, &#x27;flyash&#x27;, &#x27;water&#x27;,\n",
       "                                  &#x27;superplasticizer&#x27;, &#x27;coarseaggregate&#x27;,\n",
       "                                  &#x27;fineaggregate&#x27;, &#x27;age&#x27;])])</pre></div></div></div><div class=\"sk-parallel\"><div class=\"sk-parallel-item\"><div class=\"sk-item\"><div class=\"sk-label-container\"><div class=\"sk-label sk-toggleable\"><input class=\"sk-toggleable__control sk-hidden--visually\" id=\"sk-estimator-id-38\" type=\"checkbox\" ><label for=\"sk-estimator-id-38\" class=\"sk-toggleable__label sk-toggleable__label-arrow\">num</label><div class=\"sk-toggleable__content\"><pre>[&#x27;cement&#x27;, &#x27;slag&#x27;, &#x27;flyash&#x27;, &#x27;water&#x27;, &#x27;superplasticizer&#x27;, &#x27;coarseaggregate&#x27;, &#x27;fineaggregate&#x27;, &#x27;age&#x27;]</pre></div></div></div><div class=\"sk-serial\"><div class=\"sk-item\"><div class=\"sk-serial\"><div class=\"sk-item\"><div class=\"sk-estimator sk-toggleable\"><input class=\"sk-toggleable__control sk-hidden--visually\" id=\"sk-estimator-id-39\" type=\"checkbox\" ><label for=\"sk-estimator-id-39\" class=\"sk-toggleable__label sk-toggleable__label-arrow\">MinMaxScaler</label><div class=\"sk-toggleable__content\"><pre>MinMaxScaler()</pre></div></div></div></div></div></div></div></div></div></div><div class=\"sk-item\"><div class=\"sk-estimator sk-toggleable\"><input class=\"sk-toggleable__control sk-hidden--visually\" id=\"sk-estimator-id-40\" type=\"checkbox\" ><label for=\"sk-estimator-id-40\" class=\"sk-toggleable__label sk-toggleable__label-arrow\">GradientBoostingRegressor</label><div class=\"sk-toggleable__content\"><pre>GradientBoostingRegressor(random_state=42)</pre></div></div></div></div></div></div></div></div></div></div></div></div>"
      ],
      "text/plain": [
       "BayesSearchCV(cv=5,\n",
       "              estimator=Pipeline(steps=[('preprocessor',\n",
       "                                         ColumnTransformer(transformers=[('num',\n",
       "                                                                          Pipeline(steps=[('scaler',\n",
       "                                                                                           MinMaxScaler())]),\n",
       "                                                                          ['cement',\n",
       "                                                                           'slag',\n",
       "                                                                           'flyash',\n",
       "                                                                           'water',\n",
       "                                                                           'superplasticizer',\n",
       "                                                                           'coarseaggregate',\n",
       "                                                                           'fineaggregate',\n",
       "                                                                           'age'])])),\n",
       "                                        ('modelo',\n",
       "                                         GradientBoostingRegressor(random_state=42))]),\n",
       "              n_jobs=-1, random_state=42, scoring='neg_root_mean_squared_error',\n",
       "              search_spaces={'modelo__learning_rate': [0.01, 0.9],\n",
       "                             'modelo__max_depth': [4, 10],\n",
       "                             'modelo__min_samples_split': [2, 12],\n",
       "                             'modelo__n_estimators': [200, 300]})"
      ]
     },
     "execution_count": 106,
     "metadata": {},
     "output_type": "execute_result"
    }
   ],
   "source": [
    "pipeline_modelo = Pipeline(steps = [('preprocessor', preprocessor),\n",
    "                                    ('modelo', GradientBoostingRegressor(random_state = 42))])\n",
    "\n",
    "params = {'modelo__n_estimators': [200, 300],\n",
    "          'modelo__learning_rate': [0.01, 0.9],\n",
    "          'modelo__max_depth': [4, 10],\n",
    "          'modelo__min_samples_split': [2, 12]}\n",
    "\n",
    "bayesian_modelo = BayesSearchCV(pipeline_modelo,\n",
    "                                search_spaces = params,\n",
    "                                n_iter = 50, # Número de iterações\n",
    "                                cv = 5, # Validação cruzada\n",
    "                                n_jobs = -1, # Usar todos os núcleos\n",
    "                                scoring = 'neg_root_mean_squared_error', # Métrica de avaliação\n",
    "                                random_state = 42)\n",
    "\n",
    "bayesian_modelo.fit(x_treino, y_treino)"
   ]
  },
  {
   "cell_type": "code",
   "execution_count": 107,
   "id": "304be918",
   "metadata": {},
   "outputs": [
    {
     "data": {
      "text/html": [
       "<div>\n",
       "<style scoped>\n",
       "    .dataframe tbody tr th:only-of-type {\n",
       "        vertical-align: middle;\n",
       "    }\n",
       "\n",
       "    .dataframe tbody tr th {\n",
       "        vertical-align: top;\n",
       "    }\n",
       "\n",
       "    .dataframe thead th {\n",
       "        text-align: right;\n",
       "    }\n",
       "</style>\n",
       "<table border=\"1\" class=\"dataframe\">\n",
       "  <thead>\n",
       "    <tr style=\"text-align: right;\">\n",
       "      <th></th>\n",
       "      <th>param_modelo__learning_rate</th>\n",
       "      <th>param_modelo__max_depth</th>\n",
       "      <th>param_modelo__n_estimators</th>\n",
       "      <th>params</th>\n",
       "      <th>mean_test_score</th>\n",
       "      <th>std_test_score</th>\n",
       "    </tr>\n",
       "    <tr>\n",
       "      <th>rank_test_score</th>\n",
       "      <th></th>\n",
       "      <th></th>\n",
       "      <th></th>\n",
       "      <th></th>\n",
       "      <th></th>\n",
       "      <th></th>\n",
       "    </tr>\n",
       "  </thead>\n",
       "  <tbody>\n",
       "    <tr>\n",
       "      <th>1</th>\n",
       "      <td>0.18</td>\n",
       "      <td>4</td>\n",
       "      <td>300</td>\n",
       "      <td>{'modelo__learning_rate': 0.1761120486334763, ...</td>\n",
       "      <td>-4.54</td>\n",
       "      <td>0.42</td>\n",
       "    </tr>\n",
       "    <tr>\n",
       "      <th>2</th>\n",
       "      <td>0.17</td>\n",
       "      <td>4</td>\n",
       "      <td>282</td>\n",
       "      <td>{'modelo__learning_rate': 0.17019404095011625,...</td>\n",
       "      <td>-4.56</td>\n",
       "      <td>0.38</td>\n",
       "    </tr>\n",
       "    <tr>\n",
       "      <th>3</th>\n",
       "      <td>0.18</td>\n",
       "      <td>4</td>\n",
       "      <td>200</td>\n",
       "      <td>{'modelo__learning_rate': 0.17526975358282376,...</td>\n",
       "      <td>-4.57</td>\n",
       "      <td>0.39</td>\n",
       "    </tr>\n",
       "    <tr>\n",
       "      <th>4</th>\n",
       "      <td>0.17</td>\n",
       "      <td>4</td>\n",
       "      <td>300</td>\n",
       "      <td>{'modelo__learning_rate': 0.1744317525701407, ...</td>\n",
       "      <td>-4.59</td>\n",
       "      <td>0.42</td>\n",
       "    </tr>\n",
       "    <tr>\n",
       "      <th>5</th>\n",
       "      <td>0.16</td>\n",
       "      <td>4</td>\n",
       "      <td>285</td>\n",
       "      <td>{'modelo__learning_rate': 0.1615054967395447, ...</td>\n",
       "      <td>-4.60</td>\n",
       "      <td>0.33</td>\n",
       "    </tr>\n",
       "  </tbody>\n",
       "</table>\n",
       "</div>"
      ],
      "text/plain": [
       "                param_modelo__learning_rate param_modelo__max_depth param_modelo__n_estimators                                             params  mean_test_score  std_test_score\n",
       "rank_test_score                                                                                                                                                                   \n",
       "1                                      0.18                       4                        300  {'modelo__learning_rate': 0.1761120486334763, ...            -4.54            0.42\n",
       "2                                      0.17                       4                        282  {'modelo__learning_rate': 0.17019404095011625,...            -4.56            0.38\n",
       "3                                      0.18                       4                        200  {'modelo__learning_rate': 0.17526975358282376,...            -4.57            0.39\n",
       "4                                      0.17                       4                        300  {'modelo__learning_rate': 0.1744317525701407, ...            -4.59            0.42\n",
       "5                                      0.16                       4                        285  {'modelo__learning_rate': 0.1615054967395447, ...            -4.60            0.33"
      ]
     },
     "execution_count": 107,
     "metadata": {},
     "output_type": "execute_result"
    }
   ],
   "source": [
    "df_resultado = pd.DataFrame(bayesian_modelo.cv_results_).set_index('rank_test_score').sort_index()\n",
    "df_resultado.loc[:, ~df_resultado.columns.str.contains('split|time')].head()"
   ]
  },
  {
   "cell_type": "code",
   "execution_count": 108,
   "id": "c43341c5-06bd-43d9-a135-52b853fdb833",
   "metadata": {
    "tags": []
   },
   "outputs": [],
   "source": [
    "pipeline_modelo = bayesian_modelo.best_estimator_"
   ]
  },
  {
   "cell_type": "code",
   "execution_count": 109,
   "id": "68fd4d77",
   "metadata": {},
   "outputs": [],
   "source": [
    "y_pred = pipeline_modelo.predict(x_teste)"
   ]
  },
  {
   "cell_type": "code",
   "execution_count": 110,
   "id": "de82b683",
   "metadata": {},
   "outputs": [
    {
     "data": {
      "text/html": [
       "<div>\n",
       "<style scoped>\n",
       "    .dataframe tbody tr th:only-of-type {\n",
       "        vertical-align: middle;\n",
       "    }\n",
       "\n",
       "    .dataframe tbody tr th {\n",
       "        vertical-align: top;\n",
       "    }\n",
       "\n",
       "    .dataframe thead th {\n",
       "        text-align: right;\n",
       "    }\n",
       "</style>\n",
       "<table border=\"1\" class=\"dataframe\">\n",
       "  <thead>\n",
       "    <tr style=\"text-align: right;\">\n",
       "      <th></th>\n",
       "      <th>mae</th>\n",
       "      <th>mape</th>\n",
       "      <th>rmse</th>\n",
       "      <th>r2</th>\n",
       "    </tr>\n",
       "  </thead>\n",
       "  <tbody>\n",
       "    <tr>\n",
       "      <th>0</th>\n",
       "      <td>2.69</td>\n",
       "      <td>9.05%</td>\n",
       "      <td>4.16</td>\n",
       "      <td>0.94</td>\n",
       "    </tr>\n",
       "  </tbody>\n",
       "</table>\n",
       "</div>"
      ],
      "text/plain": [
       "    mae   mape  rmse    r2\n",
       "0  2.69  9.05%  4.16  0.94"
      ]
     },
     "execution_count": 110,
     "metadata": {},
     "output_type": "execute_result"
    }
   ],
   "source": [
    "ml_error(y_teste, y_pred, desvpad = False)"
   ]
  },
  {
   "cell_type": "code",
   "execution_count": 111,
   "id": "a226be07",
   "metadata": {},
   "outputs": [
    {
     "data": {
      "image/png": "[encoded data removed]",
      "text/plain": [
       "<Figure size 1800x400 with 1 Axes>"
      ]
     },
     "metadata": {},
     "output_type": "display_data"
    }
   ],
   "source": [
    "plt.figure(figsize = (18, 4)) # Largura = 18, Altura = 4\n",
    "sns.scatterplot(x = y_teste, y = y_pred)\n",
    "\n",
    "# Adiciona uma linha de referência (diagonal)\n",
    "min_val = min(y_teste.min(), y_pred.min())  # Menor valor\n",
    "max_val = max(y_teste.max(), y_pred.max())  # Maior valor\n",
    "plt.plot([min_val, max_val], [min_val, max_val], color = 'red', linestyle = '--', label = 'Reta ideal')\n",
    "\n",
    "plt.xlabel(\"Valores Reais (y_teste)\")\n",
    "plt.ylabel(\"Valores Preditos (y_pred)\")\n",
    "plt.legend()\n",
    "plt.show();"
   ]
  },
  {
   "cell_type": "markdown",
   "id": "877fa99c-ee51-4c91-b1ac-94a576f0fcaf",
   "metadata": {
    "tags": []
   },
   "source": [
    "# 6. (Modelagem dos dados) Passo 6: Seleção das variáveis"
   ]
  },
  {
   "cell_type": "code",
   "execution_count": 112,
   "id": "1c7ccec5-973e-4b60-87c7-d4848ed3ea98",
   "metadata": {
    "tags": []
   },
   "outputs": [],
   "source": [
    "df6 = df5.copy()"
   ]
  },
  {
   "cell_type": "markdown",
   "id": "edcad879-2bdd-43f5-a5c3-8933b0302b6a",
   "metadata": {
    "tags": []
   },
   "source": [
    "### 6.1 Selecionar as variáveis mais relevantes do pipeline"
   ]
  },
  {
   "cell_type": "code",
   "execution_count": 113,
   "id": "08539c73",
   "metadata": {},
   "outputs": [
    {
     "data": {
      "image/png": "[encoded data removed]",
      "text/plain": [
       "<Figure size 1800x400 with 1 Axes>"
      ]
     },
     "metadata": {},
     "output_type": "display_data"
    }
   ],
   "source": [
    "plt.figure(figsize = (18, 4)) # Largura = 18, Altura = 4\n",
    "\n",
    "importances = pd.Series(data = pipeline_modelo.named_steps['modelo'].feature_importances_,\n",
    "                        index = pipeline_modelo.named_steps['preprocessor'].get_feature_names_out())\n",
    "\n",
    "importances.sort_values().plot.barh();"
   ]
  },
  {
   "cell_type": "markdown",
   "id": "150f1bc6-eff0-427d-9f7f-ddec37f3cbb2",
   "metadata": {
    "tags": []
   },
   "source": [
    "# 7. (Algoritmos de Ml) Passo 7: Treinar o modelo com as colunas mais relevantes"
   ]
  },
  {
   "cell_type": "code",
   "execution_count": 114,
   "id": "cbe1fa09-e1dd-4143-873b-2d242948336c",
   "metadata": {
    "tags": []
   },
   "outputs": [],
   "source": [
    "df7 = df6.copy()"
   ]
  },
  {
   "cell_type": "code",
   "execution_count": 115,
   "id": "fb6a20b8",
   "metadata": {},
   "outputs": [
    {
     "data": {
      "text/html": [
       "<style>#sk-container-id-12 {color: black;background-color: white;}#sk-container-id-12 pre{padding: 0;}#sk-container-id-12 div.sk-toggleable {background-color: white;}#sk-container-id-12 label.sk-toggleable__label {cursor: pointer;display: block;width: 100%;margin-bottom: 0;padding: 0.3em;box-sizing: border-box;text-align: center;}#sk-container-id-12 label.sk-toggleable__label-arrow:before {content: \"▸\";float: left;margin-right: 0.25em;color: #696969;}#sk-container-id-12 label.sk-toggleable__label-arrow:hover:before {color: black;}#sk-container-id-12 div.sk-estimator:hover label.sk-toggleable__label-arrow:before {color: black;}#sk-container-id-12 div.sk-toggleable__content {max-height: 0;max-width: 0;overflow: hidden;text-align: left;background-color: #f0f8ff;}#sk-container-id-12 div.sk-toggleable__content pre {margin: 0.2em;color: black;border-radius: 0.25em;background-color: #f0f8ff;}#sk-container-id-12 input.sk-toggleable__control:checked~div.sk-toggleable__content {max-height: 200px;max-width: 100%;overflow: auto;}#sk-container-id-12 input.sk-toggleable__control:checked~label.sk-toggleable__label-arrow:before {content: \"▾\";}#sk-container-id-12 div.sk-estimator input.sk-toggleable__control:checked~label.sk-toggleable__label {background-color: #d4ebff;}#sk-container-id-12 div.sk-label input.sk-toggleable__control:checked~label.sk-toggleable__label {background-color: #d4ebff;}#sk-container-id-12 input.sk-hidden--visually {border: 0;clip: rect(1px 1px 1px 1px);clip: rect(1px, 1px, 1px, 1px);height: 1px;margin: -1px;overflow: hidden;padding: 0;position: absolute;width: 1px;}#sk-container-id-12 div.sk-estimator {font-family: monospace;background-color: #f0f8ff;border: 1px dotted black;border-radius: 0.25em;box-sizing: border-box;margin-bottom: 0.5em;}#sk-container-id-12 div.sk-estimator:hover {background-color: #d4ebff;}#sk-container-id-12 div.sk-parallel-item::after {content: \"\";width: 100%;border-bottom: 1px solid gray;flex-grow: 1;}#sk-container-id-12 div.sk-label:hover label.sk-toggleable__label {background-color: #d4ebff;}#sk-container-id-12 div.sk-serial::before {content: \"\";position: absolute;border-left: 1px solid gray;box-sizing: border-box;top: 0;bottom: 0;left: 50%;z-index: 0;}#sk-container-id-12 div.sk-serial {display: flex;flex-direction: column;align-items: center;background-color: white;padding-right: 0.2em;padding-left: 0.2em;position: relative;}#sk-container-id-12 div.sk-item {position: relative;z-index: 1;}#sk-container-id-12 div.sk-parallel {display: flex;align-items: stretch;justify-content: center;background-color: white;position: relative;}#sk-container-id-12 div.sk-item::before, #sk-container-id-12 div.sk-parallel-item::before {content: \"\";position: absolute;border-left: 1px solid gray;box-sizing: border-box;top: 0;bottom: 0;left: 50%;z-index: -1;}#sk-container-id-12 div.sk-parallel-item {display: flex;flex-direction: column;z-index: 1;position: relative;background-color: white;}#sk-container-id-12 div.sk-parallel-item:first-child::after {align-self: flex-end;width: 50%;}#sk-container-id-12 div.sk-parallel-item:last-child::after {align-self: flex-start;width: 50%;}#sk-container-id-12 div.sk-parallel-item:only-child::after {width: 0;}#sk-container-id-12 div.sk-dashed-wrapped {border: 1px dashed gray;margin: 0 0.4em 0.5em 0.4em;box-sizing: border-box;padding-bottom: 0.4em;background-color: white;}#sk-container-id-12 div.sk-label label {font-family: monospace;font-weight: bold;display: inline-block;line-height: 1.2em;}#sk-container-id-12 div.sk-label-container {text-align: center;}#sk-container-id-12 div.sk-container {/* jupyter's `normalize.less` sets `[hidden] { display: none; }` but bootstrap.min.css set `[hidden] { display: none !important; }` so we also need the `!important` here to be able to override the default hidden behavior on the sphinx rendered scikit-learn.org. See: https://github.com/scikit-learn/scikit-learn/issues/21755 */display: inline-block !important;position: relative;}#sk-container-id-12 div.sk-text-repr-fallback {display: none;}</style><div id=\"sk-container-id-12\" class=\"sk-top-container\"><div class=\"sk-text-repr-fallback\"><pre>BayesSearchCV(cv=5,\n",
       "              estimator=Pipeline(steps=[(&#x27;preprocessor&#x27;,\n",
       "                                         ColumnTransformer(transformers=[(&#x27;num&#x27;,\n",
       "                                                                          Pipeline(steps=[(&#x27;scaler&#x27;,\n",
       "                                                                                           MinMaxScaler())]),\n",
       "                                                                          [&#x27;age&#x27;,\n",
       "                                                                           &#x27;cement&#x27;,\n",
       "                                                                           &#x27;water&#x27;,\n",
       "                                                                           &#x27;superplasticizer&#x27;,\n",
       "                                                                           &#x27;slag&#x27;,\n",
       "                                                                           &#x27;fineaggregate&#x27;])])),\n",
       "                                        (&#x27;modelo&#x27;,\n",
       "                                         GradientBoostingRegressor(random_state=42))]),\n",
       "              n_jobs=-1, random_state=42, scoring=&#x27;neg_root_mean_squared_error&#x27;,\n",
       "              search_spaces={&#x27;modelo__learning_rate&#x27;: [0.01, 0.9],\n",
       "                             &#x27;modelo__max_depth&#x27;: [4, 10],\n",
       "                             &#x27;modelo__min_samples_split&#x27;: [2, 12],\n",
       "                             &#x27;modelo__n_estimators&#x27;: [200, 300]})</pre><b>In a Jupyter environment, please rerun this cell to show the HTML representation or trust the notebook. <br />On GitHub, the HTML representation is unable to render, please try loading this page with nbviewer.org.</b></div><div class=\"sk-container\" hidden><div class=\"sk-item sk-dashed-wrapped\"><div class=\"sk-label-container\"><div class=\"sk-label sk-toggleable\"><input class=\"sk-toggleable__control sk-hidden--visually\" id=\"sk-estimator-id-41\" type=\"checkbox\" ><label for=\"sk-estimator-id-41\" class=\"sk-toggleable__label sk-toggleable__label-arrow\">BayesSearchCV</label><div class=\"sk-toggleable__content\"><pre>BayesSearchCV(cv=5,\n",
       "              estimator=Pipeline(steps=[(&#x27;preprocessor&#x27;,\n",
       "                                         ColumnTransformer(transformers=[(&#x27;num&#x27;,\n",
       "                                                                          Pipeline(steps=[(&#x27;scaler&#x27;,\n",
       "                                                                                           MinMaxScaler())]),\n",
       "                                                                          [&#x27;age&#x27;,\n",
       "                                                                           &#x27;cement&#x27;,\n",
       "                                                                           &#x27;water&#x27;,\n",
       "                                                                           &#x27;superplasticizer&#x27;,\n",
       "                                                                           &#x27;slag&#x27;,\n",
       "                                                                           &#x27;fineaggregate&#x27;])])),\n",
       "                                        (&#x27;modelo&#x27;,\n",
       "                                         GradientBoostingRegressor(random_state=42))]),\n",
       "              n_jobs=-1, random_state=42, scoring=&#x27;neg_root_mean_squared_error&#x27;,\n",
       "              search_spaces={&#x27;modelo__learning_rate&#x27;: [0.01, 0.9],\n",
       "                             &#x27;modelo__max_depth&#x27;: [4, 10],\n",
       "                             &#x27;modelo__min_samples_split&#x27;: [2, 12],\n",
       "                             &#x27;modelo__n_estimators&#x27;: [200, 300]})</pre></div></div></div><div class=\"sk-parallel\"><div class=\"sk-parallel-item\"><div class=\"sk-item\"><div class=\"sk-label-container\"><div class=\"sk-label sk-toggleable\"><input class=\"sk-toggleable__control sk-hidden--visually\" id=\"sk-estimator-id-42\" type=\"checkbox\" ><label for=\"sk-estimator-id-42\" class=\"sk-toggleable__label sk-toggleable__label-arrow\">estimator: Pipeline</label><div class=\"sk-toggleable__content\"><pre>Pipeline(steps=[(&#x27;preprocessor&#x27;,\n",
       "                 ColumnTransformer(transformers=[(&#x27;num&#x27;,\n",
       "                                                  Pipeline(steps=[(&#x27;scaler&#x27;,\n",
       "                                                                   MinMaxScaler())]),\n",
       "                                                  [&#x27;age&#x27;, &#x27;cement&#x27;, &#x27;water&#x27;,\n",
       "                                                   &#x27;superplasticizer&#x27;, &#x27;slag&#x27;,\n",
       "                                                   &#x27;fineaggregate&#x27;])])),\n",
       "                (&#x27;modelo&#x27;, GradientBoostingRegressor(random_state=42))])</pre></div></div></div><div class=\"sk-serial\"><div class=\"sk-item\"><div class=\"sk-serial\"><div class=\"sk-item sk-dashed-wrapped\"><div class=\"sk-label-container\"><div class=\"sk-label sk-toggleable\"><input class=\"sk-toggleable__control sk-hidden--visually\" id=\"sk-estimator-id-43\" type=\"checkbox\" ><label for=\"sk-estimator-id-43\" class=\"sk-toggleable__label sk-toggleable__label-arrow\">preprocessor: ColumnTransformer</label><div class=\"sk-toggleable__content\"><pre>ColumnTransformer(transformers=[(&#x27;num&#x27;,\n",
       "                                 Pipeline(steps=[(&#x27;scaler&#x27;, MinMaxScaler())]),\n",
       "                                 [&#x27;age&#x27;, &#x27;cement&#x27;, &#x27;water&#x27;, &#x27;superplasticizer&#x27;,\n",
       "                                  &#x27;slag&#x27;, &#x27;fineaggregate&#x27;])])</pre></div></div></div><div class=\"sk-parallel\"><div class=\"sk-parallel-item\"><div class=\"sk-item\"><div class=\"sk-label-container\"><div class=\"sk-label sk-toggleable\"><input class=\"sk-toggleable__control sk-hidden--visually\" id=\"sk-estimator-id-44\" type=\"checkbox\" ><label for=\"sk-estimator-id-44\" class=\"sk-toggleable__label sk-toggleable__label-arrow\">num</label><div class=\"sk-toggleable__content\"><pre>[&#x27;age&#x27;, &#x27;cement&#x27;, &#x27;water&#x27;, &#x27;superplasticizer&#x27;, &#x27;slag&#x27;, &#x27;fineaggregate&#x27;]</pre></div></div></div><div class=\"sk-serial\"><div class=\"sk-item\"><div class=\"sk-serial\"><div class=\"sk-item\"><div class=\"sk-estimator sk-toggleable\"><input class=\"sk-toggleable__control sk-hidden--visually\" id=\"sk-estimator-id-45\" type=\"checkbox\" ><label for=\"sk-estimator-id-45\" class=\"sk-toggleable__label sk-toggleable__label-arrow\">MinMaxScaler</label><div class=\"sk-toggleable__content\"><pre>MinMaxScaler()</pre></div></div></div></div></div></div></div></div></div></div><div class=\"sk-item\"><div class=\"sk-estimator sk-toggleable\"><input class=\"sk-toggleable__control sk-hidden--visually\" id=\"sk-estimator-id-46\" type=\"checkbox\" ><label for=\"sk-estimator-id-46\" class=\"sk-toggleable__label sk-toggleable__label-arrow\">GradientBoostingRegressor</label><div class=\"sk-toggleable__content\"><pre>GradientBoostingRegressor(random_state=42)</pre></div></div></div></div></div></div></div></div></div></div></div></div>"
      ],
      "text/plain": [
       "BayesSearchCV(cv=5,\n",
       "              estimator=Pipeline(steps=[('preprocessor',\n",
       "                                         ColumnTransformer(transformers=[('num',\n",
       "                                                                          Pipeline(steps=[('scaler',\n",
       "                                                                                           MinMaxScaler())]),\n",
       "                                                                          ['age',\n",
       "                                                                           'cement',\n",
       "                                                                           'water',\n",
       "                                                                           'superplasticizer',\n",
       "                                                                           'slag',\n",
       "                                                                           'fineaggregate'])])),\n",
       "                                        ('modelo',\n",
       "                                         GradientBoostingRegressor(random_state=42))]),\n",
       "              n_jobs=-1, random_state=42, scoring='neg_root_mean_squared_error',\n",
       "              search_spaces={'modelo__learning_rate': [0.01, 0.9],\n",
       "                             'modelo__max_depth': [4, 10],\n",
       "                             'modelo__min_samples_split': [2, 12],\n",
       "                             'modelo__n_estimators': [200, 300]})"
      ]
     },
     "execution_count": 115,
     "metadata": {},
     "output_type": "execute_result"
    }
   ],
   "source": [
    "colunas_selecionadas = ['age', 'cement', 'water', 'superplasticizer', 'slag', 'fineaggregate']\n",
    "\n",
    "variavel_dependente = 'cs_m_pa'\n",
    "\n",
    "variaveis_independentes = [col for col in colunas_selecionadas if col != variavel_dependente]\n",
    "\n",
    "x = df7[variaveis_independentes]\n",
    "y = df7[variavel_dependente].copy()\n",
    "\n",
    "x_treino, x_teste, y_treino, y_teste = ms.train_test_split(x, y, test_size = 0.2, random_state = 42)\n",
    "\n",
    "transformacao_numerica = Pipeline(steps = [('scaler', MinMaxScaler())]) # Aqui somente está sendo definido o que precisa ser feito\n",
    "                                            # Nome da etapa\n",
    "                                            # O objeto de transformação que será aplicado aos dados\n",
    "                                            \n",
    "preprocessor = ColumnTransformer(transformers = [('num', transformacao_numerica, colunas_selecionadas)])\n",
    "                                                 # Um nome identificando a transformação\n",
    "                                                 # Um objeto transformador ou um Pipeline\n",
    "                                                 # As colunas às quais a transformação será aplicada\n",
    "\n",
    "pipeline_modelo = Pipeline(steps = [('preprocessor', preprocessor),\n",
    "                                    ('modelo', GradientBoostingRegressor(random_state = 42))])\n",
    "\n",
    "params = {'modelo__n_estimators': [200, 300],\n",
    "          'modelo__learning_rate': [0.01, 0.9],\n",
    "          'modelo__max_depth': [4, 10],\n",
    "          'modelo__min_samples_split': [2, 12]}\n",
    "\n",
    "bayesian_modelo = BayesSearchCV(pipeline_modelo,\n",
    "                                search_spaces = params,\n",
    "                                n_iter = 50,  # Número de iterações\n",
    "                                cv = 5,  # Validação cruzada\n",
    "                                n_jobs = -1,  # Usar todos os núcleos\n",
    "                                scoring = 'neg_root_mean_squared_error',  # Métrica de avaliação\n",
    "                                random_state = 42)\n",
    "\n",
    "bayesian_modelo.fit(x_treino, y_treino)"
   ]
  },
  {
   "cell_type": "code",
   "execution_count": 116,
   "id": "96456e68",
   "metadata": {},
   "outputs": [
    {
     "data": {
      "text/html": [
       "<div>\n",
       "<style scoped>\n",
       "    .dataframe tbody tr th:only-of-type {\n",
       "        vertical-align: middle;\n",
       "    }\n",
       "\n",
       "    .dataframe tbody tr th {\n",
       "        vertical-align: top;\n",
       "    }\n",
       "\n",
       "    .dataframe thead th {\n",
       "        text-align: right;\n",
       "    }\n",
       "</style>\n",
       "<table border=\"1\" class=\"dataframe\">\n",
       "  <thead>\n",
       "    <tr style=\"text-align: right;\">\n",
       "      <th></th>\n",
       "      <th>param_modelo__learning_rate</th>\n",
       "      <th>param_modelo__max_depth</th>\n",
       "      <th>param_modelo__n_estimators</th>\n",
       "      <th>params</th>\n",
       "      <th>mean_test_score</th>\n",
       "      <th>std_test_score</th>\n",
       "    </tr>\n",
       "    <tr>\n",
       "      <th>rank_test_score</th>\n",
       "      <th></th>\n",
       "      <th></th>\n",
       "      <th></th>\n",
       "      <th></th>\n",
       "      <th></th>\n",
       "      <th></th>\n",
       "    </tr>\n",
       "  </thead>\n",
       "  <tbody>\n",
       "    <tr>\n",
       "      <th>1</th>\n",
       "      <td>0.16</td>\n",
       "      <td>4</td>\n",
       "      <td>300</td>\n",
       "      <td>{'modelo__learning_rate': 0.16369215394882689,...</td>\n",
       "      <td>-4.58</td>\n",
       "      <td>0.28</td>\n",
       "    </tr>\n",
       "    <tr>\n",
       "      <th>2</th>\n",
       "      <td>0.18</td>\n",
       "      <td>4</td>\n",
       "      <td>300</td>\n",
       "      <td>{'modelo__learning_rate': 0.18417780200737013,...</td>\n",
       "      <td>-4.59</td>\n",
       "      <td>0.31</td>\n",
       "    </tr>\n",
       "    <tr>\n",
       "      <th>3</th>\n",
       "      <td>0.19</td>\n",
       "      <td>4</td>\n",
       "      <td>300</td>\n",
       "      <td>{'modelo__learning_rate': 0.19455060319342127,...</td>\n",
       "      <td>-4.62</td>\n",
       "      <td>0.24</td>\n",
       "    </tr>\n",
       "    <tr>\n",
       "      <th>4</th>\n",
       "      <td>0.17</td>\n",
       "      <td>4</td>\n",
       "      <td>300</td>\n",
       "      <td>{'modelo__learning_rate': 0.16825151160387675,...</td>\n",
       "      <td>-4.64</td>\n",
       "      <td>0.31</td>\n",
       "    </tr>\n",
       "    <tr>\n",
       "      <th>5</th>\n",
       "      <td>0.16</td>\n",
       "      <td>4</td>\n",
       "      <td>300</td>\n",
       "      <td>{'modelo__learning_rate': 0.15865439262181727,...</td>\n",
       "      <td>-4.64</td>\n",
       "      <td>0.27</td>\n",
       "    </tr>\n",
       "  </tbody>\n",
       "</table>\n",
       "</div>"
      ],
      "text/plain": [
       "                param_modelo__learning_rate param_modelo__max_depth param_modelo__n_estimators                                             params  mean_test_score  std_test_score\n",
       "rank_test_score                                                                                                                                                                   \n",
       "1                                      0.16                       4                        300  {'modelo__learning_rate': 0.16369215394882689,...            -4.58            0.28\n",
       "2                                      0.18                       4                        300  {'modelo__learning_rate': 0.18417780200737013,...            -4.59            0.31\n",
       "3                                      0.19                       4                        300  {'modelo__learning_rate': 0.19455060319342127,...            -4.62            0.24\n",
       "4                                      0.17                       4                        300  {'modelo__learning_rate': 0.16825151160387675,...            -4.64            0.31\n",
       "5                                      0.16                       4                        300  {'modelo__learning_rate': 0.15865439262181727,...            -4.64            0.27"
      ]
     },
     "execution_count": 116,
     "metadata": {},
     "output_type": "execute_result"
    }
   ],
   "source": [
    "df_resultado = pd.DataFrame(bayesian_modelo.cv_results_).set_index('rank_test_score').sort_index()\n",
    "df_resultado.loc[:, ~df_resultado.columns.str.contains('split|time')].head()"
   ]
  },
  {
   "cell_type": "code",
   "execution_count": 117,
   "id": "225f384a",
   "metadata": {},
   "outputs": [
    {
     "data": {
      "text/html": [
       "<div>\n",
       "<style scoped>\n",
       "    .dataframe tbody tr th:only-of-type {\n",
       "        vertical-align: middle;\n",
       "    }\n",
       "\n",
       "    .dataframe tbody tr th {\n",
       "        vertical-align: top;\n",
       "    }\n",
       "\n",
       "    .dataframe thead th {\n",
       "        text-align: right;\n",
       "    }\n",
       "</style>\n",
       "<table border=\"1\" class=\"dataframe\">\n",
       "  <thead>\n",
       "    <tr style=\"text-align: right;\">\n",
       "      <th></th>\n",
       "      <th>mae</th>\n",
       "      <th>mape</th>\n",
       "      <th>rmse</th>\n",
       "      <th>r2</th>\n",
       "    </tr>\n",
       "  </thead>\n",
       "  <tbody>\n",
       "    <tr>\n",
       "      <th>0</th>\n",
       "      <td>2.58</td>\n",
       "      <td>9.19%</td>\n",
       "      <td>3.97</td>\n",
       "      <td>0.95</td>\n",
       "    </tr>\n",
       "  </tbody>\n",
       "</table>\n",
       "</div>"
      ],
      "text/plain": [
       "    mae   mape  rmse    r2\n",
       "0  2.58  9.19%  3.97  0.95"
      ]
     },
     "execution_count": 117,
     "metadata": {},
     "output_type": "execute_result"
    }
   ],
   "source": [
    "pipeline_modelo = bayesian_modelo.best_estimator_\n",
    "\n",
    "y_pred = pipeline_modelo.predict(x_teste)\n",
    "\n",
    "ml_error(y_teste, y_pred, desvpad = False)"
   ]
  },
  {
   "cell_type": "code",
   "execution_count": 118,
   "id": "dbb98bb9",
   "metadata": {},
   "outputs": [
    {
     "data": {
      "text/html": [
       "<div>\n",
       "<style scoped>\n",
       "    .dataframe tbody tr th:only-of-type {\n",
       "        vertical-align: middle;\n",
       "    }\n",
       "\n",
       "    .dataframe tbody tr th {\n",
       "        vertical-align: top;\n",
       "    }\n",
       "\n",
       "    .dataframe thead th {\n",
       "        text-align: right;\n",
       "    }\n",
       "</style>\n",
       "<table border=\"1\" class=\"dataframe\">\n",
       "  <thead>\n",
       "    <tr style=\"text-align: right;\">\n",
       "      <th></th>\n",
       "      <th>cement</th>\n",
       "      <th>slag</th>\n",
       "      <th>flyash</th>\n",
       "      <th>water</th>\n",
       "      <th>superplasticizer</th>\n",
       "      <th>coarseaggregate</th>\n",
       "      <th>fineaggregate</th>\n",
       "      <th>age</th>\n",
       "      <th>cs_m_pa</th>\n",
       "    </tr>\n",
       "  </thead>\n",
       "  <tbody>\n",
       "    <tr>\n",
       "      <th>1027</th>\n",
       "      <td>148.50</td>\n",
       "      <td>139.40</td>\n",
       "      <td>108.60</td>\n",
       "      <td>192.70</td>\n",
       "      <td>6.10</td>\n",
       "      <td>892.40</td>\n",
       "      <td>780.00</td>\n",
       "      <td>28</td>\n",
       "      <td>23.70</td>\n",
       "    </tr>\n",
       "    <tr>\n",
       "      <th>1028</th>\n",
       "      <td>159.10</td>\n",
       "      <td>186.70</td>\n",
       "      <td>0.00</td>\n",
       "      <td>175.60</td>\n",
       "      <td>11.30</td>\n",
       "      <td>989.60</td>\n",
       "      <td>788.90</td>\n",
       "      <td>28</td>\n",
       "      <td>32.77</td>\n",
       "    </tr>\n",
       "    <tr>\n",
       "      <th>1029</th>\n",
       "      <td>260.90</td>\n",
       "      <td>100.50</td>\n",
       "      <td>78.30</td>\n",
       "      <td>200.60</td>\n",
       "      <td>8.60</td>\n",
       "      <td>864.50</td>\n",
       "      <td>761.50</td>\n",
       "      <td>28</td>\n",
       "      <td>32.40</td>\n",
       "    </tr>\n",
       "  </tbody>\n",
       "</table>\n",
       "</div>"
      ],
      "text/plain": [
       "      cement   slag  flyash  water  superplasticizer  coarseaggregate  fineaggregate  age  cs_m_pa\n",
       "1027  148.50 139.40  108.60 192.70              6.10           892.40         780.00   28    23.70\n",
       "1028  159.10 186.70    0.00 175.60             11.30           989.60         788.90   28    32.77\n",
       "1029  260.90 100.50   78.30 200.60              8.60           864.50         761.50   28    32.40"
      ]
     },
     "execution_count": 118,
     "metadata": {},
     "output_type": "execute_result"
    }
   ],
   "source": [
    "df1.tail(3)"
   ]
  },
  {
   "cell_type": "code",
   "execution_count": 119,
   "id": "484ca3ec",
   "metadata": {},
   "outputs": [
    {
     "data": {
      "text/plain": [
       "array([23.54222176])"
      ]
     },
     "execution_count": 119,
     "metadata": {},
     "output_type": "execute_result"
    }
   ],
   "source": [
    "dados = pd.DataFrame({'cement': [148.5],\n",
    "                      'slag': [139.40],\n",
    "                      'flyash': [108.60],\n",
    "                      'water': [192.70],\n",
    "                      'superplasticizer': [6.10],\n",
    "                      'coarseaggregate': [892.40],\n",
    "                      'fineaggregate': [780.00],\n",
    "                      'age': [28]})\n",
    "y_pred = pipeline_modelo.predict(dados)\n",
    "y_pred"
   ]
  },
  {
   "cell_type": "markdown",
   "id": "7b7f8f5b-8a35-4873-ab78-3e8bae55bb41",
   "metadata": {},
   "source": [
    "# 9. (Avaliação do algoritmo) Passo 9: Performance do negócio ROI"
   ]
  },
  {
   "cell_type": "markdown",
   "id": "5a66549f-697c-4797-a62f-bcddc451e443",
   "metadata": {},
   "source": [
    "* **MAE:** (Erro Absoluto Médio) calcula a média da diferença absoluta entre os valores previstos (y_pred) e os valores reais (y).  \n",
    "É interpretado como a média das magnitudes dos erros de previsão.  \n",
    "    **Exemplo:** Em média, suas previsões estão a (x) unidades de distância do valor real. Ou seja, seus modelos estão subestimando ou superestimando o valor real em uma média de (x) unidades.\n",
    "    \n",
    "* **MAPE:** (Erro Absoluto Percentual Médio) calcula a média dos erros absolutos relativos (porcentagem).  \n",
    "É interpretado como a média percentual dos erros de previsão em relação aos valores reais.  \n",
    "    **Exemplo:** Em média, suas previsões estão erradas em (x %) em relação ao valor real. Isso significa que, em média, seus modelos estão prevendo valores que são (x %) maiores ou menores que o valor real.\n",
    "\n",
    "* **RMSE:** (Raiz do Erro Quadrático Médio) calcula a raiz quadrada da média das diferenças quadráticas entre os valores reais (y) e previstos (y_pred).  \n",
    "  É interpretado como a magnitude do erro padrão médio.  \n",
    "  **Exemplo:** Em média, o erro das previsões está a (x) unidades do valor real, refletindo a magnitude dos erros de previsão.\n",
    "    \n",
    "* **R²:** (Coeficiente de Determinação) mede a proporção da variância nos valores reais (y) que é explicada pelos valores previstos (y_pred).  \n",
    "  É interpretado como a proporção de variação total que é explicada pelo modelo.  \n",
    "  **Exemplo:** Um R² de (x) significa que o modelo explica (x)% da variabilidade observada nos dados."
   ]
  },
  {
   "cell_type": "code",
   "execution_count": 120,
   "id": "814f83e4",
   "metadata": {},
   "outputs": [],
   "source": [
    "y_pred = pipeline_modelo.predict(df1)"
   ]
  },
  {
   "cell_type": "code",
   "execution_count": 121,
   "id": "df0b19bb-2007-4c1f-84bc-987124d000a9",
   "metadata": {},
   "outputs": [],
   "source": [
    "dados_orig = df1.copy()\n",
    "dados_orig['prediction'] = y_pred\n",
    "dados_orig['prediction'] = dados_orig['prediction'].round(2)\n",
    "pd.options.display.float_format = '{:.2f}'.format"
   ]
  },
  {
   "cell_type": "code",
   "execution_count": 122,
   "id": "cbc242dc",
   "metadata": {},
   "outputs": [
    {
     "data": {
      "text/html": [
       "<div>\n",
       "<style scoped>\n",
       "    .dataframe tbody tr th:only-of-type {\n",
       "        vertical-align: middle;\n",
       "    }\n",
       "\n",
       "    .dataframe tbody tr th {\n",
       "        vertical-align: top;\n",
       "    }\n",
       "\n",
       "    .dataframe thead th {\n",
       "        text-align: right;\n",
       "    }\n",
       "</style>\n",
       "<table border=\"1\" class=\"dataframe\">\n",
       "  <thead>\n",
       "    <tr style=\"text-align: right;\">\n",
       "      <th></th>\n",
       "      <th>cement</th>\n",
       "      <th>slag</th>\n",
       "      <th>flyash</th>\n",
       "      <th>water</th>\n",
       "      <th>superplasticizer</th>\n",
       "      <th>coarseaggregate</th>\n",
       "      <th>fineaggregate</th>\n",
       "      <th>age</th>\n",
       "      <th>cs_m_pa</th>\n",
       "      <th>prediction</th>\n",
       "    </tr>\n",
       "  </thead>\n",
       "  <tbody>\n",
       "    <tr>\n",
       "      <th>0</th>\n",
       "      <td>540.00</td>\n",
       "      <td>0.00</td>\n",
       "      <td>0.00</td>\n",
       "      <td>162.00</td>\n",
       "      <td>2.50</td>\n",
       "      <td>1040.00</td>\n",
       "      <td>676.00</td>\n",
       "      <td>28</td>\n",
       "      <td>79.99</td>\n",
       "      <td>70.98</td>\n",
       "    </tr>\n",
       "    <tr>\n",
       "      <th>1</th>\n",
       "      <td>540.00</td>\n",
       "      <td>0.00</td>\n",
       "      <td>0.00</td>\n",
       "      <td>162.00</td>\n",
       "      <td>2.50</td>\n",
       "      <td>1055.00</td>\n",
       "      <td>676.00</td>\n",
       "      <td>28</td>\n",
       "      <td>61.89</td>\n",
       "      <td>70.98</td>\n",
       "    </tr>\n",
       "    <tr>\n",
       "      <th>2</th>\n",
       "      <td>332.50</td>\n",
       "      <td>142.50</td>\n",
       "      <td>0.00</td>\n",
       "      <td>228.00</td>\n",
       "      <td>0.00</td>\n",
       "      <td>932.00</td>\n",
       "      <td>594.00</td>\n",
       "      <td>270</td>\n",
       "      <td>40.27</td>\n",
       "      <td>40.45</td>\n",
       "    </tr>\n",
       "    <tr>\n",
       "      <th>3</th>\n",
       "      <td>332.50</td>\n",
       "      <td>142.50</td>\n",
       "      <td>0.00</td>\n",
       "      <td>228.00</td>\n",
       "      <td>0.00</td>\n",
       "      <td>932.00</td>\n",
       "      <td>594.00</td>\n",
       "      <td>365</td>\n",
       "      <td>41.05</td>\n",
       "      <td>41.29</td>\n",
       "    </tr>\n",
       "    <tr>\n",
       "      <th>4</th>\n",
       "      <td>198.60</td>\n",
       "      <td>132.40</td>\n",
       "      <td>0.00</td>\n",
       "      <td>192.00</td>\n",
       "      <td>0.00</td>\n",
       "      <td>978.40</td>\n",
       "      <td>825.50</td>\n",
       "      <td>360</td>\n",
       "      <td>44.30</td>\n",
       "      <td>44.03</td>\n",
       "    </tr>\n",
       "  </tbody>\n",
       "</table>\n",
       "</div>"
      ],
      "text/plain": [
       "   cement   slag  flyash  water  superplasticizer  coarseaggregate  fineaggregate  age  cs_m_pa  prediction\n",
       "0  540.00   0.00    0.00 162.00              2.50          1040.00         676.00   28    79.99       70.98\n",
       "1  540.00   0.00    0.00 162.00              2.50          1055.00         676.00   28    61.89       70.98\n",
       "2  332.50 142.50    0.00 228.00              0.00           932.00         594.00  270    40.27       40.45\n",
       "3  332.50 142.50    0.00 228.00              0.00           932.00         594.00  365    41.05       41.29\n",
       "4  198.60 132.40    0.00 192.00              0.00           978.40         825.50  360    44.30       44.03"
      ]
     },
     "execution_count": 122,
     "metadata": {},
     "output_type": "execute_result"
    }
   ],
   "source": [
    "dados_orig.head()"
   ]
  },
  {
   "cell_type": "code",
   "execution_count": 123,
   "id": "c0a65877-7f39-4382-af36-a9782d5637bf",
   "metadata": {
    "tags": []
   },
   "outputs": [],
   "source": [
    "dados_orig_cost = pd.DataFrame()\n",
    "\n",
    "dados_orig_cost['cement_cost'] = dados_orig['cement'] * 12\n",
    "dados_orig_cost['slag_cost'] = dados_orig['slag'] * 15\n",
    "dados_orig_cost['flyash_cost'] = dados_orig['flyash'] * 8\n",
    "dados_orig_cost['water_cost'] = dados_orig['water'] * 5\n",
    "dados_orig_cost['superplasticizer_cost'] = dados_orig['superplasticizer'] * 18\n",
    "dados_orig_cost['coarseaggregate_cost'] = dados_orig['coarseaggregate'] * 12\n",
    "dados_orig_cost['fineaggregate_cost'] = dados_orig['fineaggregate'] * 13\n",
    "dados_orig_cost['age_cost'] = dados_orig['age'] * 5\n",
    "dados_orig_cost['total_cost'] = dados_orig_cost.sum(axis = 1)\n",
    "dados_orig_cost['prediction'] = dados_orig['prediction']"
   ]
  },
  {
   "cell_type": "code",
   "execution_count": 124,
   "id": "d9719a6e",
   "metadata": {},
   "outputs": [
    {
     "data": {
      "text/plain": [
       "Index(['cement', 'slag', 'flyash', 'water', 'superplasticizer',\n",
       "       'coarseaggregate', 'fineaggregate', 'age', 'cs_m_pa'],\n",
       "      dtype='object')"
      ]
     },
     "execution_count": 124,
     "metadata": {},
     "output_type": "execute_result"
    }
   ],
   "source": [
    "df1.columns"
   ]
  },
  {
   "cell_type": "code",
   "execution_count": 125,
   "id": "ef94deac",
   "metadata": {},
   "outputs": [
    {
     "data": {
      "text/html": [
       "<div>\n",
       "<style scoped>\n",
       "    .dataframe tbody tr th:only-of-type {\n",
       "        vertical-align: middle;\n",
       "    }\n",
       "\n",
       "    .dataframe tbody tr th {\n",
       "        vertical-align: top;\n",
       "    }\n",
       "\n",
       "    .dataframe thead th {\n",
       "        text-align: right;\n",
       "    }\n",
       "</style>\n",
       "<table border=\"1\" class=\"dataframe\">\n",
       "  <thead>\n",
       "    <tr style=\"text-align: right;\">\n",
       "      <th></th>\n",
       "      <th>Variável</th>\n",
       "      <th>Custo_unitário</th>\n",
       "    </tr>\n",
       "  </thead>\n",
       "  <tbody>\n",
       "    <tr>\n",
       "      <th>0</th>\n",
       "      <td>cement</td>\n",
       "      <td>12</td>\n",
       "    </tr>\n",
       "    <tr>\n",
       "      <th>1</th>\n",
       "      <td>slag</td>\n",
       "      <td>15</td>\n",
       "    </tr>\n",
       "    <tr>\n",
       "      <th>2</th>\n",
       "      <td>flyash</td>\n",
       "      <td>8</td>\n",
       "    </tr>\n",
       "    <tr>\n",
       "      <th>3</th>\n",
       "      <td>water</td>\n",
       "      <td>5</td>\n",
       "    </tr>\n",
       "    <tr>\n",
       "      <th>4</th>\n",
       "      <td>superplasticizer</td>\n",
       "      <td>18</td>\n",
       "    </tr>\n",
       "    <tr>\n",
       "      <th>5</th>\n",
       "      <td>coarseaggregate</td>\n",
       "      <td>12</td>\n",
       "    </tr>\n",
       "    <tr>\n",
       "      <th>6</th>\n",
       "      <td>fineaggregate</td>\n",
       "      <td>13</td>\n",
       "    </tr>\n",
       "    <tr>\n",
       "      <th>7</th>\n",
       "      <td>age</td>\n",
       "      <td>5</td>\n",
       "    </tr>\n",
       "  </tbody>\n",
       "</table>\n",
       "</div>"
      ],
      "text/plain": [
       "           Variável  Custo_unitário\n",
       "0            cement              12\n",
       "1              slag              15\n",
       "2            flyash               8\n",
       "3             water               5\n",
       "4  superplasticizer              18\n",
       "5   coarseaggregate              12\n",
       "6     fineaggregate              13\n",
       "7               age               5"
      ]
     },
     "execution_count": 125,
     "metadata": {},
     "output_type": "execute_result"
    }
   ],
   "source": [
    "data = {'Variável': ['cement', 'slag', 'flyash', 'water', 'superplasticizer', 'coarseaggregate', 'fineaggregate', 'age'],\n",
    "        'Custo_unitário': [12, 15, 8, 5, 18, 12, 13, 5]}\n",
    "\n",
    "df = pd.DataFrame(data)\n",
    "df"
   ]
  },
  {
   "cell_type": "markdown",
   "id": "94783c09",
   "metadata": {},
   "source": [
    "* Para fins de simulação, foram estabelecidos valores de custo unitário para cada variável."
   ]
  },
  {
   "cell_type": "code",
   "execution_count": 126,
   "id": "1854e887-c534-45d3-8508-4a22531187af",
   "metadata": {
    "tags": []
   },
   "outputs": [
    {
     "data": {
      "text/html": [
       "<div>\n",
       "<style scoped>\n",
       "    .dataframe tbody tr th:only-of-type {\n",
       "        vertical-align: middle;\n",
       "    }\n",
       "\n",
       "    .dataframe tbody tr th {\n",
       "        vertical-align: top;\n",
       "    }\n",
       "\n",
       "    .dataframe thead th {\n",
       "        text-align: right;\n",
       "    }\n",
       "</style>\n",
       "<table border=\"1\" class=\"dataframe\">\n",
       "  <thead>\n",
       "    <tr style=\"text-align: right;\">\n",
       "      <th></th>\n",
       "      <th>cement_cost</th>\n",
       "      <th>slag_cost</th>\n",
       "      <th>flyash_cost</th>\n",
       "      <th>water_cost</th>\n",
       "      <th>superplasticizer_cost</th>\n",
       "      <th>coarseaggregate_cost</th>\n",
       "      <th>fineaggregate_cost</th>\n",
       "      <th>age_cost</th>\n",
       "      <th>total_cost</th>\n",
       "      <th>prediction</th>\n",
       "    </tr>\n",
       "  </thead>\n",
       "  <tbody>\n",
       "    <tr>\n",
       "      <th>0</th>\n",
       "      <td>6480.00</td>\n",
       "      <td>0.00</td>\n",
       "      <td>0.00</td>\n",
       "      <td>810.00</td>\n",
       "      <td>45.00</td>\n",
       "      <td>12480.00</td>\n",
       "      <td>8788.00</td>\n",
       "      <td>140</td>\n",
       "      <td>28743.00</td>\n",
       "      <td>70.98</td>\n",
       "    </tr>\n",
       "    <tr>\n",
       "      <th>1</th>\n",
       "      <td>6480.00</td>\n",
       "      <td>0.00</td>\n",
       "      <td>0.00</td>\n",
       "      <td>810.00</td>\n",
       "      <td>45.00</td>\n",
       "      <td>12660.00</td>\n",
       "      <td>8788.00</td>\n",
       "      <td>140</td>\n",
       "      <td>28923.00</td>\n",
       "      <td>70.98</td>\n",
       "    </tr>\n",
       "    <tr>\n",
       "      <th>2</th>\n",
       "      <td>3990.00</td>\n",
       "      <td>2137.50</td>\n",
       "      <td>0.00</td>\n",
       "      <td>1140.00</td>\n",
       "      <td>0.00</td>\n",
       "      <td>11184.00</td>\n",
       "      <td>7722.00</td>\n",
       "      <td>1350</td>\n",
       "      <td>27523.50</td>\n",
       "      <td>40.45</td>\n",
       "    </tr>\n",
       "    <tr>\n",
       "      <th>3</th>\n",
       "      <td>3990.00</td>\n",
       "      <td>2137.50</td>\n",
       "      <td>0.00</td>\n",
       "      <td>1140.00</td>\n",
       "      <td>0.00</td>\n",
       "      <td>11184.00</td>\n",
       "      <td>7722.00</td>\n",
       "      <td>1825</td>\n",
       "      <td>27998.50</td>\n",
       "      <td>41.29</td>\n",
       "    </tr>\n",
       "    <tr>\n",
       "      <th>4</th>\n",
       "      <td>2383.20</td>\n",
       "      <td>1986.00</td>\n",
       "      <td>0.00</td>\n",
       "      <td>960.00</td>\n",
       "      <td>0.00</td>\n",
       "      <td>11740.80</td>\n",
       "      <td>10731.50</td>\n",
       "      <td>1800</td>\n",
       "      <td>29601.50</td>\n",
       "      <td>44.03</td>\n",
       "    </tr>\n",
       "  </tbody>\n",
       "</table>\n",
       "</div>"
      ],
      "text/plain": [
       "   cement_cost  slag_cost  flyash_cost  water_cost  superplasticizer_cost  coarseaggregate_cost  fineaggregate_cost  age_cost  total_cost  prediction\n",
       "0      6480.00       0.00         0.00      810.00                  45.00              12480.00             8788.00       140    28743.00       70.98\n",
       "1      6480.00       0.00         0.00      810.00                  45.00              12660.00             8788.00       140    28923.00       70.98\n",
       "2      3990.00    2137.50         0.00     1140.00                   0.00              11184.00             7722.00      1350    27523.50       40.45\n",
       "3      3990.00    2137.50         0.00     1140.00                   0.00              11184.00             7722.00      1825    27998.50       41.29\n",
       "4      2383.20    1986.00         0.00      960.00                   0.00              11740.80            10731.50      1800    29601.50       44.03"
      ]
     },
     "execution_count": 126,
     "metadata": {},
     "output_type": "execute_result"
    }
   ],
   "source": [
    "dados_orig_cost.head()"
   ]
  },
  {
   "cell_type": "markdown",
   "id": "be7504ed",
   "metadata": {},
   "source": [
    "* A variável foi atualizada, multiplicando o valor de cada linha pelo custo unitário. Assim, a coluna 'total_cost' agora reflete o custo total de cada item."
   ]
  },
  {
   "cell_type": "code",
   "execution_count": 127,
   "id": "b8b31ff4-cde9-4048-999f-edc520d584b3",
   "metadata": {
    "tags": []
   },
   "outputs": [
    {
     "data": {
      "text/html": [
       "<div>\n",
       "<style scoped>\n",
       "    .dataframe tbody tr th:only-of-type {\n",
       "        vertical-align: middle;\n",
       "    }\n",
       "\n",
       "    .dataframe tbody tr th {\n",
       "        vertical-align: top;\n",
       "    }\n",
       "\n",
       "    .dataframe thead th {\n",
       "        text-align: right;\n",
       "    }\n",
       "</style>\n",
       "<table border=\"1\" class=\"dataframe\">\n",
       "  <thead>\n",
       "    <tr style=\"text-align: right;\">\n",
       "      <th></th>\n",
       "      <th>cs_m_pa_prediction</th>\n",
       "      <th>total_cost</th>\n",
       "    </tr>\n",
       "  </thead>\n",
       "  <tbody>\n",
       "    <tr>\n",
       "      <th>0</th>\n",
       "      <td>0.00-9.99</td>\n",
       "      <td>954320.40</td>\n",
       "    </tr>\n",
       "    <tr>\n",
       "      <th>1</th>\n",
       "      <td>10.00-19.99</td>\n",
       "      <td>4348555.80</td>\n",
       "    </tr>\n",
       "    <tr>\n",
       "      <th>2</th>\n",
       "      <td>20.00-29.99</td>\n",
       "      <td>5404553.20</td>\n",
       "    </tr>\n",
       "    <tr>\n",
       "      <th>3</th>\n",
       "      <td>30.00-39.99</td>\n",
       "      <td>7090778.70</td>\n",
       "    </tr>\n",
       "    <tr>\n",
       "      <th>4</th>\n",
       "      <td>40.00-49.99</td>\n",
       "      <td>4707966.90</td>\n",
       "    </tr>\n",
       "    <tr>\n",
       "      <th>5</th>\n",
       "      <td>50.00-59.99</td>\n",
       "      <td>3319984.50</td>\n",
       "    </tr>\n",
       "    <tr>\n",
       "      <th>6</th>\n",
       "      <td>60.00-69.99</td>\n",
       "      <td>1487034.80</td>\n",
       "    </tr>\n",
       "    <tr>\n",
       "      <th>7</th>\n",
       "      <td>70.00-79.99</td>\n",
       "      <td>620665.40</td>\n",
       "    </tr>\n",
       "  </tbody>\n",
       "</table>\n",
       "</div>"
      ],
      "text/plain": [
       "  cs_m_pa_prediction  total_cost\n",
       "0          0.00-9.99   954320.40\n",
       "1        10.00-19.99  4348555.80\n",
       "2        20.00-29.99  5404553.20\n",
       "3        30.00-39.99  7090778.70\n",
       "4        40.00-49.99  4707966.90\n",
       "5        50.00-59.99  3319984.50\n",
       "6        60.00-69.99  1487034.80\n",
       "7        70.00-79.99   620665.40"
      ]
     },
     "execution_count": 127,
     "metadata": {},
     "output_type": "execute_result"
    }
   ],
   "source": [
    "# Calcular o maior\n",
    "maior_valor = dados_orig_cost['prediction'].max()\n",
    "\n",
    "# Criar os bins\n",
    "bins = list(np.arange(0, maior_valor + 1, 10))\n",
    "\n",
    "# Definir os rótulos das faixas\n",
    "labels = [f'{i:.2f}-{i+9.99:.2f}' for i in range(0, int(maior_valor) - 9, 10)]\n",
    "\n",
    "# Criar uma nova coluna com as faixas\n",
    "dados_orig_cost['cs_m_pa_prediction'] = pd.cut(dados_orig_cost['prediction'], bins = bins, labels = labels)\n",
    "\n",
    "dados_orig_cost[['cs_m_pa_prediction', 'total_cost']].groupby('cs_m_pa_prediction').sum().reset_index()"
   ]
  },
  {
   "cell_type": "markdown",
   "id": "0137b35d",
   "metadata": {},
   "source": [
    "* Na coluna 'cs_m_pa_prediction', as faixas de resistência à compressão (cs_m_pa) foram agrupadas em intervalos de 9,99 de amplitude."
   ]
  },
  {
   "cell_type": "code",
   "execution_count": 128,
   "id": "c4a02a4f-ad6c-4cfc-9cd8-8067a03cc081",
   "metadata": {
    "tags": []
   },
   "outputs": [],
   "source": [
    "intervalos_60_69_aux = dados_orig_cost.loc[dados_orig_cost['cs_m_pa_prediction'] == '60.00-69.99', ['cs_m_pa_prediction', 'total_cost']].sort_values('total_cost', ascending = True)\n",
    "intervalos_60_69 = pd.concat([intervalos_60_69_aux.iloc[0, :], intervalos_60_69_aux.iloc[-1, :]], axis = 1).T\n",
    "intervalos_60_69['variacao_%'] = 1 - (intervalos_60_69['total_cost'].min() / intervalos_60_69['total_cost'].max())\n",
    "\n",
    "intervalos_50_59_aux = dados_orig_cost.loc[dados_orig_cost['cs_m_pa_prediction'] == '50.00-59.99', ['cs_m_pa_prediction', 'total_cost']].sort_values('total_cost', ascending = True)\n",
    "intervalos_50_59 = pd.concat([intervalos_50_59_aux.iloc[0, :], intervalos_50_59_aux.iloc[-1, :]], axis = 1).T\n",
    "intervalos_50_59['variacao_%'] = 1 - (intervalos_50_59['total_cost'].min() / intervalos_50_59['total_cost'].max())\n",
    "\n",
    "intervalos_40_49_aux = dados_orig_cost.loc[dados_orig_cost['cs_m_pa_prediction'] == '40.00-49.99', ['cs_m_pa_prediction', 'total_cost']].sort_values('total_cost', ascending = True)\n",
    "intervalos_40_49 = pd.concat([intervalos_40_49_aux.iloc[0, :], intervalos_40_49_aux.iloc[-1, :]], axis = 1).T\n",
    "intervalos_40_49['variacao_%'] = 1 - (intervalos_40_49['total_cost'].min() / intervalos_40_49['total_cost'].max())\n",
    "\n",
    "intervalos_30_39_aux = dados_orig_cost.loc[dados_orig_cost['cs_m_pa_prediction'] == '30.00-39.99', ['cs_m_pa_prediction', 'total_cost']].sort_values('total_cost', ascending = True)\n",
    "intervalos_30_39 = pd.concat([intervalos_30_39_aux.iloc[0, :], intervalos_30_39_aux.iloc[-1, :]], axis = 1).T\n",
    "intervalos_30_39['variacao_%'] = 1 - (intervalos_30_39['total_cost'].min() / intervalos_30_39['total_cost'].max())\n",
    "\n",
    "intervalos_20_29_aux = dados_orig_cost.loc[dados_orig_cost['cs_m_pa_prediction'] == '20.00-29.99', ['cs_m_pa_prediction', 'total_cost']].sort_values('total_cost', ascending = True)\n",
    "intervalos_20_29 = pd.concat([intervalos_20_29_aux.iloc[0, :], intervalos_20_29_aux.iloc[-1, :]], axis = 1).T\n",
    "intervalos_20_29['variacao_%'] = 1 - (intervalos_20_29['total_cost'].min() / intervalos_20_29['total_cost'].max())\n",
    "\n",
    "intervalos_10_19_aux = dados_orig_cost.loc[dados_orig_cost['cs_m_pa_prediction'] == '10.00-19.99', ['cs_m_pa_prediction', 'total_cost']].sort_values('total_cost', ascending = True)\n",
    "intervalos_10_19 = pd.concat([intervalos_10_19_aux.iloc[0, :], intervalos_10_19_aux.iloc[-1, :]], axis = 1).T\n",
    "intervalos_10_19['variacao_%'] = 1 - (intervalos_10_19['total_cost'].min() / intervalos_10_19['total_cost'].max())\n",
    "\n",
    "intervalos_0_9_aux = dados_orig_cost.loc[dados_orig_cost['cs_m_pa_prediction'] == '0.00-9.99', ['cs_m_pa_prediction', 'total_cost']].sort_values('total_cost', ascending = True)\n",
    "intervalos_0_9 = pd.concat([intervalos_0_9_aux.iloc[0, :], intervalos_0_9_aux.iloc[-1, :]], axis = 1).T\n",
    "intervalos_0_9['variacao_%'] = 1 - (intervalos_0_9['total_cost'].min() / intervalos_0_9['total_cost'].max())"
   ]
  },
  {
   "cell_type": "code",
   "execution_count": 129,
   "id": "3e322eb5-7363-4763-9181-c0be8725777c",
   "metadata": {
    "tags": []
   },
   "outputs": [
    {
     "data": {
      "text/html": [
       "<div>\n",
       "<style scoped>\n",
       "    .dataframe tbody tr th:only-of-type {\n",
       "        vertical-align: middle;\n",
       "    }\n",
       "\n",
       "    .dataframe tbody tr th {\n",
       "        vertical-align: top;\n",
       "    }\n",
       "\n",
       "    .dataframe thead th {\n",
       "        text-align: right;\n",
       "    }\n",
       "</style>\n",
       "<table border=\"1\" class=\"dataframe\">\n",
       "  <thead>\n",
       "    <tr style=\"text-align: right;\">\n",
       "      <th></th>\n",
       "      <th>cs_m_pa_prediction</th>\n",
       "      <th>total_cost</th>\n",
       "      <th>variacao_%</th>\n",
       "    </tr>\n",
       "  </thead>\n",
       "  <tbody>\n",
       "    <tr>\n",
       "      <th>0</th>\n",
       "      <td>0.00-9.99</td>\n",
       "      <td>24936.60</td>\n",
       "      <td>0.14</td>\n",
       "    </tr>\n",
       "    <tr>\n",
       "      <th>1</th>\n",
       "      <td>0.00-9.99</td>\n",
       "      <td>28844.90</td>\n",
       "      <td>0.14</td>\n",
       "    </tr>\n",
       "    <tr>\n",
       "      <th>2</th>\n",
       "      <td>10.00-19.99</td>\n",
       "      <td>25646.00</td>\n",
       "      <td>0.12</td>\n",
       "    </tr>\n",
       "    <tr>\n",
       "      <th>3</th>\n",
       "      <td>10.00-19.99</td>\n",
       "      <td>29073.00</td>\n",
       "      <td>0.12</td>\n",
       "    </tr>\n",
       "    <tr>\n",
       "      <th>4</th>\n",
       "      <td>20.00-29.99</td>\n",
       "      <td>25440.00</td>\n",
       "      <td>0.15</td>\n",
       "    </tr>\n",
       "    <tr>\n",
       "      <th>5</th>\n",
       "      <td>20.00-29.99</td>\n",
       "      <td>29892.50</td>\n",
       "      <td>0.15</td>\n",
       "    </tr>\n",
       "    <tr>\n",
       "      <th>6</th>\n",
       "      <td>30.00-39.99</td>\n",
       "      <td>25530.40</td>\n",
       "      <td>0.15</td>\n",
       "    </tr>\n",
       "    <tr>\n",
       "      <th>7</th>\n",
       "      <td>30.00-39.99</td>\n",
       "      <td>30105.20</td>\n",
       "      <td>0.15</td>\n",
       "    </tr>\n",
       "    <tr>\n",
       "      <th>8</th>\n",
       "      <td>40.00-49.99</td>\n",
       "      <td>25886.00</td>\n",
       "      <td>0.15</td>\n",
       "    </tr>\n",
       "    <tr>\n",
       "      <th>9</th>\n",
       "      <td>40.00-49.99</td>\n",
       "      <td>30629.90</td>\n",
       "      <td>0.15</td>\n",
       "    </tr>\n",
       "    <tr>\n",
       "      <th>10</th>\n",
       "      <td>50.00-59.99</td>\n",
       "      <td>26044.00</td>\n",
       "      <td>0.14</td>\n",
       "    </tr>\n",
       "    <tr>\n",
       "      <th>11</th>\n",
       "      <td>50.00-59.99</td>\n",
       "      <td>30230.20</td>\n",
       "      <td>0.14</td>\n",
       "    </tr>\n",
       "    <tr>\n",
       "      <th>12</th>\n",
       "      <td>60.00-69.99</td>\n",
       "      <td>27228.20</td>\n",
       "      <td>0.11</td>\n",
       "    </tr>\n",
       "    <tr>\n",
       "      <th>13</th>\n",
       "      <td>60.00-69.99</td>\n",
       "      <td>30545.20</td>\n",
       "      <td>0.11</td>\n",
       "    </tr>\n",
       "  </tbody>\n",
       "</table>\n",
       "</div>"
      ],
      "text/plain": [
       "   cs_m_pa_prediction total_cost  variacao_%\n",
       "0           0.00-9.99   24936.60        0.14\n",
       "1           0.00-9.99   28844.90        0.14\n",
       "2         10.00-19.99   25646.00        0.12\n",
       "3         10.00-19.99   29073.00        0.12\n",
       "4         20.00-29.99   25440.00        0.15\n",
       "5         20.00-29.99   29892.50        0.15\n",
       "6         30.00-39.99   25530.40        0.15\n",
       "7         30.00-39.99   30105.20        0.15\n",
       "8         40.00-49.99   25886.00        0.15\n",
       "9         40.00-49.99   30629.90        0.15\n",
       "10        50.00-59.99   26044.00        0.14\n",
       "11        50.00-59.99   30230.20        0.14\n",
       "12        60.00-69.99   27228.20        0.11\n",
       "13        60.00-69.99   30545.20        0.11"
      ]
     },
     "execution_count": 129,
     "metadata": {},
     "output_type": "execute_result"
    }
   ],
   "source": [
    "resultado = pd.concat([intervalos_0_9, intervalos_10_19, intervalos_20_29, intervalos_30_39, intervalos_40_49, intervalos_50_59, intervalos_60_69], axis = 0)\n",
    "resultado.reset_index(drop = True)"
   ]
  },
  {
   "cell_type": "markdown",
   "id": "49c70dc0",
   "metadata": {},
   "source": [
    "* Na tabela acima, são apresentadas as diferenças percentuais entre os valores de cs_m_pa correspondentes a cada intervalo. Por exemplo, para a faixa entre 10.00-19.99, os custos variam de 25646,00 a 29073,00, resultando em uma diferença de 12% entre o maior e o menor valor de custo. Este padrão é seguido para os demais intervalos."
   ]
  },
  {
   "cell_type": "code",
   "execution_count": 130,
   "id": "58e0be26",
   "metadata": {},
   "outputs": [],
   "source": [
    "#Salvando o modelo treinado em Pickle\n",
    "pickle.dump(pipeline_modelo, open('/home/leonardo/projetos_/qualidade_concreto_DNC/Deploy_DNC/fastapi/modelo/modelo_treinado.pkl', 'wb'))"
   ]
  },
  {
   "cell_type": "markdown",
   "id": "3bb72474-dace-441c-acb7-7c38d5b05e19",
   "metadata": {},
   "source": [
    "# 10. (Modelo em produção) Passo 10 Modelo em produção"
   ]
  },
  {
   "cell_type": "markdown",
   "id": "d2e06051-8698-4fbf-b140-c6fe54e1f737",
   "metadata": {
    "tags": []
   },
   "source": [
    "### 10.1 Classe do projeto (salvar como script.py)"
   ]
  },
  {
   "cell_type": "code",
   "execution_count": 131,
   "id": "5bddff14",
   "metadata": {},
   "outputs": [],
   "source": [
    "import pickle\n",
    "import pandas                                  as pd\n",
    "import numpy                                   as np\n",
    "\n",
    "class Projeto:\n",
    "    def __init__(self):\n",
    "        self.home_path = '/home/leonardo/projetos_/qualidade_concreto/transformacoes'\n",
    "        self.age_mms = pickle.load(open(self.home_path + 'age_mms.pkl', 'rb'))\n",
    "        self.cement_mms = pickle.load(open(self.home_path + 'cement_mms.pkl', 'rb'))\n",
    "        self.coarseaggregate_mms = pickle.load(open(self.home_path + 'coarseaggregate_mms.pkl', 'rb'))\n",
    "        self.fineaggregate_mms = pickle.load(open(self.home_path + 'fineaggregate_mms.pkl', 'rb'))\n",
    "        self.flyash_mms = pickle.load(open(self.home_path + 'flyash_mms.pkl', 'rb'))\n",
    "        self.slag_mms = pickle.load(open(self.home_path + 'slag_mms.pkl', 'rb'))\n",
    "        self.superplasticizer_mms = pickle.load(open(self.home_path + 'superplasticizer_mms.pkl', 'rb'))\n",
    "        self.water_mms = pickle.load(open(self.home_path + 'water_mms.pkl', 'rb'))\n",
    "\n",
    "    def transformacao_dos_dados(self, df5):\n",
    "        df5['age'] = self.age_mms.transform(df5[['age']].values)\n",
    "        df5['cement'] = self.cement_mms.transform(df5[['cement']].values)\n",
    "        df5['coarseaggregate'] = self.coarseaggregate_mms.transform(df5[['coarseaggregate']].values)\n",
    "        df5['fineaggregate'] = self.fineaggregate_mms.transform(df5[['fineaggregate']].values)\n",
    "        df5['flyash'] = self.flyash_mms.transform(df5[['flyash']].values)\n",
    "        df5['slag'] = self.slag_mms.transform(df5[['slag']].values)\n",
    "        df5['superplasticizer'] = self.superplasticizer_mms.transform(df5[['superplasticizer']].values)\n",
    "        df5['water'] = self.water_mms.transform(df5[['water']].values)\n",
    "\n",
    "        #Colunas selecionadas a partir a importância das variáveis\n",
    "        colunas_selecionadas = ['cement', 'age']\n",
    "        return df5[colunas_selecionadas]\n",
    "\n",
    "    def get_prediction(self, modelo, dados_original, dados_teste):\n",
    "        pred = modelo.predict(dados_teste)\n",
    "        dados_original['Score'] = np.expm1(pred)\n",
    "        return dados_original.to_json(orient = 'records', date_format = 'iso')"
   ]
  },
  {
   "cell_type": "markdown",
   "id": "051c5731",
   "metadata": {},
   "source": [
    "### 10.2 Criar API (salvar como handler.py)"
   ]
  },
  {
   "cell_type": "code",
   "execution_count": 132,
   "id": "c4b4343e-68bf-490a-9f18-fbcf127cb238",
   "metadata": {},
   "outputs": [
    {
     "ename": "ModuleNotFoundError",
     "evalue": "No module named 'flask'",
     "output_type": "error",
     "traceback": [
      "\u001b[0;31m---------------------------------------------------------------------------\u001b[0m",
      "\u001b[0;31mModuleNotFoundError\u001b[0m                       Traceback (most recent call last)",
      "Cell \u001b[0;32mIn[132], line 3\u001b[0m\n\u001b[1;32m      1\u001b[0m \u001b[38;5;28;01mimport\u001b[39;00m \u001b[38;5;21;01mpickle\u001b[39;00m\n\u001b[1;32m      2\u001b[0m \u001b[38;5;28;01mimport\u001b[39;00m \u001b[38;5;21;01mpandas\u001b[39;00m \u001b[38;5;28;01mas\u001b[39;00m \u001b[38;5;21;01mpd\u001b[39;00m\n\u001b[0;32m----> 3\u001b[0m \u001b[38;5;28;01mfrom\u001b[39;00m \u001b[38;5;21;01mflask\u001b[39;00m \u001b[38;5;28;01mimport\u001b[39;00m Flask, request, Response\n\u001b[1;32m      5\u001b[0m \u001b[38;5;66;03m#Diretório onde está salvo a API handler.py\u001b[39;00m\n\u001b[1;32m      6\u001b[0m \u001b[38;5;66;03m#Nome do arquivo.py\u001b[39;00m\n\u001b[1;32m      7\u001b[0m \u001b[38;5;66;03m#Nome da classe que foi criada dentro do arquivo.py\u001b[39;00m\n\u001b[1;32m      8\u001b[0m \n\u001b[1;32m      9\u001b[0m \u001b[38;5;66;03m#from Diretório.arquivo        import classe\u001b[39;00m\n\u001b[1;32m     10\u001b[0m \u001b[38;5;28;01mfrom\u001b[39;00m \u001b[38;5;21;01mscript\u001b[39;00m \u001b[38;5;28;01mimport\u001b[39;00m Projeto\n",
      "\u001b[0;31mModuleNotFoundError\u001b[0m: No module named 'flask'"
     ]
    }
   ],
   "source": [
    "import pickle\n",
    "import pandas as pd\n",
    "from flask import Flask, request, Response\n",
    "\n",
    "#Diretório onde está salvo a API handler.py\n",
    "#Nome do arquivo.py\n",
    "#Nome da classe que foi criada dentro do arquivo.py\n",
    "\n",
    "#from Diretório.arquivo        import classe\n",
    "from script import Projeto\n",
    "\n",
    "# Carregando o modelo treinado usando pickle\n",
    "modelo = pickle.load(open('/home/leonardo/projetos_/qualidade_concreto/modelo/modelo_treinado.pkl', 'rb'))\n",
    "\n",
    "app = Flask(__name__)\n",
    "\n",
    "@app.route('/predict', methods = ['POST'])\n",
    "def predict():\n",
    "    teste_json = request.get_json() #Recebe um arquivo JSON a partir da request\n",
    "\n",
    "    if teste_json:  #Se o teste_json for diferente de vazio, ou seja, se foi carregado algum dado\n",
    "        #Verifica se o arquivo passado é um tipo de dicionário e se sim, foi enviado um arquivo com somente uma linha\n",
    "        if isinstance(teste_json, dict):\n",
    "            #Cria um dataframe e para isso é necessário indicar no Pandas qual é o nº da linha inicial, nesta caso, 0\n",
    "            dados_originais = pd.DataFrame(teste_json, index = [0])\n",
    "        else:\n",
    "            #Se não for é um dicionário, foi enviado um arquivo com mais de uma linha\n",
    "            dados_originais = pd.DataFrame(teste_json, columns = teste_json[0].keys())\n",
    "\n",
    "        #Instanciando a classe do projeto\n",
    "        pipeline = Projeto()\n",
    "\n",
    "        #Transformação dos dados\n",
    "        df5 = pipeline.transformacao_dos_dados(dados_originais)\n",
    "        \n",
    "        #predição\n",
    "        df_resposta = pipeline.get_prediction(modelo, dados_originais, df5)\n",
    "        \n",
    "        return df_resposta\n",
    "    else:\n",
    "        return Response('{}', status = 200, mimetype = 'application/json')\n",
    "\n",
    "if __name__ == '__main__':\n",
    "    #Dizer para endpoint rodar no localhost (rodando na máquina)\n",
    "    #port = os.environ.get('PORT', 5000)\n",
    "    #app.run('0.0.0.0', port = port)\n",
    "    app.run('0.0.0.0', debug = True)"
   ]
  },
  {
   "cell_type": "markdown",
   "id": "d078860c",
   "metadata": {},
   "source": [
    "### 10.3 Testar a API"
   ]
  },
  {
   "cell_type": "code",
   "execution_count": null,
   "id": "605b156f",
   "metadata": {},
   "outputs": [],
   "source": [
    "import requests\n",
    "\n",
    "#Carregando os dados para teste\n",
    "df_teste = df1.copy()"
   ]
  },
  {
   "cell_type": "code",
   "execution_count": null,
   "id": "6b426637",
   "metadata": {},
   "outputs": [
    {
     "data": {
      "text/html": [
       "<div>\n",
       "<style scoped>\n",
       "    .dataframe tbody tr th:only-of-type {\n",
       "        vertical-align: middle;\n",
       "    }\n",
       "\n",
       "    .dataframe tbody tr th {\n",
       "        vertical-align: top;\n",
       "    }\n",
       "\n",
       "    .dataframe thead th {\n",
       "        text-align: right;\n",
       "    }\n",
       "</style>\n",
       "<table border=\"1\" class=\"dataframe\">\n",
       "  <thead>\n",
       "    <tr style=\"text-align: right;\">\n",
       "      <th></th>\n",
       "      <th>cement</th>\n",
       "      <th>slag</th>\n",
       "      <th>flyash</th>\n",
       "      <th>water</th>\n",
       "      <th>superplasticizer</th>\n",
       "      <th>coarseaggregate</th>\n",
       "      <th>fineaggregate</th>\n",
       "      <th>age</th>\n",
       "    </tr>\n",
       "  </thead>\n",
       "  <tbody>\n",
       "    <tr>\n",
       "      <th>995</th>\n",
       "      <td>158.60</td>\n",
       "      <td>148.90</td>\n",
       "      <td>116.00</td>\n",
       "      <td>175.10</td>\n",
       "      <td>15.00</td>\n",
       "      <td>953.30</td>\n",
       "      <td>719.70</td>\n",
       "      <td>28</td>\n",
       "    </tr>\n",
       "    <tr>\n",
       "      <th>507</th>\n",
       "      <td>424.00</td>\n",
       "      <td>22.00</td>\n",
       "      <td>132.00</td>\n",
       "      <td>178.00</td>\n",
       "      <td>8.50</td>\n",
       "      <td>822.00</td>\n",
       "      <td>750.00</td>\n",
       "      <td>28</td>\n",
       "    </tr>\n",
       "    <tr>\n",
       "      <th>334</th>\n",
       "      <td>275.10</td>\n",
       "      <td>0.00</td>\n",
       "      <td>121.40</td>\n",
       "      <td>159.50</td>\n",
       "      <td>9.90</td>\n",
       "      <td>1053.60</td>\n",
       "      <td>777.50</td>\n",
       "      <td>3</td>\n",
       "    </tr>\n",
       "    <tr>\n",
       "      <th>848</th>\n",
       "      <td>252.00</td>\n",
       "      <td>97.00</td>\n",
       "      <td>76.00</td>\n",
       "      <td>194.00</td>\n",
       "      <td>8.00</td>\n",
       "      <td>835.00</td>\n",
       "      <td>821.00</td>\n",
       "      <td>28</td>\n",
       "    </tr>\n",
       "    <tr>\n",
       "      <th>294</th>\n",
       "      <td>168.90</td>\n",
       "      <td>42.20</td>\n",
       "      <td>124.30</td>\n",
       "      <td>158.30</td>\n",
       "      <td>10.80</td>\n",
       "      <td>1080.80</td>\n",
       "      <td>796.20</td>\n",
       "      <td>3</td>\n",
       "    </tr>\n",
       "  </tbody>\n",
       "</table>\n",
       "</div>"
      ],
      "text/plain": [
       "     cement   slag  flyash  water  superplasticizer  coarseaggregate  fineaggregate  age\n",
       "995  158.60 148.90  116.00 175.10             15.00           953.30         719.70   28\n",
       "507  424.00  22.00  132.00 178.00              8.50           822.00         750.00   28\n",
       "334  275.10   0.00  121.40 159.50              9.90          1053.60         777.50    3\n",
       "848  252.00  97.00   76.00 194.00              8.00           835.00         821.00   28\n",
       "294  168.90  42.20  124.30 158.30             10.80          1080.80         796.20    3"
      ]
     },
     "execution_count": 71,
     "metadata": {},
     "output_type": "execute_result"
    }
   ],
   "source": [
    "df_teste = df_teste.drop('cs_m_pa', axis = 1).head()\n",
    "df_teste"
   ]
  },
  {
   "cell_type": "code",
   "execution_count": null,
   "id": "c5f301f9",
   "metadata": {},
   "outputs": [
    {
     "data": {
      "text/plain": [
       "'[{\"cement\": 158.6, \"slag\": 148.9, \"flyash\": 116.0, \"water\": 175.1, \"superplasticizer\": 15.0, \"coarseaggregate\": 953.3, \"fineaggregate\": 719.7, \"age\": 28}, {\"cement\": 424.0, \"slag\": 22.0, \"flyash\": 132.0, \"water\": 178.0, \"superplasticizer\": 8.5, \"coarseaggregate\": 822.0, \"fineaggregate\": 750.0, \"age\": 28}, {\"cement\": 275.1, \"slag\": 0.0, \"flyash\": 121.4, \"water\": 159.5, \"superplasticizer\": 9.9, \"coarseaggregate\": 1053.6, \"fineaggregate\": 777.5, \"age\": 3}, {\"cement\": 252.0, \"slag\": 97.0, \"flyash\": 76.0, \"water\": 194.0, \"superplasticizer\": 8.0, \"coarseaggregate\": 835.0, \"fineaggregate\": 821.0, \"age\": 28}, {\"cement\": 168.9, \"slag\": 42.2, \"flyash\": 124.3, \"water\": 158.3, \"superplasticizer\": 10.8, \"coarseaggregate\": 1080.8, \"fineaggregate\": 796.2, \"age\": 3}]'"
      ]
     },
     "execution_count": 72,
     "metadata": {},
     "output_type": "execute_result"
    }
   ],
   "source": [
    "import json\n",
    "\n",
    "#Convertendo o dataframe em formato JSON\n",
    "data_json = json.dumps(df_teste.to_dict(orient = 'records')) \n",
    "data_json"
   ]
  },
  {
   "cell_type": "markdown",
   "id": "cc7f7961",
   "metadata": {},
   "source": [
    "### Para colocar a API \"de pé\", digitar no terminal no nome da API, neste caso, python api_handler.py"
   ]
  },
  {
   "cell_type": "code",
   "execution_count": null,
   "id": "603344c9",
   "metadata": {},
   "outputs": [
    {
     "name": "stdout",
     "output_type": "stream",
     "text": [
      "Status Code 200\n"
     ]
    }
   ],
   "source": [
    "#Chamando a API\n",
    "import json\n",
    "\n",
    "data_json = json.dumps(df_teste.to_dict(orient = 'records')) #Convertendo o dataframe em formato JSON\n",
    "#url = 'https://health-insurance-ixwn.onrender.com/predict' #Este é o formato de endereço a de um servidor na nuvem\n",
    "#url = 'https://qualidade-concreto.onrender.com/predict'\n",
    "url = 'http://0.0.0.0:5000/predict' #Endpoint -> 0.0.0.0 é a máquina local e :5000 é a porta padrão da biblioteca flask\n",
    "header = {'Content-type': 'application/json'} #Indica para o API qual tipo de dado ele está recebendo\n",
    "r = requests.post(url, data = data_json, headers = header)\n",
    "print('Status Code {}'.format(r.status_code))"
   ]
  },
  {
   "cell_type": "code",
   "execution_count": null,
   "id": "77fb12ee",
   "metadata": {},
   "outputs": [
    {
     "data": {
      "text/html": [
       "<div>\n",
       "<style scoped>\n",
       "    .dataframe tbody tr th:only-of-type {\n",
       "        vertical-align: middle;\n",
       "    }\n",
       "\n",
       "    .dataframe tbody tr th {\n",
       "        vertical-align: top;\n",
       "    }\n",
       "\n",
       "    .dataframe thead th {\n",
       "        text-align: right;\n",
       "    }\n",
       "</style>\n",
       "<table border=\"1\" class=\"dataframe\">\n",
       "  <thead>\n",
       "    <tr style=\"text-align: right;\">\n",
       "      <th></th>\n",
       "      <th>cement</th>\n",
       "      <th>slag</th>\n",
       "      <th>flyash</th>\n",
       "      <th>water</th>\n",
       "      <th>superplasticizer</th>\n",
       "      <th>coarseaggregate</th>\n",
       "      <th>fineaggregate</th>\n",
       "      <th>age</th>\n",
       "      <th>Score</th>\n",
       "    </tr>\n",
       "  </thead>\n",
       "  <tbody>\n",
       "    <tr>\n",
       "      <th>0</th>\n",
       "      <td>158.60</td>\n",
       "      <td>148.90</td>\n",
       "      <td>116.00</td>\n",
       "      <td>175.10</td>\n",
       "      <td>15.00</td>\n",
       "      <td>953.30</td>\n",
       "      <td>719.70</td>\n",
       "      <td>28</td>\n",
       "      <td>27.41</td>\n",
       "    </tr>\n",
       "    <tr>\n",
       "      <th>1</th>\n",
       "      <td>424.00</td>\n",
       "      <td>22.00</td>\n",
       "      <td>132.00</td>\n",
       "      <td>178.00</td>\n",
       "      <td>8.50</td>\n",
       "      <td>822.00</td>\n",
       "      <td>750.00</td>\n",
       "      <td>28</td>\n",
       "      <td>61.50</td>\n",
       "    </tr>\n",
       "    <tr>\n",
       "      <th>2</th>\n",
       "      <td>275.10</td>\n",
       "      <td>0.00</td>\n",
       "      <td>121.40</td>\n",
       "      <td>159.50</td>\n",
       "      <td>9.90</td>\n",
       "      <td>1053.60</td>\n",
       "      <td>777.50</td>\n",
       "      <td>3</td>\n",
       "      <td>23.19</td>\n",
       "    </tr>\n",
       "    <tr>\n",
       "      <th>3</th>\n",
       "      <td>252.00</td>\n",
       "      <td>97.00</td>\n",
       "      <td>76.00</td>\n",
       "      <td>194.00</td>\n",
       "      <td>8.00</td>\n",
       "      <td>835.00</td>\n",
       "      <td>821.00</td>\n",
       "      <td>28</td>\n",
       "      <td>33.44</td>\n",
       "    </tr>\n",
       "    <tr>\n",
       "      <th>4</th>\n",
       "      <td>168.90</td>\n",
       "      <td>42.20</td>\n",
       "      <td>124.30</td>\n",
       "      <td>158.30</td>\n",
       "      <td>10.80</td>\n",
       "      <td>1080.80</td>\n",
       "      <td>796.20</td>\n",
       "      <td>3</td>\n",
       "      <td>7.74</td>\n",
       "    </tr>\n",
       "  </tbody>\n",
       "</table>\n",
       "</div>"
      ],
      "text/plain": [
       "   cement   slag  flyash  water  superplasticizer  coarseaggregate  fineaggregate  age  Score\n",
       "0  158.60 148.90  116.00 175.10             15.00           953.30         719.70   28  27.41\n",
       "1  424.00  22.00  132.00 178.00              8.50           822.00         750.00   28  61.50\n",
       "2  275.10   0.00  121.40 159.50              9.90          1053.60         777.50    3  23.19\n",
       "3  252.00  97.00   76.00 194.00              8.00           835.00         821.00   28  33.44\n",
       "4  168.90  42.20  124.30 158.30             10.80          1080.80         796.20    3   7.74"
      ]
     },
     "execution_count": 74,
     "metadata": {},
     "output_type": "execute_result"
    }
   ],
   "source": [
    "pd.DataFrame(r.json(), columns = r.json()[0].keys())"
   ]
  }
 ],
 "metadata": {
  "environment": {
   "kernel": "conda-root-py",
   "name": "workbench-notebooks.m117",
   "type": "gcloud",
   "uri": "us-docker.pkg.dev/deeplearning-platform-release/gcr.io/workbench-notebooks:m117"
  },
  "kernelspec": {
   "display_name": "Python 3 (ipykernel)",
   "language": "python",
   "name": "python3"
  },
  "language_info": {
   "codemirror_mode": {
    "name": "ipython",
    "version": 3
   },
   "file_extension": ".py",
   "mimetype": "text/x-python",
   "name": "python",
   "nbconvert_exporter": "python",
   "pygments_lexer": "ipython3",
   "version": "3.9.16"
  }
 },
 "nbformat": 4,
 "nbformat_minor": 5
}
