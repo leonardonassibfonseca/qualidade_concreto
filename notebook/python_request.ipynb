{
 "cells": [
  {
   "cell_type": "code",
   "execution_count": 2,
   "metadata": {},
   "outputs": [],
   "source": [
    "import  json\n",
    "import requests\n",
    "import pandas as pd"
   ]
  },
  {
   "cell_type": "code",
   "execution_count": 5,
   "metadata": {},
   "outputs": [
    {
     "data": {
      "text/plain": [
       "<Response [200]>"
      ]
     },
     "execution_count": 5,
     "metadata": {},
     "output_type": "execute_result"
    }
   ],
   "source": [
    "URL = 'http://127.0.0.1:5000/predict'\n",
    "df_input = pd.DataFrame({'cement': [389.9],\n",
    "                         'slag': [189.0],\n",
    "                         'flyash': [0.0],\n",
    "                         'water': [145.9],\n",
    "                         'superplasticizer': [22.0],\n",
    "                         'coarseaggregate': [944.7],\n",
    "                         'fineaggregate': [755.8],\n",
    "                         'age': [91]})\n",
    "\n",
    "df_input\n",
    "json_input = df_input.to_dict(orient = 'records')\n",
    "resposta = requests.post(URL, json = json_input)\n",
    "resposta"
   ]
  },
  {
   "cell_type": "code",
   "execution_count": 7,
   "metadata": {},
   "outputs": [
    {
     "data": {
      "text/plain": [
       "{'prediction': [82.27829423166533]}"
      ]
     },
     "execution_count": 7,
     "metadata": {},
     "output_type": "execute_result"
    }
   ],
   "source": [
    "resposta.json()"
   ]
  }
 ],
 "metadata": {
  "kernelspec": {
   "display_name": "qualidade_concreto_",
   "language": "python",
   "name": "python3"
  },
  "language_info": {
   "codemirror_mode": {
    "name": "ipython",
    "version": 3
   },
   "file_extension": ".py",
   "mimetype": "text/x-python",
   "name": "python",
   "nbconvert_exporter": "python",
   "pygments_lexer": "ipython3",
   "version": "3.9.0"
  }
 },
 "nbformat": 4,
 "nbformat_minor": 2
}
