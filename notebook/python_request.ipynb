{
 "cells": [
  {
   "cell_type": "code",
   "execution_count": 1,
   "metadata": {},
   "outputs": [],
   "source": [
    "import pandas as pd\n",
    "import requests\n",
    "import json"
   ]
  },
  {
   "cell_type": "code",
   "execution_count": 4,
   "metadata": {},
   "outputs": [
    {
     "name": "stdout",
     "output_type": "stream",
     "text": [
      "{'predictions': [23.542221758629115]}\n"
     ]
    },
    {
     "ename": "",
     "evalue": "",
     "output_type": "error",
     "traceback": [
      "\u001b[1;31mThe Kernel crashed while executing code in the current cell or a previous cell. \n",
      "\u001b[1;31mPlease review the code in the cell(s) to identify a possible cause of the failure. \n",
      "\u001b[1;31mClick <a href='https://aka.ms/vscodeJupyterKernelCrash'>here</a> for more info. \n",
      "\u001b[1;31mView Jupyter <a href='command:jupyter.viewOutput'>log</a> for further details."
     ]
    }
   ],
   "source": [
    "# URL da API (ajuste para a porta correta)\n",
    "URL = 'http://127.0.0.1:8000/predict'\n",
    "\n",
    "# Criando o DataFrame\n",
    "df_input = pd.DataFrame({'cement': [148.5],\n",
    "                         'slag': [139.40],\n",
    "                         'flyash': [108.60],\n",
    "                         'water': [192.70],\n",
    "                         'superplasticizer': [6.10],\n",
    "                         'coarseaggregate': [892.40],\n",
    "                         'fineaggregate': [780.00],\n",
    "                         'age': [28]})\n",
    "\n",
    "# Convertendo o DataFrame para dicionário\n",
    "json_input = df_input.to_dict(orient = 'records')\n",
    "\n",
    "# Enviando a requisição POST\n",
    "resposta = requests.post(URL, json = json_input)\n",
    "\n",
    "# Verificando se a requisição foi bem-sucedida\n",
    "if resposta.status_code == 200:\n",
    "    # Retornando a resposta JSON\n",
    "    print(resposta.json())\n",
    "else:\n",
    "    print(f'Erro: {resposta.status_code}')"
   ]
  },
  {
   "cell_type": "code",
   "execution_count": 24,
   "metadata": {},
   "outputs": [
    {
     "data": {
      "text/plain": [
       "{'data': [{'age': 60, 'bmi': 36.005, 'children': 0, 'smoker': 'no'},\n",
       "  {'age': 21, 'bmi': 21.89, 'children': 2, 'smoker': 'yes'},\n",
       "  {'age': 24, 'bmi': 29.83, 'children': 0, 'smoker': 'no'}]}"
      ]
     },
     "execution_count": 24,
     "metadata": {},
     "output_type": "execute_result"
    }
   ],
   "source": []
  },
  {
   "cell_type": "code",
   "execution_count": 26,
   "metadata": {},
   "outputs": [
    {
     "data": {
      "text/plain": [
       "{'prediction': [14096.462798678689, 15699.921013701, 4174.097716987516]}"
      ]
     },
     "execution_count": 26,
     "metadata": {},
     "output_type": "execute_result"
    }
   ],
   "source": []
  },
  {
   "cell_type": "code",
   "execution_count": null,
   "metadata": {},
   "outputs": [],
   "source": []
  },
  {
   "cell_type": "code",
   "execution_count": null,
   "metadata": {},
   "outputs": [],
   "source": []
  },
  {
   "cell_type": "code",
   "execution_count": null,
   "metadata": {},
   "outputs": [],
   "source": []
  },
  {
   "cell_type": "code",
   "execution_count": null,
   "metadata": {},
   "outputs": [],
   "source": []
  }
 ],
 "metadata": {
  "kernelspec": {
   "display_name": "deployment",
   "language": "python",
   "name": "python3"
  },
  "language_info": {
   "codemirror_mode": {
    "name": "ipython",
    "version": 3
   },
   "file_extension": ".py",
   "mimetype": "text/x-python",
   "name": "python",
   "nbconvert_exporter": "python",
   "pygments_lexer": "ipython3",
   "version": "3.9.16"
  }
 },
 "nbformat": 4,
 "nbformat_minor": 2
}
